{
 "cells": [
  {
   "cell_type": "code",
   "execution_count": 42,
   "metadata": {},
   "outputs": [],
   "source": [
    "import numpy as np\n",
    "import pandas as pd\n",
    "from scipy.stats import mvn, norm, gaussian_kde\n",
    "from scipy.optimize import fsolve\n",
    "# import seaborn as sns\n",
    "from scipy import integrate\n",
    "import plotly\n",
    "import matplotlib.pyplot as plt\n",
    "import os\n",
    "import time"
   ]
  },
  {
   "cell_type": "code",
   "execution_count": 2,
   "metadata": {},
   "outputs": [
    {
     "data": {
      "text/plain": [
       "'0.23.0'"
      ]
     },
     "execution_count": 2,
     "metadata": {},
     "output_type": "execute_result"
    }
   ],
   "source": [
    "pd.__version__"
   ]
  },
  {
   "cell_type": "code",
   "execution_count": 44,
   "metadata": {},
   "outputs": [],
   "source": [
    "df = pd.DataFrame([[1,2,3],[0,1,2]], columns = [4,5,6])"
   ]
  },
  {
   "cell_type": "code",
   "execution_count": 61,
   "metadata": {},
   "outputs": [
    {
     "data": {
      "text/html": [
       "<div>\n",
       "<style scoped>\n",
       "    .dataframe tbody tr th:only-of-type {\n",
       "        vertical-align: middle;\n",
       "    }\n",
       "\n",
       "    .dataframe tbody tr th {\n",
       "        vertical-align: top;\n",
       "    }\n",
       "\n",
       "    .dataframe thead th {\n",
       "        text-align: right;\n",
       "    }\n",
       "</style>\n",
       "<table border=\"1\" class=\"dataframe\">\n",
       "  <thead>\n",
       "    <tr style=\"text-align: right;\">\n",
       "      <th></th>\n",
       "      <th>4</th>\n",
       "      <th>5</th>\n",
       "      <th>6</th>\n",
       "    </tr>\n",
       "  </thead>\n",
       "  <tbody>\n",
       "    <tr>\n",
       "      <th>0</th>\n",
       "      <td>1</td>\n",
       "      <td>2</td>\n",
       "      <td>3</td>\n",
       "    </tr>\n",
       "    <tr>\n",
       "      <th>1</th>\n",
       "      <td>0</td>\n",
       "      <td>1</td>\n",
       "      <td>2</td>\n",
       "    </tr>\n",
       "  </tbody>\n",
       "</table>\n",
       "</div>"
      ],
      "text/plain": [
       "   4  5  6\n",
       "0  1  2  3\n",
       "1  0  1  2"
      ]
     },
     "execution_count": 61,
     "metadata": {},
     "output_type": "execute_result"
    }
   ],
   "source": [
    "df"
   ]
  },
  {
   "cell_type": "code",
   "execution_count": 64,
   "metadata": {},
   "outputs": [
    {
     "data": {
      "text/html": [
       "<div>\n",
       "<style scoped>\n",
       "    .dataframe tbody tr th:only-of-type {\n",
       "        vertical-align: middle;\n",
       "    }\n",
       "\n",
       "    .dataframe tbody tr th {\n",
       "        vertical-align: top;\n",
       "    }\n",
       "\n",
       "    .dataframe thead th {\n",
       "        text-align: right;\n",
       "    }\n",
       "</style>\n",
       "<table border=\"1\" class=\"dataframe\">\n",
       "  <thead>\n",
       "    <tr style=\"text-align: right;\">\n",
       "      <th></th>\n",
       "      <th>4</th>\n",
       "      <th>5</th>\n",
       "      <th>6</th>\n",
       "    </tr>\n",
       "  </thead>\n",
       "  <tbody>\n",
       "    <tr>\n",
       "      <th>0</th>\n",
       "      <td>True</td>\n",
       "      <td>False</td>\n",
       "      <td>False</td>\n",
       "    </tr>\n",
       "    <tr>\n",
       "      <th>1</th>\n",
       "      <td>True</td>\n",
       "      <td>False</td>\n",
       "      <td>False</td>\n",
       "    </tr>\n",
       "  </tbody>\n",
       "</table>\n",
       "</div>"
      ],
      "text/plain": [
       "      4      5      6\n",
       "0  True  False  False\n",
       "1  True  False  False"
      ]
     },
     "execution_count": 64,
     "metadata": {},
     "output_type": "execute_result"
    }
   ],
   "source": [
    "df.lt(df[5], axis = 0)"
   ]
  },
  {
   "cell_type": "code",
   "execution_count": 53,
   "metadata": {},
   "outputs": [
    {
     "data": {
      "text/plain": [
       "array([1, 0], dtype=int64)"
      ]
     },
     "execution_count": 53,
     "metadata": {},
     "output_type": "execute_result"
    }
   ],
   "source": [
    "df[4].values"
   ]
  },
  {
   "cell_type": "code",
   "execution_count": 49,
   "metadata": {},
   "outputs": [
    {
     "data": {
      "text/html": [
       "<div>\n",
       "<style scoped>\n",
       "    .dataframe tbody tr th:only-of-type {\n",
       "        vertical-align: middle;\n",
       "    }\n",
       "\n",
       "    .dataframe tbody tr th {\n",
       "        vertical-align: top;\n",
       "    }\n",
       "\n",
       "    .dataframe thead th {\n",
       "        text-align: right;\n",
       "    }\n",
       "</style>\n",
       "<table border=\"1\" class=\"dataframe\">\n",
       "  <thead>\n",
       "    <tr style=\"text-align: right;\">\n",
       "      <th></th>\n",
       "      <th>4</th>\n",
       "      <th>5</th>\n",
       "      <th>6</th>\n",
       "    </tr>\n",
       "  </thead>\n",
       "  <tbody>\n",
       "    <tr>\n",
       "      <th>0</th>\n",
       "      <td>False</td>\n",
       "      <td>False</td>\n",
       "      <td>False</td>\n",
       "    </tr>\n",
       "    <tr>\n",
       "      <th>1</th>\n",
       "      <td>True</td>\n",
       "      <td>False</td>\n",
       "      <td>False</td>\n",
       "    </tr>\n",
       "  </tbody>\n",
       "</table>\n",
       "</div>"
      ],
      "text/plain": [
       "       4      5      6\n",
       "0  False  False  False\n",
       "1   True  False  False"
      ]
     },
     "execution_count": 49,
     "metadata": {},
     "output_type": "execute_result"
    }
   ],
   "source": [
    "df<df[4].values[0]"
   ]
  },
  {
   "cell_type": "code",
   "execution_count": 13,
   "metadata": {},
   "outputs": [
    {
     "data": {
      "text/plain": [
       "0    3.0\n",
       "1    2.0\n",
       "2    0.0\n",
       "dtype: float64"
      ]
     },
     "execution_count": 13,
     "metadata": {},
     "output_type": "execute_result"
    }
   ],
   "source": [
    "((df<2).transpose()*np.array([1,2])).sum(1)"
   ]
  },
  {
   "cell_type": "code",
   "execution_count": 14,
   "metadata": {},
   "outputs": [
    {
     "data": {
      "text/plain": [
       "0    3.0\n",
       "1    2.0\n",
       "2    0.0\n",
       "dtype: float64"
      ]
     },
     "execution_count": 14,
     "metadata": {},
     "output_type": "execute_result"
    }
   ],
   "source": [
    "np.sum((df<2).transpose()*np.array([1,2]), axis = 1)"
   ]
  },
  {
   "cell_type": "code",
   "execution_count": null,
   "metadata": {},
   "outputs": [],
   "source": [
    "pd.concat([df,df[1]],axis = 1)"
   ]
  },
  {
   "cell_type": "code",
   "execution_count": null,
   "metadata": {
    "scrolled": true
   },
   "outputs": [],
   "source": [
    "df<df[1]"
   ]
  },
  {
   "cell_type": "code",
   "execution_count": null,
   "metadata": {},
   "outputs": [],
   "source": [
    "df3 = pd.DataFrame([], index = [0,1,2], columns = [0,1,2])"
   ]
  },
  {
   "cell_type": "code",
   "execution_count": null,
   "metadata": {},
   "outputs": [],
   "source": [
    "df3.assign(3 = lambda x: np.log(x.loc[:,0]))"
   ]
  },
  {
   "cell_type": "code",
   "execution_count": 153,
   "metadata": {},
   "outputs": [],
   "source": [
    "def simulation(time_para, delay, period):\n",
    "    \n",
    "    start = time.time()\n",
    "\n",
    "    # Read Portfolio and correlation matrix\n",
    "    path = r'C:\\Users\\Javier\\Documents\\MEGA\\Universitattt\\Master\\Thesis\\CDS_data\\factor_model'\n",
    "    directory = 'time_' + str(time_para) + '_delay_' + str(delay)\n",
    "    file = 'period_' + str(period) + '_portfolio.csv'\n",
    "\n",
    "    Portfolio = pd.read_csv(os.path.join(path,directory,file), sep=',')\n",
    "    # Read the correlation matrix from .csv\n",
    "    Omega = pd.read_csv(r'C:\\Users\\Javier\\Documents\\MEGA\\Universitattt\\Master\\Thesis\\CDS_data\\factor_model\\Ioannis\\Omega.csv', index_col = 0,header = 0)\n",
    "\n",
    "    m = len(Portfolio)    # number of counterparties in the portfolio\n",
    "    N = 10**6             # number of simulations\n",
    "    p = Omega.shape[0]    # number of systematic factors\n",
    "\n",
    "    # Now we get the beta, gamma (PDGSD), PD, EAD and LGD\n",
    "    Beta = Portfolio[[col for col in list(Portfolio) if col.startswith('beta')]].values\n",
    "    gamma = Portfolio['gamma'].values\n",
    "    PD = Portfolio['PD'].values\n",
    "    EAD = Portfolio['EAD'].values\n",
    "    LGD = Portfolio['LGD'].values\n",
    "\n",
    "    # Analytical Expected Loss\n",
    "    EL_an = np.sum(PD*EAD*LGD)\n",
    "\n",
    "    # Calibrate default thresholds with PDs\n",
    "    d = norm.ppf(PD)\n",
    "    \n",
    "    # perform a Cholesky factorisation to sample normal distributed\n",
    "    # numbers with covariaton matrix Omega\n",
    "    L = np.linalg.cholesky(Omega)\n",
    "\n",
    "    np.random.seed(10)\n",
    "    # generate independent normals\n",
    "    Z = np.random.standard_normal((p, N))\n",
    "\n",
    "    # convert independent unit normals to correlated\n",
    "    F = np.dot(L, Z)\n",
    "\n",
    "    # idiosyncratic loading s.t. the returns are standard normal\n",
    "    id_load = np.diagonal(np.sqrt(1-np.dot(np.dot(Beta,Omega),Beta.T)))\n",
    "    epsilon = np.random.standard_normal((N, m))\n",
    "    # Put everything together to get the returns\n",
    "    X = np.dot(Beta,F) + (id_load*epsilon).T\n",
    "    X_df = pd.DataFrame(np.dot(Beta,F) + (id_load*epsilon).T)\n",
    "\n",
    "    # Calculate UL with no contagion\n",
    "    # construct default indicator\n",
    "    I = (((X.T-d)<0))\n",
    "    I_df = pd.DataFrame(I)\n",
    "    L = (EAD*LGD*I).T\n",
    "    # print(np.mean(L,axis=1))\n",
    "    Loss=np.sum(L,axis=0)\n",
    "\n",
    "    # Calculate UL with contagion\n",
    "\n",
    "    SOV_ID = Portfolio['SOV_ID'].values\n",
    "    SOV_LINK = Portfolio['SOV_LINK'].values\n",
    "\n",
    "    Dsd = np.zeros(m)\n",
    "    Dnsd = np.zeros(m)\n",
    "    \n",
    "    PDs\n",
    "\n",
    "    PDs = df_port[df_port['SOV_ID']==1]['PD'].values[0]\n",
    "\n",
    "    # With contagion\n",
    "    for i in range(0,m):\n",
    "        if SOV_ID[i] != 0:\n",
    "            Dsd[i] = d[i]\n",
    "            Dnsd[i] = d[i]\n",
    "        else:\n",
    "            sov_ind = np.nonzero(SOV_ID == SOV_LINK[i])[0][0]\n",
    "            PDs = PD[sov_ind]\n",
    "            corr = np.dot(np.dot((Beta[i]).T,Omega),(Beta[sov_ind]))\n",
    "            \n",
    "            Fsd = lambda x: mvn.mvndst([-100, -100],\\\n",
    "                [x, norm.ppf(PDs)],[0,0],corr)[1] / PDs - gamma[i]\n",
    "            Dsd[i] = fsolve(Fsd, norm.ppf(gamma[i])) # is thera a better initial guess?\n",
    "            Fnsd = lambda x: mvn.mvndst([-100, norm.ppf(PDs)],\\\n",
    "                [x, 100],[0,1],corr)[1] - PD[i] + gamma[i]*PDs\n",
    "            Dnsd[i] = fsolve(Fnsd, norm.ppf(PD[i])) # is there a better initial guess?\n",
    "            if Dsd[i]< d[i] or PD[i]<PD[sov_ind]:\n",
    "                Dsd[i] = d[i]\n",
    "                Dnsd[i] = d[i]\n",
    "\n",
    "\n",
    "    # Thresholds\n",
    "    D = np.array([Dnsd]*N).T\n",
    "\n",
    "    X_sov = X[np.nonzero(SOV_ID !=0)[0]]\n",
    "    D_sov = D[np.nonzero(SOV_ID !=0)[0]]\n",
    "\n",
    "    I_sov = (((X_sov-D_sov)<0))\n",
    "\n",
    "    for i in range(0,N):\n",
    "        for j in range(0,m):\n",
    "            if SOV_ID[j]==0 and I_sov[SOV_LINK[j]-1,i] == 1:\n",
    "                D[j,i] = Dsd[j]\n",
    "\n",
    "    # construct default indicator\n",
    "    I_c = ((X-D)<0).T\n",
    "\n",
    "    L = (EAD*LGD*I_c).T\n",
    "    # print(np.mean(L,axis=1))\n",
    "    Loss_c=np.sum(L,axis=0)\n",
    "\n",
    "    EL = np.mean(Loss)\n",
    "    # Arithmetic mean of Loss\n",
    "    EL_c = np.mean(Loss_c)\n",
    "\n",
    "    # UL_98 = np.percentile(Loss, 98)\n",
    "    UL_99 = np.percentile(Loss, 99)\n",
    "    UL_995 = np.percentile(Loss, 99.5)\n",
    "    UL_999 = np.percentile(Loss, 99.9)\n",
    "    UL_9999 = np.percentile(Loss, 99.99)\n",
    "\n",
    "    # UL_98_c = np.percentile(Loss_c, 98)\n",
    "    UL_99_c = np.percentile(Loss_c, 99)\n",
    "    UL_995_c = np.percentile(Loss_c, 99.5)\n",
    "    UL_999_c = np.percentile(Loss_c, 99.9)\n",
    "    UL_9999_c = np.percentile(Loss_c, 99.99)\n",
    "\n",
    "\n",
    "    UL = np.array([ UL_99, UL_995, UL_999, UL_9999])\n",
    "    UL_c = np.array([ UL_99_c, UL_995_c, UL_999_c, UL_9999_c])\n",
    "    \n",
    "    \n",
    "    end = time.time()\n",
    "\n",
    "    print(end-start)\n",
    "    \n",
    "\n",
    "    return UL, UL_c"
   ]
  },
  {
   "cell_type": "code",
   "execution_count": 156,
   "metadata": {
    "scrolled": false
   },
   "outputs": [],
   "source": [
    "def simulation_v2(time_para, delay, period):\n",
    "    start = time.time()\n",
    "\n",
    "    # Read Portfolio and correlation matrix\n",
    "    path = r'C:\\Users\\Javier\\Documents\\MEGA\\Universitattt\\Master\\Thesis\\CDS_data\\factor_model'\n",
    "    directory = 'time_' + str(time_para) + '_delay_' + str(delay)\n",
    "    file = 'period_' + str(period) + '_portfolio.csv'\n",
    "\n",
    "    Portfolio = pd.read_csv(os.path.join(path,directory,file), sep=',')\n",
    "    # Read the correlation matrix from .csv\n",
    "    Omega = pd.read_csv(r'C:\\Users\\Javier\\Documents\\MEGA\\Universitattt\\Master\\Thesis\\CDS_data\\factor_model\\Ioannis\\Omega.csv', index_col = 0,header = 0)\n",
    "\n",
    "    m = len(Portfolio)    # number of counterparties in the portfolio\n",
    "    N = 10**6             # number of simulations\n",
    "    p = Omega.shape[0]    # number of systematic factors\n",
    "\n",
    "    # Now we get the beta, gamma (PDGSD), PD, EAD and LGD\n",
    "    Beta = Portfolio[[col for col in list(Portfolio) if col.startswith('beta')]].values\n",
    "    gamma = Portfolio['gamma'].values\n",
    "    PD = Portfolio['PD'].values\n",
    "    EAD = Portfolio['EAD'].values\n",
    "    LGD = Portfolio['LGD'].values\n",
    "\n",
    "    df_port = Portfolio[['SOV_ID','PD','EAD','LGD']]\n",
    "\n",
    "    # Analytical Expected Loss\n",
    "    EL_an = np.sum(PD*EAD*LGD)\n",
    "\n",
    "    # Calibrate default thresholds with PDs\n",
    "    d = norm.ppf(PD)\n",
    "    # perform a Cholesky factorisation to sample normal distributed\n",
    "    # numbers with covariaton matrix Omega\n",
    "    L = np.linalg.cholesky(Omega)\n",
    "\n",
    "    np.random.seed(10)\n",
    "    # generate independent normals\n",
    "    Z = np.random.standard_normal((p, N))\n",
    "\n",
    "    # convert independent unit normals to correlated\n",
    "    F = np.dot(L, Z)\n",
    "\n",
    "    # idiosyncratic loading s.t. the returns are standard normal\n",
    "    id_load = np.diagonal(np.sqrt(1-np.dot(np.dot(Beta,Omega),Beta.T)))\n",
    "    epsilon = np.random.standard_normal((N, m))\n",
    "    # Put everything together to get the returns\n",
    "    X = np.dot(Beta,F) + (id_load*epsilon).T\n",
    "    X_df = pd.DataFrame(np.dot(Beta,F) + (id_load*epsilon).T)\n",
    "\n",
    "    # Calculate UL with no contagion\n",
    "    # construct default indicator\n",
    "    I = (((X.T-d)<0))\n",
    "    I_df = pd.DataFrame(I)\n",
    "    L = (EAD*LGD*I).T\n",
    "    \n",
    "    # print(np.mean(L,axis=1))\n",
    "    Loss=np.sum(L,axis=0)\n",
    "\n",
    "    # Calculate UL with contagion\n",
    "\n",
    "    SOV_ID = Portfolio['SOV_ID'].values\n",
    "    SOV_LINK = Portfolio['SOV_LINK'].values\n",
    "\n",
    "    df_d = pd.DataFrame(np.zeros((m,3)), columns = ['SOV_ID','Dsd','Dnsd'])\n",
    "    df_d['SOV_ID']=SOV_ID\n",
    "\n",
    "    PDs = df_port[df_port['SOV_ID']==1]['PD'].values[0]\n",
    "\n",
    "    Dsd = np.zeros(m)\n",
    "    Dnsd = np.zeros(m)\n",
    "\n",
    "    # With contagion\n",
    "    for i in range(0,m):\n",
    "        if SOV_ID[i] != 0:\n",
    "            Dsd[i] = d[i]\n",
    "            Dnsd[i] = d[i]\n",
    "        else:\n",
    "            sov_ind = np.nonzero(SOV_ID == SOV_LINK[i])[0][0]\n",
    "            PDs = PD[sov_ind]\n",
    "            corr = np.dot(np.dot((Beta[i]).T,Omega),(Beta[sov_ind]))\n",
    "\n",
    "            Fsd = lambda x: mvn.mvndst([-100, -100],\\\n",
    "                [x, norm.ppf(PDs)],[0,0],corr)[1] / PDs - gamma[i]\n",
    "            Dsd[i] = fsolve(Fsd, norm.ppf(gamma[i])) # is there a better initial guess?\n",
    "            Fnsd = lambda x: mvn.mvndst([-100, norm.ppf(PDs)],\\\n",
    "                [x, 100],[0,1],corr)[1] - PD[i] + gamma[i]*PDs\n",
    "            Dnsd[i] = fsolve(Fnsd, norm.ppf(PD[i])) # is there a better initial guess?\n",
    "            if Dsd[i]< d[i] or PD[i]<PD[sov_ind]:\n",
    "                Dsd[i] = d[i]\n",
    "                Dnsd[i] = d[i]\n",
    "\n",
    "    df_d['Dsd'] = Dsd\n",
    "    df_d['Dnsd'] = Dnsd\n",
    "\n",
    "    # Thresholds\n",
    "    D = np.array([Dnsd]*N).T\n",
    "    D_df = pd.concat([df_d['Dnsd']]*N,axis = 1)\n",
    "    D_df.columns = range(N)\n",
    "\n",
    "    X2 = X_df.transpose()\n",
    "    D2 = D_df.transpose()\n",
    "\n",
    "    sov_ind = df_d[df_d['SOV_ID']==1].index[0]\n",
    "\n",
    "    X_SD = X2[X2[sov_ind]<df_d.loc[sov_ind, 'Dsd']].copy()\n",
    "\n",
    "    X_NSD = X2.drop(X_SD.index, axis = 0)\n",
    "\n",
    "\n",
    "    I_SD = X_SD.lt(df_d['Dsd'], axis = 1)\n",
    "    I_NSD = X_NSD.lt(df_d['Dnsd'],axis = 1)\n",
    "\n",
    "    I_c = pd.concat([I_SD,I_NSD], axis = 0)\n",
    "\n",
    "    I_aux = np.array(I_c)\n",
    "\n",
    "    L = (EAD * LGD * I_aux)\n",
    "\n",
    "    Loss_c = np.sum(L,axis=1)\n",
    "\n",
    "    EL = np.mean(Loss)\n",
    "    # Arithmetic mean of Loss\n",
    "    EL_c = np.mean(Loss_c)\n",
    "\n",
    "    # UL_98 = np.percentile(Loss, 98)\n",
    "    UL_99 = np.percentile(Loss, 99)\n",
    "    UL_995 = np.percentile(Loss, 99.5)\n",
    "    UL_999 = np.percentile(Loss, 99.9)\n",
    "    UL_9999 = np.percentile(Loss, 99.99)\n",
    "\n",
    "    # UL_98_c = np.percentile(Loss_c, 98)\n",
    "    UL_99_c = np.percentile(Loss_c, 99)\n",
    "    UL_995_c = np.percentile(Loss_c, 99.5)\n",
    "    UL_999_c = np.percentile(Loss_c, 99.9)\n",
    "    UL_9999_c = np.percentile(Loss_c, 99.99)\n",
    "\n",
    "\n",
    "    UL = np.array([ UL_99, UL_995, UL_999, UL_9999])\n",
    "    UL_c = np.array([ UL_99_c, UL_995_c, UL_999_c, UL_9999_c])\n",
    "    \n",
    "    end = time.time()\n",
    "\n",
    "    print(end-start)\n",
    "\n",
    "    return UL, UL_c\n"
   ]
  },
  {
   "cell_type": "code",
   "execution_count": 157,
   "metadata": {},
   "outputs": [
    {
     "name": "stdout",
     "output_type": "stream",
     "text": [
      "18\n",
      "0.08171701431274414\n"
     ]
    },
    {
     "name": "stderr",
     "output_type": "stream",
     "text": [
      "c:\\users\\javier\\anaconda3\\lib\\site-packages\\scipy\\optimize\\minpack.py:161: RuntimeWarning:\n",
      "\n",
      "The iteration is not making good progress, as measured by the \n",
      "  improvement from the last ten iterations.\n",
      "\n"
     ]
    }
   ],
   "source": [
    "u,uc = simulation_v2(15,1,4)"
   ]
  },
  {
   "cell_type": "code",
   "execution_count": 158,
   "metadata": {},
   "outputs": [
    {
     "name": "stderr",
     "output_type": "stream",
     "text": [
      "c:\\users\\javier\\anaconda3\\lib\\site-packages\\pandas\\core\\indexing.py:362: SettingWithCopyWarning:\n",
      "\n",
      "\n",
      "A value is trying to be set on a copy of a slice from a DataFrame.\n",
      "Try using .loc[row_indexer,col_indexer] = value instead\n",
      "\n",
      "See the caveats in the documentation: http://pandas.pydata.org/pandas-docs/stable/indexing.html#indexing-view-versus-copy\n",
      "\n",
      "c:\\users\\javier\\anaconda3\\lib\\site-packages\\pandas\\core\\indexing.py:543: SettingWithCopyWarning:\n",
      "\n",
      "\n",
      "A value is trying to be set on a copy of a slice from a DataFrame.\n",
      "Try using .loc[row_indexer,col_indexer] = value instead\n",
      "\n",
      "See the caveats in the documentation: http://pandas.pydata.org/pandas-docs/stable/indexing.html#indexing-view-versus-copy\n",
      "\n",
      "c:\\users\\javier\\anaconda3\\lib\\site-packages\\scipy\\optimize\\minpack.py:161: RuntimeWarning:\n",
      "\n",
      "The iteration is not making good progress, as measured by the \n",
      "  improvement from the last ten iterations.\n",
      "\n"
     ]
    },
    {
     "ename": "KeyboardInterrupt",
     "evalue": "",
     "output_type": "error",
     "traceback": [
      "\u001b[1;31m---------------------------------------------------------------------------\u001b[0m",
      "\u001b[1;31mKeyboardInterrupt\u001b[0m                         Traceback (most recent call last)",
      "\u001b[1;32m<ipython-input-158-0a14d7c88e97>\u001b[0m in \u001b[0;36m<module>\u001b[1;34m()\u001b[0m\n\u001b[1;32m----> 1\u001b[1;33m \u001b[0mu1\u001b[0m\u001b[1;33m,\u001b[0m\u001b[0muc1\u001b[0m \u001b[1;33m=\u001b[0m \u001b[0msimulation\u001b[0m\u001b[1;33m(\u001b[0m\u001b[1;36m15\u001b[0m\u001b[1;33m,\u001b[0m\u001b[1;36m1\u001b[0m\u001b[1;33m,\u001b[0m\u001b[1;36m4\u001b[0m\u001b[1;33m)\u001b[0m\u001b[1;33m\u001b[0m\u001b[0m\n\u001b[0m",
      "\u001b[1;32m<ipython-input-153-6afd538cda2e>\u001b[0m in \u001b[0;36msimulation\u001b[1;34m(time_para, delay, period)\u001b[0m\n\u001b[0;32m    106\u001b[0m     \u001b[1;32mfor\u001b[0m \u001b[0mi\u001b[0m \u001b[1;32min\u001b[0m \u001b[0mrange\u001b[0m\u001b[1;33m(\u001b[0m\u001b[1;36m0\u001b[0m\u001b[1;33m,\u001b[0m\u001b[0mN\u001b[0m\u001b[1;33m)\u001b[0m\u001b[1;33m:\u001b[0m\u001b[1;33m\u001b[0m\u001b[0m\n\u001b[0;32m    107\u001b[0m         \u001b[1;32mfor\u001b[0m \u001b[0mj\u001b[0m \u001b[1;32min\u001b[0m \u001b[0mrange\u001b[0m\u001b[1;33m(\u001b[0m\u001b[1;36m0\u001b[0m\u001b[1;33m,\u001b[0m\u001b[0mm\u001b[0m\u001b[1;33m)\u001b[0m\u001b[1;33m:\u001b[0m\u001b[1;33m\u001b[0m\u001b[0m\n\u001b[1;32m--> 108\u001b[1;33m             \u001b[1;32mif\u001b[0m \u001b[0mSOV_ID\u001b[0m\u001b[1;33m[\u001b[0m\u001b[0mj\u001b[0m\u001b[1;33m]\u001b[0m\u001b[1;33m==\u001b[0m\u001b[1;36m0\u001b[0m \u001b[1;32mand\u001b[0m \u001b[0mI_sov\u001b[0m\u001b[1;33m[\u001b[0m\u001b[0mSOV_LINK\u001b[0m\u001b[1;33m[\u001b[0m\u001b[0mj\u001b[0m\u001b[1;33m]\u001b[0m\u001b[1;33m-\u001b[0m\u001b[1;36m1\u001b[0m\u001b[1;33m,\u001b[0m\u001b[0mi\u001b[0m\u001b[1;33m]\u001b[0m \u001b[1;33m==\u001b[0m \u001b[1;36m1\u001b[0m\u001b[1;33m:\u001b[0m\u001b[1;33m\u001b[0m\u001b[0m\n\u001b[0m\u001b[0;32m    109\u001b[0m                 \u001b[0mD\u001b[0m\u001b[1;33m[\u001b[0m\u001b[0mj\u001b[0m\u001b[1;33m,\u001b[0m\u001b[0mi\u001b[0m\u001b[1;33m]\u001b[0m \u001b[1;33m=\u001b[0m \u001b[0mDsd\u001b[0m\u001b[1;33m[\u001b[0m\u001b[0mj\u001b[0m\u001b[1;33m]\u001b[0m\u001b[1;33m\u001b[0m\u001b[0m\n\u001b[0;32m    110\u001b[0m \u001b[1;33m\u001b[0m\u001b[0m\n",
      "\u001b[1;31mKeyboardInterrupt\u001b[0m: "
     ]
    }
   ],
   "source": [
    "u1,uc1 = simulation(15,1,4)"
   ]
  },
  {
   "cell_type": "code",
   "execution_count": 142,
   "metadata": {
    "scrolled": true
   },
   "outputs": [
    {
     "name": "stdout",
     "output_type": "stream",
     "text": [
      "18\n"
     ]
    }
   ],
   "source": [
    "I = (((X.T-d)<0))\n",
    "I_df = pd.DataFrame(I)\n",
    "L = (EAD*LGD*I).T\n",
    "print(len(L))\n",
    "# print(np.mean(L,axis=1))\n",
    "Loss=np.sum(L,axis=0)"
   ]
  },
  {
   "cell_type": "code",
   "execution_count": 143,
   "metadata": {},
   "outputs": [
    {
     "data": {
      "text/plain": [
       "array([     0.        ,      0.        , 416666.6667    , ...,\n",
       "       328425.77780405,      0.        ,      0.        ])"
      ]
     },
     "execution_count": 143,
     "metadata": {},
     "output_type": "execute_result"
    }
   ],
   "source": [
    "Loss"
   ]
  },
  {
   "cell_type": "code",
   "execution_count": 144,
   "metadata": {},
   "outputs": [
    {
     "data": {
      "text/plain": [
       "1000000"
      ]
     },
     "execution_count": 144,
     "metadata": {},
     "output_type": "execute_result"
    }
   ],
   "source": [
    "len(I)"
   ]
  },
  {
   "cell_type": "code",
   "execution_count": 147,
   "metadata": {},
   "outputs": [
    {
     "data": {
      "text/plain": [
       "1000000"
      ]
     },
     "execution_count": 147,
     "metadata": {},
     "output_type": "execute_result"
    }
   ],
   "source": [
    "len(I_aux)"
   ]
  },
  {
   "cell_type": "code",
   "execution_count": 146,
   "metadata": {},
   "outputs": [],
   "source": [
    "I_SD = X_SD.lt(df_d['Dsd'], axis = 1)\n",
    "I_NSD = X_NSD.lt(df_d['Dnsd'],axis = 1)\n",
    "\n",
    "Idf = pd.concat([I_SD,I_NSD], axis = 0)\n",
    "\n",
    "I_aux = np.array(Idf)\n",
    "\n",
    "L = (EAD * LGD * I_aux)\n",
    "\n",
    "np.sum(L,axis=1)"
   ]
  },
  {
   "cell_type": "code",
   "execution_count": 148,
   "metadata": {},
   "outputs": [
    {
     "data": {
      "text/plain": [
       "array([2587282.61354032, 3003379.3335736 ,  950694.4445205 , ...,\n",
       "        328425.77780405,       0.        ,       0.        ])"
      ]
     },
     "execution_count": 148,
     "metadata": {},
     "output_type": "execute_result"
    }
   ],
   "source": [
    "np.sum(L,axis=1)"
   ]
  },
  {
   "cell_type": "code",
   "execution_count": 117,
   "metadata": {},
   "outputs": [],
   "source": [
    "Idf = pd.concat([I_SD,I_NSD], axis = 0)"
   ]
  },
  {
   "cell_type": "code",
   "execution_count": 123,
   "metadata": {},
   "outputs": [],
   "source": [
    "X_tot = pd.concat([X_SD,X_NSD])"
   ]
  },
  {
   "cell_type": "code",
   "execution_count": 125,
   "metadata": {},
   "outputs": [
    {
     "data": {
      "text/plain": [
       "array([[-2.84802035, -1.2844771 , -1.7829346 , ..., -1.00956543,\n",
       "        -1.98441817, -1.10934242],\n",
       "       [-2.42774022, -1.8295564 , -1.40096383, ..., -2.40053299,\n",
       "        -2.07319955, -3.47995485],\n",
       "       [-2.42360437, -0.8282361 , -1.05972977, ..., -0.52189227,\n",
       "        -1.3752103 , -2.08740355],\n",
       "       ...,\n",
       "       [ 0.19013796, -1.37364049,  0.50969789, ...,  0.95054835,\n",
       "         0.49160218, -0.51949582],\n",
       "       [-1.46138159,  0.34849101,  0.51451314, ..., -0.47490852,\n",
       "        -0.23213644, -0.40528741],\n",
       "       [ 0.77532007, -0.33193897, -0.7170582 , ...,  1.99630771,\n",
       "         0.90675422, -0.07768903]])"
      ]
     },
     "execution_count": 125,
     "metadata": {},
     "output_type": "execute_result"
    }
   ],
   "source": [
    "np.array(X_tot)"
   ]
  },
  {
   "cell_type": "code",
   "execution_count": 130,
   "metadata": {},
   "outputs": [],
   "source": [
    "aux = np.array(Idf.transpose())"
   ]
  },
  {
   "cell_type": "code",
   "execution_count": 131,
   "metadata": {},
   "outputs": [
    {
     "data": {
      "text/plain": [
       "18"
      ]
     },
     "execution_count": 131,
     "metadata": {},
     "output_type": "execute_result"
    }
   ],
   "source": [
    "len(aux)"
   ]
  },
  {
   "cell_type": "code",
   "execution_count": 132,
   "metadata": {},
   "outputs": [
    {
     "data": {
      "text/plain": [
       "1000000"
      ]
     },
     "execution_count": 132,
     "metadata": {},
     "output_type": "execute_result"
    }
   ],
   "source": [
    "len(aux[0])"
   ]
  },
  {
   "cell_type": "code",
   "execution_count": 133,
   "metadata": {},
   "outputs": [
    {
     "data": {
      "text/plain": [
       "1000000"
      ]
     },
     "execution_count": 133,
     "metadata": {},
     "output_type": "execute_result"
    }
   ],
   "source": [
    "len(I)"
   ]
  },
  {
   "cell_type": "code",
   "execution_count": 134,
   "metadata": {},
   "outputs": [],
   "source": [
    "L = (EAD * LGD * np.array(Idf))"
   ]
  },
  {
   "cell_type": "code",
   "execution_count": 135,
   "metadata": {},
   "outputs": [
    {
     "data": {
      "text/plain": [
       "array([[252777.777798 , 281250.0000225, 281250.0000225, ...,\n",
       "             0.       ,      0.       ,      0.       ],\n",
       "       [252777.777798 , 281250.0000225, 281250.0000225, ...,\n",
       "        416666.6667   ,      0.       , 416666.6667   ],\n",
       "       [252777.777798 ,      0.       ,      0.       , ...,\n",
       "             0.       ,      0.       , 416666.6667   ],\n",
       "       ...,\n",
       "       [     0.       ,      0.       ,      0.       , ...,\n",
       "             0.       ,      0.       ,      0.       ],\n",
       "       [     0.       ,      0.       ,      0.       , ...,\n",
       "             0.       ,      0.       ,      0.       ],\n",
       "       [     0.       ,      0.       ,      0.       , ...,\n",
       "             0.       ,      0.       ,      0.       ]])"
      ]
     },
     "execution_count": 135,
     "metadata": {},
     "output_type": "execute_result"
    }
   ],
   "source": [
    "L"
   ]
  },
  {
   "cell_type": "code",
   "execution_count": 120,
   "metadata": {},
   "outputs": [
    {
     "data": {
      "text/plain": [
       "matrix([[2587282.61354032, 3003379.3335736 ,  950694.4445205 , ...,\n",
       "          328425.77780405,       0.        ,       0.        ]])"
      ]
     },
     "execution_count": 120,
     "metadata": {},
     "output_type": "execute_result"
    }
   ],
   "source": [
    "L"
   ]
  },
  {
   "cell_type": "code",
   "execution_count": 106,
   "metadata": {},
   "outputs": [
    {
     "data": {
      "text/html": [
       "<div>\n",
       "<style scoped>\n",
       "    .dataframe tbody tr th:only-of-type {\n",
       "        vertical-align: middle;\n",
       "    }\n",
       "\n",
       "    .dataframe tbody tr th {\n",
       "        vertical-align: top;\n",
       "    }\n",
       "\n",
       "    .dataframe thead th {\n",
       "        text-align: right;\n",
       "    }\n",
       "</style>\n",
       "<table border=\"1\" class=\"dataframe\">\n",
       "  <thead>\n",
       "    <tr style=\"text-align: right;\">\n",
       "      <th></th>\n",
       "      <th>0</th>\n",
       "      <th>1</th>\n",
       "      <th>2</th>\n",
       "      <th>3</th>\n",
       "      <th>4</th>\n",
       "      <th>5</th>\n",
       "      <th>6</th>\n",
       "      <th>7</th>\n",
       "      <th>8</th>\n",
       "      <th>9</th>\n",
       "      <th>...</th>\n",
       "      <th>999990</th>\n",
       "      <th>999991</th>\n",
       "      <th>999992</th>\n",
       "      <th>999993</th>\n",
       "      <th>999994</th>\n",
       "      <th>999995</th>\n",
       "      <th>999996</th>\n",
       "      <th>999997</th>\n",
       "      <th>999998</th>\n",
       "      <th>999999</th>\n",
       "    </tr>\n",
       "  </thead>\n",
       "  <tbody>\n",
       "    <tr>\n",
       "      <th>0</th>\n",
       "      <td>2.587283e+06</td>\n",
       "      <td>3.003379e+06</td>\n",
       "      <td>950694.44452</td>\n",
       "      <td>815277.777843</td>\n",
       "      <td>1.190879e+06</td>\n",
       "      <td>2.336681e+06</td>\n",
       "      <td>252777.777798</td>\n",
       "      <td>2.258857e+06</td>\n",
       "      <td>670014.391165</td>\n",
       "      <td>1.889366e+06</td>\n",
       "      <td>...</td>\n",
       "      <td>0.0</td>\n",
       "      <td>0.0</td>\n",
       "      <td>0.0</td>\n",
       "      <td>0.0</td>\n",
       "      <td>0.0</td>\n",
       "      <td>0.0</td>\n",
       "      <td>416666.6667</td>\n",
       "      <td>328425.777804</td>\n",
       "      <td>0.0</td>\n",
       "      <td>0.0</td>\n",
       "    </tr>\n",
       "  </tbody>\n",
       "</table>\n",
       "<p>1 rows × 1000000 columns</p>\n",
       "</div>"
      ],
      "text/plain": [
       "         0             1             2              3             4       \\\n",
       "0  2.587283e+06  3.003379e+06  950694.44452  815277.777843  1.190879e+06   \n",
       "\n",
       "         5              6             7              8             9       \\\n",
       "0  2.336681e+06  252777.777798  2.258857e+06  670014.391165  1.889366e+06   \n",
       "\n",
       "    ...    999990  999991  999992  999993  999994  999995       999996  \\\n",
       "0   ...       0.0     0.0     0.0     0.0     0.0     0.0  416666.6667   \n",
       "\n",
       "          999997  999998  999999  \n",
       "0  328425.777804     0.0     0.0  \n",
       "\n",
       "[1 rows x 1000000 columns]"
      ]
     },
     "execution_count": 106,
     "metadata": {},
     "output_type": "execute_result"
    }
   ],
   "source": [
    "pd.DataFrame(L)"
   ]
  },
  {
   "cell_type": "code",
   "execution_count": 82,
   "metadata": {},
   "outputs": [],
   "source": [
    "L = (df_port['EAD'] * df_port['LGD'] * I)"
   ]
  },
  {
   "cell_type": "code",
   "execution_count": 87,
   "metadata": {},
   "outputs": [
    {
     "ename": "AttributeError",
     "evalue": "'matrix' object has no attribute 'extend'",
     "output_type": "error",
     "traceback": [
      "\u001b[1;31m---------------------------------------------------------------------------\u001b[0m",
      "\u001b[1;31mAttributeError\u001b[0m                            Traceback (most recent call last)",
      "\u001b[1;32m<ipython-input-87-2e63c5b96bc4>\u001b[0m in \u001b[0;36m<module>\u001b[1;34m()\u001b[0m\n\u001b[1;32m----> 1\u001b[1;33m \u001b[0mL_SD\u001b[0m \u001b[1;33m=\u001b[0m \u001b[1;33m(\u001b[0m\u001b[1;33m(\u001b[0m\u001b[0mEAD\u001b[0m \u001b[1;33m*\u001b[0m \u001b[0mLGD\u001b[0m \u001b[1;33m*\u001b[0m \u001b[0mnp\u001b[0m\u001b[1;33m.\u001b[0m\u001b[0mmatrix\u001b[0m\u001b[1;33m(\u001b[0m\u001b[0mI_SD\u001b[0m\u001b[1;33m.\u001b[0m\u001b[0mtranspose\u001b[0m\u001b[1;33m(\u001b[0m\u001b[1;33m)\u001b[0m\u001b[1;33m)\u001b[0m\u001b[1;33m)\u001b[0m\u001b[1;33m[\u001b[0m\u001b[1;36m0\u001b[0m\u001b[1;33m]\u001b[0m\u001b[1;33m)\u001b[0m\u001b[1;33m.\u001b[0m\u001b[0mextend\u001b[0m\u001b[1;33m(\u001b[0m\u001b[1;33m(\u001b[0m\u001b[0mEAD\u001b[0m \u001b[1;33m*\u001b[0m \u001b[0mLGD\u001b[0m \u001b[1;33m*\u001b[0m \u001b[0mnp\u001b[0m\u001b[1;33m.\u001b[0m\u001b[0mmatrix\u001b[0m\u001b[1;33m(\u001b[0m\u001b[0mI_NSD\u001b[0m\u001b[1;33m.\u001b[0m\u001b[0mtranspose\u001b[0m\u001b[1;33m(\u001b[0m\u001b[1;33m)\u001b[0m\u001b[1;33m)\u001b[0m\u001b[1;33m)\u001b[0m\u001b[1;33m)\u001b[0m\u001b[1;33m\u001b[0m\u001b[0m\n\u001b[0m",
      "\u001b[1;31mAttributeError\u001b[0m: 'matrix' object has no attribute 'extend'"
     ]
    }
   ],
   "source": [
    "L_SD = ((EAD * LGD * np.matrix(I_SD.transpose()))[0]).extend((EAD * LGD * np.matrix(I_NSD.transpose())))"
   ]
  },
  {
   "cell_type": "code",
   "execution_count": 79,
   "metadata": {},
   "outputs": [
    {
     "data": {
      "text/plain": [
       "matrix([[2587282.61354032, 3003379.3335736 ,  950694.4445205 , ...,\n",
       "          328425.77780405,       0.        ,       0.        ]])"
      ]
     },
     "execution_count": 79,
     "metadata": {},
     "output_type": "execute_result"
    }
   ],
   "source": [
    "L"
   ]
  },
  {
   "cell_type": "code",
   "execution_count": 35,
   "metadata": {},
   "outputs": [
    {
     "data": {
      "text/plain": [
       "(18, 1000018)"
      ]
     },
     "execution_count": 35,
     "metadata": {},
     "output_type": "execute_result"
    }
   ],
   "source": [
    "I.shape"
   ]
  },
  {
   "cell_type": "code",
   "execution_count": 24,
   "metadata": {},
   "outputs": [
    {
     "data": {
      "text/plain": [
       "0    -2.415716\n",
       "1    -1.033844\n",
       "2    -1.219656\n",
       "3    -2.885176\n",
       "4    -1.282778\n",
       "5    -1.595852\n",
       "6    -1.540667\n",
       "7    -1.716556\n",
       "8    -1.757785\n",
       "9    -1.929439\n",
       "10   -1.856561\n",
       "11   -1.992217\n",
       "12   -1.917318\n",
       "13   -1.975269\n",
       "14   -1.932889\n",
       "15   -2.009406\n",
       "16   -2.149520\n",
       "17   -1.757785\n",
       "Name: Dsd, dtype: float64"
      ]
     },
     "execution_count": 24,
     "metadata": {},
     "output_type": "execute_result"
    }
   ],
   "source": [
    "df_d['Dsd']"
   ]
  },
  {
   "cell_type": "code",
   "execution_count": 36,
   "metadata": {},
   "outputs": [],
   "source": [
    "X_NSD.columns = range(X_NSD.shape[1])"
   ]
  },
  {
   "cell_type": "code",
   "execution_count": 37,
   "metadata": {},
   "outputs": [
    {
     "data": {
      "text/html": [
       "<div>\n",
       "<style scoped>\n",
       "    .dataframe tbody tr th:only-of-type {\n",
       "        vertical-align: middle;\n",
       "    }\n",
       "\n",
       "    .dataframe tbody tr th {\n",
       "        vertical-align: top;\n",
       "    }\n",
       "\n",
       "    .dataframe thead th {\n",
       "        text-align: right;\n",
       "    }\n",
       "</style>\n",
       "<table border=\"1\" class=\"dataframe\">\n",
       "  <thead>\n",
       "    <tr style=\"text-align: right;\">\n",
       "      <th></th>\n",
       "      <th>0</th>\n",
       "      <th>1</th>\n",
       "      <th>2</th>\n",
       "      <th>3</th>\n",
       "      <th>4</th>\n",
       "      <th>5</th>\n",
       "      <th>6</th>\n",
       "      <th>7</th>\n",
       "      <th>8</th>\n",
       "      <th>9</th>\n",
       "      <th>...</th>\n",
       "      <th>992178</th>\n",
       "      <th>992179</th>\n",
       "      <th>992180</th>\n",
       "      <th>992181</th>\n",
       "      <th>992182</th>\n",
       "      <th>992183</th>\n",
       "      <th>992184</th>\n",
       "      <th>992185</th>\n",
       "      <th>992186</th>\n",
       "      <th>992187</th>\n",
       "    </tr>\n",
       "  </thead>\n",
       "  <tbody>\n",
       "    <tr>\n",
       "      <th>0</th>\n",
       "      <td>False</td>\n",
       "      <td>False</td>\n",
       "      <td>False</td>\n",
       "      <td>False</td>\n",
       "      <td>False</td>\n",
       "      <td>False</td>\n",
       "      <td>False</td>\n",
       "      <td>False</td>\n",
       "      <td>False</td>\n",
       "      <td>False</td>\n",
       "      <td>...</td>\n",
       "      <td>False</td>\n",
       "      <td>False</td>\n",
       "      <td>False</td>\n",
       "      <td>False</td>\n",
       "      <td>False</td>\n",
       "      <td>False</td>\n",
       "      <td>False</td>\n",
       "      <td>False</td>\n",
       "      <td>False</td>\n",
       "      <td>False</td>\n",
       "    </tr>\n",
       "    <tr>\n",
       "      <th>1</th>\n",
       "      <td>False</td>\n",
       "      <td>False</td>\n",
       "      <td>False</td>\n",
       "      <td>False</td>\n",
       "      <td>False</td>\n",
       "      <td>False</td>\n",
       "      <td>False</td>\n",
       "      <td>False</td>\n",
       "      <td>False</td>\n",
       "      <td>False</td>\n",
       "      <td>...</td>\n",
       "      <td>False</td>\n",
       "      <td>False</td>\n",
       "      <td>False</td>\n",
       "      <td>False</td>\n",
       "      <td>False</td>\n",
       "      <td>False</td>\n",
       "      <td>False</td>\n",
       "      <td>False</td>\n",
       "      <td>False</td>\n",
       "      <td>False</td>\n",
       "    </tr>\n",
       "    <tr>\n",
       "      <th>2</th>\n",
       "      <td>False</td>\n",
       "      <td>False</td>\n",
       "      <td>False</td>\n",
       "      <td>False</td>\n",
       "      <td>False</td>\n",
       "      <td>False</td>\n",
       "      <td>False</td>\n",
       "      <td>False</td>\n",
       "      <td>False</td>\n",
       "      <td>False</td>\n",
       "      <td>...</td>\n",
       "      <td>False</td>\n",
       "      <td>False</td>\n",
       "      <td>False</td>\n",
       "      <td>False</td>\n",
       "      <td>False</td>\n",
       "      <td>False</td>\n",
       "      <td>False</td>\n",
       "      <td>False</td>\n",
       "      <td>False</td>\n",
       "      <td>False</td>\n",
       "    </tr>\n",
       "    <tr>\n",
       "      <th>3</th>\n",
       "      <td>False</td>\n",
       "      <td>False</td>\n",
       "      <td>False</td>\n",
       "      <td>False</td>\n",
       "      <td>False</td>\n",
       "      <td>False</td>\n",
       "      <td>False</td>\n",
       "      <td>False</td>\n",
       "      <td>False</td>\n",
       "      <td>False</td>\n",
       "      <td>...</td>\n",
       "      <td>False</td>\n",
       "      <td>False</td>\n",
       "      <td>False</td>\n",
       "      <td>False</td>\n",
       "      <td>False</td>\n",
       "      <td>False</td>\n",
       "      <td>False</td>\n",
       "      <td>False</td>\n",
       "      <td>False</td>\n",
       "      <td>False</td>\n",
       "    </tr>\n",
       "    <tr>\n",
       "      <th>4</th>\n",
       "      <td>False</td>\n",
       "      <td>False</td>\n",
       "      <td>False</td>\n",
       "      <td>False</td>\n",
       "      <td>False</td>\n",
       "      <td>False</td>\n",
       "      <td>False</td>\n",
       "      <td>False</td>\n",
       "      <td>False</td>\n",
       "      <td>False</td>\n",
       "      <td>...</td>\n",
       "      <td>False</td>\n",
       "      <td>False</td>\n",
       "      <td>False</td>\n",
       "      <td>False</td>\n",
       "      <td>False</td>\n",
       "      <td>False</td>\n",
       "      <td>False</td>\n",
       "      <td>False</td>\n",
       "      <td>False</td>\n",
       "      <td>False</td>\n",
       "    </tr>\n",
       "    <tr>\n",
       "      <th>5</th>\n",
       "      <td>False</td>\n",
       "      <td>False</td>\n",
       "      <td>False</td>\n",
       "      <td>False</td>\n",
       "      <td>False</td>\n",
       "      <td>False</td>\n",
       "      <td>False</td>\n",
       "      <td>False</td>\n",
       "      <td>False</td>\n",
       "      <td>False</td>\n",
       "      <td>...</td>\n",
       "      <td>False</td>\n",
       "      <td>False</td>\n",
       "      <td>False</td>\n",
       "      <td>False</td>\n",
       "      <td>False</td>\n",
       "      <td>False</td>\n",
       "      <td>False</td>\n",
       "      <td>False</td>\n",
       "      <td>False</td>\n",
       "      <td>False</td>\n",
       "    </tr>\n",
       "    <tr>\n",
       "      <th>6</th>\n",
       "      <td>False</td>\n",
       "      <td>False</td>\n",
       "      <td>False</td>\n",
       "      <td>False</td>\n",
       "      <td>False</td>\n",
       "      <td>False</td>\n",
       "      <td>False</td>\n",
       "      <td>False</td>\n",
       "      <td>False</td>\n",
       "      <td>False</td>\n",
       "      <td>...</td>\n",
       "      <td>False</td>\n",
       "      <td>False</td>\n",
       "      <td>False</td>\n",
       "      <td>False</td>\n",
       "      <td>False</td>\n",
       "      <td>False</td>\n",
       "      <td>False</td>\n",
       "      <td>False</td>\n",
       "      <td>False</td>\n",
       "      <td>False</td>\n",
       "    </tr>\n",
       "    <tr>\n",
       "      <th>7</th>\n",
       "      <td>False</td>\n",
       "      <td>False</td>\n",
       "      <td>False</td>\n",
       "      <td>False</td>\n",
       "      <td>False</td>\n",
       "      <td>False</td>\n",
       "      <td>False</td>\n",
       "      <td>False</td>\n",
       "      <td>False</td>\n",
       "      <td>False</td>\n",
       "      <td>...</td>\n",
       "      <td>False</td>\n",
       "      <td>False</td>\n",
       "      <td>False</td>\n",
       "      <td>False</td>\n",
       "      <td>False</td>\n",
       "      <td>False</td>\n",
       "      <td>False</td>\n",
       "      <td>False</td>\n",
       "      <td>False</td>\n",
       "      <td>False</td>\n",
       "    </tr>\n",
       "    <tr>\n",
       "      <th>8</th>\n",
       "      <td>False</td>\n",
       "      <td>False</td>\n",
       "      <td>False</td>\n",
       "      <td>False</td>\n",
       "      <td>False</td>\n",
       "      <td>False</td>\n",
       "      <td>False</td>\n",
       "      <td>False</td>\n",
       "      <td>False</td>\n",
       "      <td>False</td>\n",
       "      <td>...</td>\n",
       "      <td>False</td>\n",
       "      <td>False</td>\n",
       "      <td>False</td>\n",
       "      <td>False</td>\n",
       "      <td>False</td>\n",
       "      <td>False</td>\n",
       "      <td>False</td>\n",
       "      <td>False</td>\n",
       "      <td>False</td>\n",
       "      <td>False</td>\n",
       "    </tr>\n",
       "    <tr>\n",
       "      <th>9</th>\n",
       "      <td>False</td>\n",
       "      <td>False</td>\n",
       "      <td>False</td>\n",
       "      <td>False</td>\n",
       "      <td>False</td>\n",
       "      <td>False</td>\n",
       "      <td>False</td>\n",
       "      <td>False</td>\n",
       "      <td>False</td>\n",
       "      <td>False</td>\n",
       "      <td>...</td>\n",
       "      <td>False</td>\n",
       "      <td>False</td>\n",
       "      <td>False</td>\n",
       "      <td>False</td>\n",
       "      <td>False</td>\n",
       "      <td>False</td>\n",
       "      <td>False</td>\n",
       "      <td>False</td>\n",
       "      <td>False</td>\n",
       "      <td>False</td>\n",
       "    </tr>\n",
       "    <tr>\n",
       "      <th>10</th>\n",
       "      <td>False</td>\n",
       "      <td>False</td>\n",
       "      <td>False</td>\n",
       "      <td>False</td>\n",
       "      <td>False</td>\n",
       "      <td>False</td>\n",
       "      <td>False</td>\n",
       "      <td>False</td>\n",
       "      <td>False</td>\n",
       "      <td>False</td>\n",
       "      <td>...</td>\n",
       "      <td>False</td>\n",
       "      <td>False</td>\n",
       "      <td>False</td>\n",
       "      <td>False</td>\n",
       "      <td>False</td>\n",
       "      <td>False</td>\n",
       "      <td>False</td>\n",
       "      <td>False</td>\n",
       "      <td>False</td>\n",
       "      <td>False</td>\n",
       "    </tr>\n",
       "    <tr>\n",
       "      <th>11</th>\n",
       "      <td>False</td>\n",
       "      <td>False</td>\n",
       "      <td>False</td>\n",
       "      <td>False</td>\n",
       "      <td>False</td>\n",
       "      <td>False</td>\n",
       "      <td>False</td>\n",
       "      <td>False</td>\n",
       "      <td>False</td>\n",
       "      <td>False</td>\n",
       "      <td>...</td>\n",
       "      <td>False</td>\n",
       "      <td>False</td>\n",
       "      <td>False</td>\n",
       "      <td>False</td>\n",
       "      <td>False</td>\n",
       "      <td>False</td>\n",
       "      <td>False</td>\n",
       "      <td>False</td>\n",
       "      <td>False</td>\n",
       "      <td>False</td>\n",
       "    </tr>\n",
       "    <tr>\n",
       "      <th>12</th>\n",
       "      <td>False</td>\n",
       "      <td>False</td>\n",
       "      <td>False</td>\n",
       "      <td>False</td>\n",
       "      <td>False</td>\n",
       "      <td>False</td>\n",
       "      <td>False</td>\n",
       "      <td>False</td>\n",
       "      <td>False</td>\n",
       "      <td>False</td>\n",
       "      <td>...</td>\n",
       "      <td>False</td>\n",
       "      <td>False</td>\n",
       "      <td>False</td>\n",
       "      <td>False</td>\n",
       "      <td>False</td>\n",
       "      <td>False</td>\n",
       "      <td>False</td>\n",
       "      <td>False</td>\n",
       "      <td>False</td>\n",
       "      <td>False</td>\n",
       "    </tr>\n",
       "    <tr>\n",
       "      <th>13</th>\n",
       "      <td>False</td>\n",
       "      <td>False</td>\n",
       "      <td>False</td>\n",
       "      <td>False</td>\n",
       "      <td>False</td>\n",
       "      <td>False</td>\n",
       "      <td>False</td>\n",
       "      <td>False</td>\n",
       "      <td>False</td>\n",
       "      <td>False</td>\n",
       "      <td>...</td>\n",
       "      <td>False</td>\n",
       "      <td>False</td>\n",
       "      <td>False</td>\n",
       "      <td>False</td>\n",
       "      <td>False</td>\n",
       "      <td>False</td>\n",
       "      <td>False</td>\n",
       "      <td>False</td>\n",
       "      <td>False</td>\n",
       "      <td>False</td>\n",
       "    </tr>\n",
       "    <tr>\n",
       "      <th>14</th>\n",
       "      <td>False</td>\n",
       "      <td>False</td>\n",
       "      <td>False</td>\n",
       "      <td>False</td>\n",
       "      <td>False</td>\n",
       "      <td>False</td>\n",
       "      <td>False</td>\n",
       "      <td>False</td>\n",
       "      <td>False</td>\n",
       "      <td>False</td>\n",
       "      <td>...</td>\n",
       "      <td>False</td>\n",
       "      <td>False</td>\n",
       "      <td>False</td>\n",
       "      <td>False</td>\n",
       "      <td>False</td>\n",
       "      <td>False</td>\n",
       "      <td>False</td>\n",
       "      <td>False</td>\n",
       "      <td>False</td>\n",
       "      <td>False</td>\n",
       "    </tr>\n",
       "    <tr>\n",
       "      <th>15</th>\n",
       "      <td>False</td>\n",
       "      <td>False</td>\n",
       "      <td>False</td>\n",
       "      <td>False</td>\n",
       "      <td>False</td>\n",
       "      <td>False</td>\n",
       "      <td>False</td>\n",
       "      <td>False</td>\n",
       "      <td>False</td>\n",
       "      <td>False</td>\n",
       "      <td>...</td>\n",
       "      <td>False</td>\n",
       "      <td>False</td>\n",
       "      <td>False</td>\n",
       "      <td>False</td>\n",
       "      <td>False</td>\n",
       "      <td>False</td>\n",
       "      <td>False</td>\n",
       "      <td>False</td>\n",
       "      <td>False</td>\n",
       "      <td>False</td>\n",
       "    </tr>\n",
       "    <tr>\n",
       "      <th>16</th>\n",
       "      <td>False</td>\n",
       "      <td>False</td>\n",
       "      <td>False</td>\n",
       "      <td>False</td>\n",
       "      <td>False</td>\n",
       "      <td>False</td>\n",
       "      <td>False</td>\n",
       "      <td>False</td>\n",
       "      <td>False</td>\n",
       "      <td>False</td>\n",
       "      <td>...</td>\n",
       "      <td>False</td>\n",
       "      <td>False</td>\n",
       "      <td>False</td>\n",
       "      <td>False</td>\n",
       "      <td>False</td>\n",
       "      <td>False</td>\n",
       "      <td>False</td>\n",
       "      <td>False</td>\n",
       "      <td>False</td>\n",
       "      <td>False</td>\n",
       "    </tr>\n",
       "    <tr>\n",
       "      <th>17</th>\n",
       "      <td>False</td>\n",
       "      <td>False</td>\n",
       "      <td>False</td>\n",
       "      <td>False</td>\n",
       "      <td>False</td>\n",
       "      <td>False</td>\n",
       "      <td>False</td>\n",
       "      <td>False</td>\n",
       "      <td>False</td>\n",
       "      <td>False</td>\n",
       "      <td>...</td>\n",
       "      <td>False</td>\n",
       "      <td>False</td>\n",
       "      <td>False</td>\n",
       "      <td>False</td>\n",
       "      <td>False</td>\n",
       "      <td>False</td>\n",
       "      <td>False</td>\n",
       "      <td>False</td>\n",
       "      <td>False</td>\n",
       "      <td>False</td>\n",
       "    </tr>\n",
       "  </tbody>\n",
       "</table>\n",
       "<p>18 rows × 992188 columns</p>\n",
       "</div>"
      ],
      "text/plain": [
       "    0       1       2       3       4       5       6       7       8       \\\n",
       "0    False   False   False   False   False   False   False   False   False   \n",
       "1    False   False   False   False   False   False   False   False   False   \n",
       "2    False   False   False   False   False   False   False   False   False   \n",
       "3    False   False   False   False   False   False   False   False   False   \n",
       "4    False   False   False   False   False   False   False   False   False   \n",
       "5    False   False   False   False   False   False   False   False   False   \n",
       "6    False   False   False   False   False   False   False   False   False   \n",
       "7    False   False   False   False   False   False   False   False   False   \n",
       "8    False   False   False   False   False   False   False   False   False   \n",
       "9    False   False   False   False   False   False   False   False   False   \n",
       "10   False   False   False   False   False   False   False   False   False   \n",
       "11   False   False   False   False   False   False   False   False   False   \n",
       "12   False   False   False   False   False   False   False   False   False   \n",
       "13   False   False   False   False   False   False   False   False   False   \n",
       "14   False   False   False   False   False   False   False   False   False   \n",
       "15   False   False   False   False   False   False   False   False   False   \n",
       "16   False   False   False   False   False   False   False   False   False   \n",
       "17   False   False   False   False   False   False   False   False   False   \n",
       "\n",
       "    9        ...    992178  992179  992180  992181  992182  992183  992184  \\\n",
       "0    False   ...     False   False   False   False   False   False   False   \n",
       "1    False   ...     False   False   False   False   False   False   False   \n",
       "2    False   ...     False   False   False   False   False   False   False   \n",
       "3    False   ...     False   False   False   False   False   False   False   \n",
       "4    False   ...     False   False   False   False   False   False   False   \n",
       "5    False   ...     False   False   False   False   False   False   False   \n",
       "6    False   ...     False   False   False   False   False   False   False   \n",
       "7    False   ...     False   False   False   False   False   False   False   \n",
       "8    False   ...     False   False   False   False   False   False   False   \n",
       "9    False   ...     False   False   False   False   False   False   False   \n",
       "10   False   ...     False   False   False   False   False   False   False   \n",
       "11   False   ...     False   False   False   False   False   False   False   \n",
       "12   False   ...     False   False   False   False   False   False   False   \n",
       "13   False   ...     False   False   False   False   False   False   False   \n",
       "14   False   ...     False   False   False   False   False   False   False   \n",
       "15   False   ...     False   False   False   False   False   False   False   \n",
       "16   False   ...     False   False   False   False   False   False   False   \n",
       "17   False   ...     False   False   False   False   False   False   False   \n",
       "\n",
       "    992185  992186  992187  \n",
       "0    False   False   False  \n",
       "1    False   False   False  \n",
       "2    False   False   False  \n",
       "3    False   False   False  \n",
       "4    False   False   False  \n",
       "5    False   False   False  \n",
       "6    False   False   False  \n",
       "7    False   False   False  \n",
       "8    False   False   False  \n",
       "9    False   False   False  \n",
       "10   False   False   False  \n",
       "11   False   False   False  \n",
       "12   False   False   False  \n",
       "13   False   False   False  \n",
       "14   False   False   False  \n",
       "15   False   False   False  \n",
       "16   False   False   False  \n",
       "17   False   False   False  \n",
       "\n",
       "[18 rows x 992188 columns]"
      ]
     },
     "execution_count": 37,
     "metadata": {},
     "output_type": "execute_result"
    }
   ],
   "source": [
    "X_NSD<df_d['Dnsd']"
   ]
  },
  {
   "cell_type": "code",
   "execution_count": 33,
   "metadata": {},
   "outputs": [],
   "source": [
    "X_SD.columns = range(X_SD.shape[1])"
   ]
  },
  {
   "cell_type": "code",
   "execution_count": 39,
   "metadata": {},
   "outputs": [],
   "source": [
    "I = pd.concat([X_SD<df_d['Dsd'],X_NSD<df_d['Dnsd']], axis = 1)"
   ]
  },
  {
   "cell_type": "code",
   "execution_count": 40,
   "metadata": {},
   "outputs": [
    {
     "data": {
      "text/html": [
       "<div>\n",
       "<style scoped>\n",
       "    .dataframe tbody tr th:only-of-type {\n",
       "        vertical-align: middle;\n",
       "    }\n",
       "\n",
       "    .dataframe tbody tr th {\n",
       "        vertical-align: top;\n",
       "    }\n",
       "\n",
       "    .dataframe thead th {\n",
       "        text-align: right;\n",
       "    }\n",
       "</style>\n",
       "<table border=\"1\" class=\"dataframe\">\n",
       "  <thead>\n",
       "    <tr style=\"text-align: right;\">\n",
       "      <th></th>\n",
       "      <th>0</th>\n",
       "      <th>1</th>\n",
       "      <th>2</th>\n",
       "      <th>3</th>\n",
       "      <th>4</th>\n",
       "      <th>5</th>\n",
       "      <th>6</th>\n",
       "      <th>7</th>\n",
       "      <th>8</th>\n",
       "      <th>9</th>\n",
       "      <th>...</th>\n",
       "      <th>992178</th>\n",
       "      <th>992179</th>\n",
       "      <th>992180</th>\n",
       "      <th>992181</th>\n",
       "      <th>992182</th>\n",
       "      <th>992183</th>\n",
       "      <th>992184</th>\n",
       "      <th>992185</th>\n",
       "      <th>992186</th>\n",
       "      <th>992187</th>\n",
       "    </tr>\n",
       "  </thead>\n",
       "  <tbody>\n",
       "    <tr>\n",
       "      <th>0</th>\n",
       "      <td>True</td>\n",
       "      <td>True</td>\n",
       "      <td>True</td>\n",
       "      <td>False</td>\n",
       "      <td>True</td>\n",
       "      <td>True</td>\n",
       "      <td>True</td>\n",
       "      <td>True</td>\n",
       "      <td>True</td>\n",
       "      <td>True</td>\n",
       "      <td>...</td>\n",
       "      <td>False</td>\n",
       "      <td>False</td>\n",
       "      <td>False</td>\n",
       "      <td>False</td>\n",
       "      <td>False</td>\n",
       "      <td>False</td>\n",
       "      <td>False</td>\n",
       "      <td>False</td>\n",
       "      <td>False</td>\n",
       "      <td>False</td>\n",
       "    </tr>\n",
       "    <tr>\n",
       "      <th>1</th>\n",
       "      <td>False</td>\n",
       "      <td>True</td>\n",
       "      <td>False</td>\n",
       "      <td>False</td>\n",
       "      <td>False</td>\n",
       "      <td>False</td>\n",
       "      <td>False</td>\n",
       "      <td>False</td>\n",
       "      <td>False</td>\n",
       "      <td>False</td>\n",
       "      <td>...</td>\n",
       "      <td>False</td>\n",
       "      <td>False</td>\n",
       "      <td>False</td>\n",
       "      <td>False</td>\n",
       "      <td>False</td>\n",
       "      <td>False</td>\n",
       "      <td>False</td>\n",
       "      <td>False</td>\n",
       "      <td>False</td>\n",
       "      <td>False</td>\n",
       "    </tr>\n",
       "    <tr>\n",
       "      <th>2</th>\n",
       "      <td>False</td>\n",
       "      <td>True</td>\n",
       "      <td>False</td>\n",
       "      <td>False</td>\n",
       "      <td>False</td>\n",
       "      <td>False</td>\n",
       "      <td>False</td>\n",
       "      <td>True</td>\n",
       "      <td>False</td>\n",
       "      <td>True</td>\n",
       "      <td>...</td>\n",
       "      <td>False</td>\n",
       "      <td>False</td>\n",
       "      <td>False</td>\n",
       "      <td>False</td>\n",
       "      <td>False</td>\n",
       "      <td>False</td>\n",
       "      <td>False</td>\n",
       "      <td>False</td>\n",
       "      <td>False</td>\n",
       "      <td>False</td>\n",
       "    </tr>\n",
       "    <tr>\n",
       "      <th>3</th>\n",
       "      <td>False</td>\n",
       "      <td>True</td>\n",
       "      <td>True</td>\n",
       "      <td>False</td>\n",
       "      <td>False</td>\n",
       "      <td>False</td>\n",
       "      <td>False</td>\n",
       "      <td>False</td>\n",
       "      <td>False</td>\n",
       "      <td>False</td>\n",
       "      <td>...</td>\n",
       "      <td>False</td>\n",
       "      <td>False</td>\n",
       "      <td>False</td>\n",
       "      <td>False</td>\n",
       "      <td>False</td>\n",
       "      <td>False</td>\n",
       "      <td>False</td>\n",
       "      <td>False</td>\n",
       "      <td>False</td>\n",
       "      <td>False</td>\n",
       "    </tr>\n",
       "    <tr>\n",
       "      <th>4</th>\n",
       "      <td>False</td>\n",
       "      <td>False</td>\n",
       "      <td>False</td>\n",
       "      <td>False</td>\n",
       "      <td>True</td>\n",
       "      <td>False</td>\n",
       "      <td>False</td>\n",
       "      <td>False</td>\n",
       "      <td>False</td>\n",
       "      <td>False</td>\n",
       "      <td>...</td>\n",
       "      <td>False</td>\n",
       "      <td>False</td>\n",
       "      <td>False</td>\n",
       "      <td>False</td>\n",
       "      <td>False</td>\n",
       "      <td>False</td>\n",
       "      <td>False</td>\n",
       "      <td>False</td>\n",
       "      <td>False</td>\n",
       "      <td>False</td>\n",
       "    </tr>\n",
       "    <tr>\n",
       "      <th>5</th>\n",
       "      <td>False</td>\n",
       "      <td>True</td>\n",
       "      <td>True</td>\n",
       "      <td>False</td>\n",
       "      <td>False</td>\n",
       "      <td>False</td>\n",
       "      <td>False</td>\n",
       "      <td>False</td>\n",
       "      <td>False</td>\n",
       "      <td>False</td>\n",
       "      <td>...</td>\n",
       "      <td>False</td>\n",
       "      <td>False</td>\n",
       "      <td>False</td>\n",
       "      <td>False</td>\n",
       "      <td>False</td>\n",
       "      <td>False</td>\n",
       "      <td>False</td>\n",
       "      <td>False</td>\n",
       "      <td>False</td>\n",
       "      <td>False</td>\n",
       "    </tr>\n",
       "    <tr>\n",
       "      <th>6</th>\n",
       "      <td>False</td>\n",
       "      <td>True</td>\n",
       "      <td>False</td>\n",
       "      <td>False</td>\n",
       "      <td>False</td>\n",
       "      <td>True</td>\n",
       "      <td>False</td>\n",
       "      <td>True</td>\n",
       "      <td>False</td>\n",
       "      <td>False</td>\n",
       "      <td>...</td>\n",
       "      <td>False</td>\n",
       "      <td>False</td>\n",
       "      <td>False</td>\n",
       "      <td>False</td>\n",
       "      <td>False</td>\n",
       "      <td>False</td>\n",
       "      <td>False</td>\n",
       "      <td>False</td>\n",
       "      <td>False</td>\n",
       "      <td>False</td>\n",
       "    </tr>\n",
       "    <tr>\n",
       "      <th>7</th>\n",
       "      <td>False</td>\n",
       "      <td>True</td>\n",
       "      <td>False</td>\n",
       "      <td>False</td>\n",
       "      <td>False</td>\n",
       "      <td>False</td>\n",
       "      <td>False</td>\n",
       "      <td>True</td>\n",
       "      <td>False</td>\n",
       "      <td>False</td>\n",
       "      <td>...</td>\n",
       "      <td>False</td>\n",
       "      <td>False</td>\n",
       "      <td>False</td>\n",
       "      <td>False</td>\n",
       "      <td>False</td>\n",
       "      <td>False</td>\n",
       "      <td>False</td>\n",
       "      <td>False</td>\n",
       "      <td>False</td>\n",
       "      <td>False</td>\n",
       "    </tr>\n",
       "    <tr>\n",
       "      <th>8</th>\n",
       "      <td>False</td>\n",
       "      <td>True</td>\n",
       "      <td>False</td>\n",
       "      <td>False</td>\n",
       "      <td>False</td>\n",
       "      <td>True</td>\n",
       "      <td>False</td>\n",
       "      <td>True</td>\n",
       "      <td>True</td>\n",
       "      <td>True</td>\n",
       "      <td>...</td>\n",
       "      <td>False</td>\n",
       "      <td>False</td>\n",
       "      <td>False</td>\n",
       "      <td>False</td>\n",
       "      <td>False</td>\n",
       "      <td>False</td>\n",
       "      <td>False</td>\n",
       "      <td>False</td>\n",
       "      <td>False</td>\n",
       "      <td>False</td>\n",
       "    </tr>\n",
       "    <tr>\n",
       "      <th>9</th>\n",
       "      <td>True</td>\n",
       "      <td>True</td>\n",
       "      <td>False</td>\n",
       "      <td>False</td>\n",
       "      <td>True</td>\n",
       "      <td>False</td>\n",
       "      <td>False</td>\n",
       "      <td>False</td>\n",
       "      <td>False</td>\n",
       "      <td>True</td>\n",
       "      <td>...</td>\n",
       "      <td>False</td>\n",
       "      <td>False</td>\n",
       "      <td>False</td>\n",
       "      <td>False</td>\n",
       "      <td>False</td>\n",
       "      <td>False</td>\n",
       "      <td>False</td>\n",
       "      <td>False</td>\n",
       "      <td>False</td>\n",
       "      <td>False</td>\n",
       "    </tr>\n",
       "    <tr>\n",
       "      <th>10</th>\n",
       "      <td>True</td>\n",
       "      <td>True</td>\n",
       "      <td>True</td>\n",
       "      <td>False</td>\n",
       "      <td>True</td>\n",
       "      <td>False</td>\n",
       "      <td>False</td>\n",
       "      <td>False</td>\n",
       "      <td>False</td>\n",
       "      <td>False</td>\n",
       "      <td>...</td>\n",
       "      <td>False</td>\n",
       "      <td>False</td>\n",
       "      <td>False</td>\n",
       "      <td>False</td>\n",
       "      <td>False</td>\n",
       "      <td>False</td>\n",
       "      <td>False</td>\n",
       "      <td>False</td>\n",
       "      <td>False</td>\n",
       "      <td>False</td>\n",
       "    </tr>\n",
       "    <tr>\n",
       "      <th>11</th>\n",
       "      <td>False</td>\n",
       "      <td>True</td>\n",
       "      <td>False</td>\n",
       "      <td>False</td>\n",
       "      <td>False</td>\n",
       "      <td>True</td>\n",
       "      <td>False</td>\n",
       "      <td>False</td>\n",
       "      <td>False</td>\n",
       "      <td>False</td>\n",
       "      <td>...</td>\n",
       "      <td>False</td>\n",
       "      <td>False</td>\n",
       "      <td>False</td>\n",
       "      <td>False</td>\n",
       "      <td>False</td>\n",
       "      <td>False</td>\n",
       "      <td>False</td>\n",
       "      <td>False</td>\n",
       "      <td>False</td>\n",
       "      <td>False</td>\n",
       "    </tr>\n",
       "    <tr>\n",
       "      <th>12</th>\n",
       "      <td>True</td>\n",
       "      <td>False</td>\n",
       "      <td>False</td>\n",
       "      <td>False</td>\n",
       "      <td>True</td>\n",
       "      <td>False</td>\n",
       "      <td>False</td>\n",
       "      <td>False</td>\n",
       "      <td>False</td>\n",
       "      <td>True</td>\n",
       "      <td>...</td>\n",
       "      <td>False</td>\n",
       "      <td>False</td>\n",
       "      <td>False</td>\n",
       "      <td>False</td>\n",
       "      <td>False</td>\n",
       "      <td>False</td>\n",
       "      <td>False</td>\n",
       "      <td>False</td>\n",
       "      <td>False</td>\n",
       "      <td>False</td>\n",
       "    </tr>\n",
       "    <tr>\n",
       "      <th>13</th>\n",
       "      <td>False</td>\n",
       "      <td>True</td>\n",
       "      <td>False</td>\n",
       "      <td>False</td>\n",
       "      <td>True</td>\n",
       "      <td>False</td>\n",
       "      <td>False</td>\n",
       "      <td>True</td>\n",
       "      <td>False</td>\n",
       "      <td>False</td>\n",
       "      <td>...</td>\n",
       "      <td>False</td>\n",
       "      <td>False</td>\n",
       "      <td>False</td>\n",
       "      <td>False</td>\n",
       "      <td>False</td>\n",
       "      <td>False</td>\n",
       "      <td>False</td>\n",
       "      <td>False</td>\n",
       "      <td>False</td>\n",
       "      <td>False</td>\n",
       "    </tr>\n",
       "    <tr>\n",
       "      <th>14</th>\n",
       "      <td>False</td>\n",
       "      <td>True</td>\n",
       "      <td>False</td>\n",
       "      <td>False</td>\n",
       "      <td>False</td>\n",
       "      <td>False</td>\n",
       "      <td>False</td>\n",
       "      <td>False</td>\n",
       "      <td>False</td>\n",
       "      <td>False</td>\n",
       "      <td>...</td>\n",
       "      <td>False</td>\n",
       "      <td>False</td>\n",
       "      <td>False</td>\n",
       "      <td>False</td>\n",
       "      <td>False</td>\n",
       "      <td>False</td>\n",
       "      <td>False</td>\n",
       "      <td>False</td>\n",
       "      <td>False</td>\n",
       "      <td>False</td>\n",
       "    </tr>\n",
       "    <tr>\n",
       "      <th>15</th>\n",
       "      <td>False</td>\n",
       "      <td>True</td>\n",
       "      <td>False</td>\n",
       "      <td>False</td>\n",
       "      <td>False</td>\n",
       "      <td>True</td>\n",
       "      <td>False</td>\n",
       "      <td>False</td>\n",
       "      <td>False</td>\n",
       "      <td>False</td>\n",
       "      <td>...</td>\n",
       "      <td>False</td>\n",
       "      <td>False</td>\n",
       "      <td>False</td>\n",
       "      <td>False</td>\n",
       "      <td>False</td>\n",
       "      <td>False</td>\n",
       "      <td>False</td>\n",
       "      <td>False</td>\n",
       "      <td>False</td>\n",
       "      <td>False</td>\n",
       "    </tr>\n",
       "    <tr>\n",
       "      <th>16</th>\n",
       "      <td>False</td>\n",
       "      <td>True</td>\n",
       "      <td>True</td>\n",
       "      <td>False</td>\n",
       "      <td>False</td>\n",
       "      <td>True</td>\n",
       "      <td>False</td>\n",
       "      <td>False</td>\n",
       "      <td>False</td>\n",
       "      <td>False</td>\n",
       "      <td>...</td>\n",
       "      <td>False</td>\n",
       "      <td>False</td>\n",
       "      <td>False</td>\n",
       "      <td>False</td>\n",
       "      <td>False</td>\n",
       "      <td>False</td>\n",
       "      <td>False</td>\n",
       "      <td>False</td>\n",
       "      <td>False</td>\n",
       "      <td>False</td>\n",
       "    </tr>\n",
       "    <tr>\n",
       "      <th>17</th>\n",
       "      <td>False</td>\n",
       "      <td>True</td>\n",
       "      <td>True</td>\n",
       "      <td>False</td>\n",
       "      <td>False</td>\n",
       "      <td>True</td>\n",
       "      <td>False</td>\n",
       "      <td>False</td>\n",
       "      <td>False</td>\n",
       "      <td>False</td>\n",
       "      <td>...</td>\n",
       "      <td>False</td>\n",
       "      <td>False</td>\n",
       "      <td>False</td>\n",
       "      <td>False</td>\n",
       "      <td>False</td>\n",
       "      <td>False</td>\n",
       "      <td>False</td>\n",
       "      <td>False</td>\n",
       "      <td>False</td>\n",
       "      <td>False</td>\n",
       "    </tr>\n",
       "  </tbody>\n",
       "</table>\n",
       "<p>18 rows × 1000000 columns</p>\n",
       "</div>"
      ],
      "text/plain": [
       "    0       1       2       3       4       5       6       7       8       \\\n",
       "0     True    True    True   False    True    True    True    True    True   \n",
       "1    False    True   False   False   False   False   False   False   False   \n",
       "2    False    True   False   False   False   False   False    True   False   \n",
       "3    False    True    True   False   False   False   False   False   False   \n",
       "4    False   False   False   False    True   False   False   False   False   \n",
       "5    False    True    True   False   False   False   False   False   False   \n",
       "6    False    True   False   False   False    True   False    True   False   \n",
       "7    False    True   False   False   False   False   False    True   False   \n",
       "8    False    True   False   False   False    True   False    True    True   \n",
       "9     True    True   False   False    True   False   False   False   False   \n",
       "10    True    True    True   False    True   False   False   False   False   \n",
       "11   False    True   False   False   False    True   False   False   False   \n",
       "12    True   False   False   False    True   False   False   False   False   \n",
       "13   False    True   False   False    True   False   False    True   False   \n",
       "14   False    True   False   False   False   False   False   False   False   \n",
       "15   False    True   False   False   False    True   False   False   False   \n",
       "16   False    True    True   False   False    True   False   False   False   \n",
       "17   False    True    True   False   False    True   False   False   False   \n",
       "\n",
       "    9        ...    992178  992179  992180  992181  992182  992183  992184  \\\n",
       "0     True   ...     False   False   False   False   False   False   False   \n",
       "1    False   ...     False   False   False   False   False   False   False   \n",
       "2     True   ...     False   False   False   False   False   False   False   \n",
       "3    False   ...     False   False   False   False   False   False   False   \n",
       "4    False   ...     False   False   False   False   False   False   False   \n",
       "5    False   ...     False   False   False   False   False   False   False   \n",
       "6    False   ...     False   False   False   False   False   False   False   \n",
       "7    False   ...     False   False   False   False   False   False   False   \n",
       "8     True   ...     False   False   False   False   False   False   False   \n",
       "9     True   ...     False   False   False   False   False   False   False   \n",
       "10   False   ...     False   False   False   False   False   False   False   \n",
       "11   False   ...     False   False   False   False   False   False   False   \n",
       "12    True   ...     False   False   False   False   False   False   False   \n",
       "13   False   ...     False   False   False   False   False   False   False   \n",
       "14   False   ...     False   False   False   False   False   False   False   \n",
       "15   False   ...     False   False   False   False   False   False   False   \n",
       "16   False   ...     False   False   False   False   False   False   False   \n",
       "17   False   ...     False   False   False   False   False   False   False   \n",
       "\n",
       "    992185  992186  992187  \n",
       "0    False   False   False  \n",
       "1    False   False   False  \n",
       "2    False   False   False  \n",
       "3    False   False   False  \n",
       "4    False   False   False  \n",
       "5    False   False   False  \n",
       "6    False   False   False  \n",
       "7    False   False   False  \n",
       "8    False   False   False  \n",
       "9    False   False   False  \n",
       "10   False   False   False  \n",
       "11   False   False   False  \n",
       "12   False   False   False  \n",
       "13   False   False   False  \n",
       "14   False   False   False  \n",
       "15   False   False   False  \n",
       "16   False   False   False  \n",
       "17   False   False   False  \n",
       "\n",
       "[18 rows x 1000000 columns]"
      ]
     },
     "execution_count": 40,
     "metadata": {},
     "output_type": "execute_result"
    }
   ],
   "source": [
    "I"
   ]
  },
  {
   "cell_type": "code",
   "execution_count": null,
   "metadata": {
    "scrolled": true
   },
   "outputs": [],
   "source": [
    "df_D[df_d['SOV_ID']==1]"
   ]
  },
  {
   "cell_type": "code",
   "execution_count": null,
   "metadata": {
    "scrolled": true
   },
   "outputs": [],
   "source": [
    "X_df[df_d['SOV_ID']==1]<df_D[df_d['SOV_ID']==1][0]"
   ]
  },
  {
   "cell_type": "code",
   "execution_count": null,
   "metadata": {},
   "outputs": [],
   "source": [
    "X2 = X_df.transpose()\n",
    "D2 = df_D.transpose()\n",
    "sov_ind = df_d[df_d['SOV_ID']==1].index[0]"
   ]
  },
  {
   "cell_type": "code",
   "execution_count": null,
   "metadata": {},
   "outputs": [],
   "source": [
    "df_d"
   ]
  },
  {
   "cell_type": "code",
   "execution_count": null,
   "metadata": {},
   "outputs": [],
   "source": [
    "df_d.loc[sov_ind, 'Dsd']"
   ]
  },
  {
   "cell_type": "code",
   "execution_count": null,
   "metadata": {},
   "outputs": [],
   "source": [
    "X_SD = X2[X2[sov_ind]<df_d.loc[sov_ind, 'Dsd']].transpose().copy()\n",
    "X_NSD = X2.drop(X_SD.columns, axis = 0).transpose()"
   ]
  },
  {
   "cell_type": "code",
   "execution_count": null,
   "metadata": {},
   "outputs": [],
   "source": [
    "X_SD.shape[1]"
   ]
  },
  {
   "cell_type": "code",
   "execution_count": null,
   "metadata": {},
   "outputs": [],
   "source": [
    "X_NSD"
   ]
  },
  {
   "cell_type": "code",
   "execution_count": null,
   "metadata": {},
   "outputs": [],
   "source": [
    "temp = X_df.loc[:,:10].copy()"
   ]
  },
  {
   "cell_type": "code",
   "execution_count": null,
   "metadata": {},
   "outputs": [],
   "source": [
    "(temp[df_d['SOV_ID']==1]<df_D[df_d['SOV_ID']==1].loc[0,0:10]+2)"
   ]
  },
  {
   "cell_type": "code",
   "execution_count": null,
   "metadata": {},
   "outputs": [],
   "source": [
    "temp"
   ]
  },
  {
   "cell_type": "code",
   "execution_count": null,
   "metadata": {},
   "outputs": [],
   "source": [
    "temp.transpose()[(temp[df_d['SOV_ID']==1]<df_D[df_d['SOV_ID']==1].loc[0,0:10]+2).transpose()]"
   ]
  },
  {
   "cell_type": "code",
   "execution_count": null,
   "metadata": {
    "scrolled": true
   },
   "outputs": [],
   "source": [
    "df_d"
   ]
  },
  {
   "cell_type": "code",
   "execution_count": null,
   "metadata": {},
   "outputs": [],
   "source": [
    "[df_port[df_port['SOV_ID']==1]['d'].values[0]]*2"
   ]
  },
  {
   "cell_type": "code",
   "execution_count": null,
   "metadata": {},
   "outputs": [],
   "source": [
    "df_d[df_d['SOV_ID'] == 1].index[0]"
   ]
  },
  {
   "cell_type": "code",
   "execution_count": null,
   "metadata": {},
   "outputs": [],
   "source": [
    "df_d.loc[df_d[df_d['SOV_ID'] == 1].index[0],['Dsd','Dnsd']] = [df_port[df_port['SOV_ID']==1]['d'].values[0]]*2"
   ]
  },
  {
   "cell_type": "code",
   "execution_count": null,
   "metadata": {},
   "outputs": [],
   "source": [
    "df_d"
   ]
  },
  {
   "cell_type": "code",
   "execution_count": null,
   "metadata": {},
   "outputs": [],
   "source": [
    "aux = '''    \n",
    " [1,] \"AKT\"          \"MDMOJC\"      \n",
    " [2,] \"ALROSA\"       \"AKT\"         \n",
    " [3,] \"ALROSA\"       \"BOM\"         \n",
    " [4,] \"ALROSA\"       \"LUKOIL\"      \n",
    " [5,] \"ALROSA\"       \"MBT\"         \n",
    " [6,] \"BKECON\"       \"ROSNEF\"      \n",
    " [7,] \"BOM\"          \"VTB\"         \n",
    " [8,] \"EVRGSA\"       \"RUSAGB\"      \n",
    " [9,] \"GAZPRU\"       \"AKT\"         \n",
    "[10,] \"GAZPRU\"       \"GAZPRU.Gneft\"\n",
    "[11,] \"GAZPRU\"       \"RUSAGB\"      \n",
    "[12,] \"GAZPRU\"       \"RUSRAI\"      \n",
    "[13,] \"GAZPRU\"       \"RUSSIA\"      \n",
    "[14,] \"GAZPRU\"       \"SBERBANK\"    \n",
    "[15,] \"GAZPRU.Gneft\" \"BKECON\"      \n",
    "[16,] \"GAZPRU.Gneft\" \"CITMOS\"      \n",
    "[17,] \"GAZPRU.Gneft\" \"RUSRAI\"      \n",
    "[18,] \"GAZPRU.Gneft\" \"RUSSIA\"      \n",
    "[19,] \"GAZPRU.Gneft\" \"SBERBANK\"    \n",
    "[20,] \"LUKOIL\"       \"ROSNEF\"      \n",
    "[21,] \"ROSNEF\"       \"VIP\"         \n",
    "[22,] \"ROSNEF\"       \"VTB\"         \n",
    "[23,] \"RUSRAI\"       \"ROSNEF\"      \n",
    "[24,] \"RUSSIA\"       \"RUSAGB\"      \n",
    "[25,] \"SBERBANK\"     \"CITMOS\"      \n",
    "[26,] \"SBERBANK\"     \"RUSAGB\"'''"
   ]
  },
  {
   "cell_type": "code",
   "execution_count": null,
   "metadata": {},
   "outputs": [],
   "source": [
    "aux = aux.replace('\"\"','\",\"')"
   ]
  },
  {
   "cell_type": "code",
   "execution_count": null,
   "metadata": {},
   "outputs": [],
   "source": [
    "aux"
   ]
  },
  {
   "cell_type": "code",
   "execution_count": null,
   "metadata": {},
   "outputs": [],
   "source": [
    "path = r'C:\\Users\\Javier\\Documents\\MEGA\\Universitattt\\Master\\Thesis\\CDS_data\\factor_model'\n",
    "\n",
    "score = 'k2'\n",
    "algorithm = 'hc'\n",
    "directory = score + '_' + algorithm + '_' + '200' + '_' + '100'\n",
    "file = 'PortfolioA_' + score +'_' + algorithm + '.csv'\n",
    "\n",
    "Portfolio = pd.read_csv(os.path.join(path,directory,file), sep=',', index_col = 0)\n",
    "# Read the correlation matrix from .csv\n",
    "Omega = pd.read_csv(os.path.join(path,'Ioannis','Omega.csv'), index_col = 0, header = 0)"
   ]
  },
  {
   "cell_type": "code",
   "execution_count": null,
   "metadata": {},
   "outputs": [],
   "source": [
    "m = len(Portfolio)    # number of counterparties in the portfolio\n",
    "N = 1000000          # number of simulations\n",
    "p = Omega.shape[0]    # number of systematic factors"
   ]
  },
  {
   "cell_type": "code",
   "execution_count": null,
   "metadata": {},
   "outputs": [],
   "source": [
    "[1]*2"
   ]
  },
  {
   "cell_type": "code",
   "execution_count": null,
   "metadata": {},
   "outputs": [],
   "source": [
    "p"
   ]
  },
  {
   "cell_type": "code",
   "execution_count": null,
   "metadata": {},
   "outputs": [],
   "source": [
    "Beta = Portfolio[[col for col in list(Portfolio) if col.startswith('beta')]].values\n",
    "gamma = Portfolio['gamma'].values\n",
    "PD = Portfolio['PD'].values\n",
    "EAD = Portfolio['EAD'].values\n",
    "LGD = Portfolio['LGD'].values"
   ]
  },
  {
   "cell_type": "code",
   "execution_count": null,
   "metadata": {},
   "outputs": [],
   "source": [
    "# Analytical Expected Loss\n",
    "EL_an = np.sum(PD*EAD*LGD)"
   ]
  },
  {
   "cell_type": "code",
   "execution_count": null,
   "metadata": {},
   "outputs": [],
   "source": [
    "# Calibrate default thresholds with PDs\n",
    "d = norm.ppf(PD)\n",
    "# perform a Cholesky factorisation\n",
    "L = np.linalg.cholesky(Omega)"
   ]
  },
  {
   "cell_type": "code",
   "execution_count": null,
   "metadata": {},
   "outputs": [],
   "source": [
    "np.random.seed(10)\n",
    "# generate independent normals for the factors\n",
    "Z = np.random.standard_normal((p, N))"
   ]
  },
  {
   "cell_type": "code",
   "execution_count": null,
   "metadata": {},
   "outputs": [],
   "source": [
    "# convert independent unit normals to correlated\n",
    "F = np.dot(L, Z)"
   ]
  },
  {
   "cell_type": "code",
   "execution_count": null,
   "metadata": {},
   "outputs": [],
   "source": [
    "# idiosyncratic loading s.t. the returns are standard normal\n",
    "id_load = np.diagonal(np.sqrt(1-np.dot(np.dot(Beta,Omega),Beta.T)))\n",
    "epsilon = np.random.standard_normal((N, m))\n",
    "# Put everything together to get the returns\n",
    "X = np.dot(Beta,F) + (id_load*epsilon).T"
   ]
  },
  {
   "cell_type": "code",
   "execution_count": null,
   "metadata": {},
   "outputs": [],
   "source": [
    "# Calculate UL with no contagion\n",
    "# construct default indicator\n",
    "I = (((X.T-d)<0))\n",
    "L = (EAD*LGD*I).T\n",
    "# print(np.mean(L,axis=1))\n",
    "Loss=np.sum(L,axis=0)"
   ]
  },
  {
   "cell_type": "code",
   "execution_count": null,
   "metadata": {},
   "outputs": [],
   "source": [
    "# Calculate UL with contagion\n",
    "\n",
    "SOV_ID = Portfolio['SOV_ID'].values\n",
    "SOV_LINK = Portfolio['SOV_LINK'].values\n",
    "\n",
    "Dsd = np.zeros(m)\n",
    "Dnsd = np.zeros(m)"
   ]
  },
  {
   "cell_type": "code",
   "execution_count": null,
   "metadata": {},
   "outputs": [],
   "source": [
    "SOV_LINK"
   ]
  },
  {
   "cell_type": "code",
   "execution_count": null,
   "metadata": {},
   "outputs": [],
   "source": [
    "# With contagion\n",
    "for i in range(0,m):\n",
    "    if SOV_ID[i] != 0:\n",
    "        Dsd[i] = d[i]\n",
    "        Dnsd[i] = d[i]\n",
    "    else:\n",
    "        sov_ind = np.nonzero(SOV_ID == SOV_LINK[i])[0][0]\n",
    "        PDs = PD[sov_ind]\n",
    "        corr = np.dot(np.dot((Beta[i]).T,Omega),(Beta[sov_ind]))\n",
    "        \n",
    "        Fsd = lambda x: mvn.mvndst([-100, -100], [x, norm.ppf(PDs)],[0,0],corr)[1] / PDs - gamma[i]\n",
    "        Dsd[i] = fsolve(Fsd, norm.ppf(gamma[i])) # is thera a better initial guess?\n",
    "        Fnsd = lambda x: mvn.mvndst([-100, norm.ppf(PDs)], [x, 100],[0,1],corr)[1] - PD[i] + gamma[i]*PDs\n",
    "        Dnsd[i] = fsolve(Fnsd, norm.ppf(PD[i])) # is there a better initial guess?\n",
    "        if Dsd[i]< d[i] or PD[i]<PD[sov_ind]:\n",
    "            Dsd[i] = d[i]\n",
    "            Dnsd[i] = d[i]"
   ]
  },
  {
   "cell_type": "code",
   "execution_count": null,
   "metadata": {},
   "outputs": [],
   "source": [
    "# Thresholds\n",
    "D = np.array([Dnsd]*N).T\n",
    "\n",
    "X_sov = X[np.nonzero(SOV_ID !=0)[0]]\n",
    "D_sov = D[np.nonzero(SOV_ID !=0)[0]]\n",
    "\n",
    "I_sov = (((X_sov-D_sov)<0))\n",
    "\n",
    "for i in range(0,N):\n",
    "    for j in range(0,m):\n",
    "        if SOV_ID[j]==0 and I_sov[SOV_LINK[j]-1,i] == 1:\n",
    "            D[j,i] = Dsd[j]"
   ]
  },
  {
   "cell_type": "code",
   "execution_count": null,
   "metadata": {},
   "outputs": [],
   "source": [
    "# construct default indicator\n",
    "I_c = ((X-D)<0).T"
   ]
  },
  {
   "cell_type": "code",
   "execution_count": null,
   "metadata": {},
   "outputs": [],
   "source": [
    "L = (EAD*LGD*I_c).T\n",
    "# print(np.mean(L,axis=1))\n",
    "Loss_c=np.sum(L,axis=0)"
   ]
  },
  {
   "cell_type": "code",
   "execution_count": null,
   "metadata": {},
   "outputs": [],
   "source": [
    "EL = np.mean(Loss)\n",
    "# Arithmetic mean of Loss\n",
    "EL_c = np.mean(Loss_c)"
   ]
  },
  {
   "cell_type": "code",
   "execution_count": null,
   "metadata": {},
   "outputs": [],
   "source": [
    "# UL_98 = np.percentile(Loss, 98)\n",
    "UL_99 = np.percentile(Loss, 99)\n",
    "UL_995 = np.percentile(Loss, 99.5)\n",
    "UL_999 = np.percentile(Loss, 99.9)\n",
    "UL_9999 = np.percentile(Loss, 99.99)"
   ]
  },
  {
   "cell_type": "code",
   "execution_count": null,
   "metadata": {},
   "outputs": [],
   "source": [
    "# UL_98_c = np.percentile(Loss_c, 98)\n",
    "UL_99_c = np.percentile(Loss_c, 99)\n",
    "UL_995_c = np.percentile(Loss_c, 99.5)\n",
    "UL_999_c = np.percentile(Loss_c, 99.9)\n",
    "UL_9999_c = np.percentile(Loss_c, 99.99)"
   ]
  },
  {
   "cell_type": "code",
   "execution_count": null,
   "metadata": {},
   "outputs": [],
   "source": [
    "UL = np.array([ UL_99, UL_995, UL_999, UL_9999])\n",
    "UL_c = np.array([ UL_99_c, UL_995_c, UL_999_c, UL_9999_c])"
   ]
  },
  {
   "cell_type": "code",
   "execution_count": null,
   "metadata": {},
   "outputs": [],
   "source": [
    "print(\"UL:   \",UL)\n",
    "print(\"UL_c: \",UL_c)"
   ]
  },
  {
   "cell_type": "code",
   "execution_count": null,
   "metadata": {},
   "outputs": [],
   "source": [
    "print(\"EL_an: \",EL_an)\n",
    "print(\"EL: \",EL)\n",
    "print(\"EL_c: \",EL_c)"
   ]
  },
  {
   "cell_type": "code",
   "execution_count": null,
   "metadata": {},
   "outputs": [],
   "source": [
    "fig, ax = plt.subplots()\n",
    "fig.suptitle(\"Portfolio A\",fontsize = 15)\n",
    "bar_locations = np.arange(len(UL))\n",
    "ax.bar(bar_locations, UL, width=0.5)\n",
    "ax.bar(bar_locations, np.maximum((UL_c-UL),0), bottom=UL,width=0.5)\n",
    "ax.set_ylabel('Loss (millions)')\n",
    "ax.set_xlabel('Quantile')"
   ]
  },
  {
   "cell_type": "code",
   "execution_count": null,
   "metadata": {},
   "outputs": [],
   "source": [
    "scale_y = 1e6\n",
    "ticks_y = ticker.FuncFormatter(lambda x, pos: '{0:g}'.format(x/scale_y))\n",
    "ax.yaxis.set_major_formatter(ticks_y)\n",
    "ax.legend( ('Loss', 'Contagion add-on'))\n",
    "ax.set_xticklabels([0, '99%','','99.5%','', '99.9%','','99.99%'])"
   ]
  },
  {
   "cell_type": "code",
   "execution_count": null,
   "metadata": {},
   "outputs": [],
   "source": [
    "fig, ax = plt.subplots()\n",
    "fig.suptitle(\"Portfolio A\",fontsize = 15)\n",
    "bar_locations = np.arange(len(UL))\n",
    "ax.bar(bar_locations, UL, width=0.5)\n",
    "ax.bar(bar_locations, np.maximum((UL_c-UL),0), bottom=UL,width=0.5)\n",
    "ax.set_ylabel('Loss (millions)')\n",
    "ax.set_xlabel('Quantile')\n",
    "\n",
    "scale_y = 1e6\n",
    "ticks_y = ticker.FuncFormatter(lambda x, pos: '{0:g}'.format(x/scale_y))\n",
    "ax.yaxis.set_major_formatter(ticks_y)\n",
    "ax.legend( ('Loss', 'Contagion add-on'))\n",
    "ax.set_xticklabels([0, '99%','','99.5%','', '99.9%','','99.99%'])\n",
    "\n",
    "fig.show()"
   ]
  },
  {
   "cell_type": "code",
   "execution_count": null,
   "metadata": {},
   "outputs": [],
   "source": [
    "import numpy as np\n",
    "import matplotlib.pyplot as plt\n",
    "\n",
    "\n",
    "N = 5\n",
    "menMeans = (20, 35, 30, 35, 27)\n",
    "womenMeans = (25, 32, 34, 20, 25)\n",
    "menStd = (2, 3, 4, 1, 2)\n",
    "womenStd = (3, 5, 2, 3, 3)\n",
    "ind = np.arange(N)    # the x locations for the groups\n",
    "width = 0.35       # the width of the bars: can also be len(x) sequence\n",
    "\n",
    "p1 = plt.bar(ind, menMeans, width, yerr=menStd)\n",
    "p2 = plt.bar(ind, womenMeans, width, bottom=menMeans, yerr=womenStd)\n",
    "\n",
    "plt.ylabel('Scores')\n",
    "plt.title('Scores by group and gender')\n",
    "plt.xticks(ind, ('G1', 'G2', 'G3', 'G4', 'G5'))\n",
    "plt.yticks(np.arange(0, 81, 10))\n",
    "plt.legend((p1[0], p2[0]), ('Men', 'Women'))\n",
    "\n",
    "plt.show()"
   ]
  },
  {
   "cell_type": "code",
   "execution_count": null,
   "metadata": {},
   "outputs": [],
   "source": [
    "time_para = 15\n",
    "delay = 1\n",
    "period = 4"
   ]
  },
  {
   "cell_type": "code",
   "execution_count": null,
   "metadata": {},
   "outputs": [],
   "source": [
    "# Read Portfolio and correlation matrix\n",
    "path = r'C:\\Users\\Javier\\Documents\\MEGA\\Universitattt\\Master\\Thesis\\CDS_data\\factor_model'\n",
    "directory = 'time_' + str(time_para) + '_delay_' + str(delay)\n",
    "file = 'period_' + str(period) + '_portfolio.csv'\n",
    "\n",
    "Portfolio = pd.read_csv(os.path.join(path,directory,file), sep=',')\n",
    "# Read the correlation matrix from .csv\n",
    "Omega = pd.read_csv(r'C:\\Users\\Javier\\Documents\\MEGA\\Universitattt\\Master\\Thesis\\CDS_data\\factor_model\\Ioannis\\Omega.csv', index_col = 0,header = 0)\n"
   ]
  },
  {
   "cell_type": "code",
   "execution_count": null,
   "metadata": {},
   "outputs": [],
   "source": [
    "m = len(Portfolio)    # number of counterparties in the portfolio\n",
    "N = 10**6             # number of simulations\n",
    "p = Omega.shape[0]    # number of systematic factors"
   ]
  },
  {
   "cell_type": "code",
   "execution_count": null,
   "metadata": {},
   "outputs": [],
   "source": [
    "df_port = Portfolio[['SOV_ID','PD','EAD','LGD']]"
   ]
  },
  {
   "cell_type": "code",
   "execution_count": null,
   "metadata": {},
   "outputs": [],
   "source": [
    "df_port"
   ]
  },
  {
   "cell_type": "code",
   "execution_count": null,
   "metadata": {},
   "outputs": [],
   "source": [
    "prod = lambda x: x[0]*x[1]*x[2]"
   ]
  },
  {
   "cell_type": "code",
   "execution_count": null,
   "metadata": {},
   "outputs": [],
   "source": [
    "pd.options.mode.chained_assignment = None"
   ]
  },
  {
   "cell_type": "code",
   "execution_count": null,
   "metadata": {
    "scrolled": false
   },
   "outputs": [],
   "source": [
    "df_port['EL_an'] = df_port[['PD','EAD','LGD']].apply(prod,axis = 1)"
   ]
  },
  {
   "cell_type": "code",
   "execution_count": null,
   "metadata": {},
   "outputs": [],
   "source": [
    "df_port.loc[:,'d'] = df_port['PD'].apply(norm.pdf)"
   ]
  },
  {
   "cell_type": "code",
   "execution_count": null,
   "metadata": {},
   "outputs": [],
   "source": [
    "df_port[df_port['SOV_ID']==1]['PD'].values[0]"
   ]
  },
  {
   "cell_type": "code",
   "execution_count": null,
   "metadata": {},
   "outputs": [],
   "source": [
    "for time_para in [10,15,20]:\n",
    "    for period in range(1,7):\n",
    "        print(str(time_para) + '_' + str(period), end = \"','\")"
   ]
  },
  {
   "cell_type": "code",
   "execution_count": null,
   "metadata": {},
   "outputs": [],
   "source": [
    "index = ['10_1','10_2','10_3','10_4','10_5','10_6','15_1',\n",
    "    '15_2','15_3','15_4','15_5','15_6','20_1','20_2','20_3',\n",
    "    '20_4','20_5','20_6']\n",
    "df = pd.DataFrame(0.0, index = index,\n",
    "    columns = ['Q. 99%','Q. 99.5%', 'Q. 99.9%','Q. 99.99%'])"
   ]
  },
  {
   "cell_type": "code",
   "execution_count": null,
   "metadata": {},
   "outputs": [],
   "source": [
    "df"
   ]
  },
  {
   "cell_type": "code",
   "execution_count": null,
   "metadata": {},
   "outputs": [],
   "source": [
    "for i in df_port['PD']:\n",
    "    print(norm.pdf(i))"
   ]
  },
  {
   "cell_type": "code",
   "execution_count": null,
   "metadata": {},
   "outputs": [],
   "source": []
  }
 ],
 "metadata": {
  "anaconda-cloud": {},
  "kernelspec": {
   "display_name": "Python 3",
   "language": "python",
   "name": "python3"
  },
  "language_info": {
   "codemirror_mode": {
    "name": "ipython",
    "version": 3
   },
   "file_extension": ".py",
   "mimetype": "text/x-python",
   "name": "python",
   "nbconvert_exporter": "python",
   "pygments_lexer": "ipython3",
   "version": "3.6.4"
  }
 },
 "nbformat": 4,
 "nbformat_minor": 1
}
