{
 "cells": [
  {
   "cell_type": "code",
   "execution_count": 4,
   "metadata": {},
   "outputs": [],
   "source": [
    "from igraph import *\n",
    "import numpy as np"
   ]
  },
  {
   "cell_type": "code",
   "execution_count": 1,
   "metadata": {},
   "outputs": [],
   "source": [
    "prob_RUSSIA_bic = {'RUSSIA':1,'GAZPRU': 0.7824266, 'GAZPRU.Gneft': 0.7057217, 'SBERBANK': 0.6235315, 'RUSAGB': 0.6117868,\n",
    "                   'AKT': 0.5735091, 'ROSNEF': 0.5379824, 'LUKOIL': 0.5346008, 'RUSRAI': 0.5208457, 'VTB': 0.4918622,\n",
    "                   'BKECON': 0.462965, 'BOM': 0.4554898, 'CITMOS': 0.4421134, 'MDMOJC': 0.4216155, 'ALROSA': 0.3864255,\n",
    "                   'MBT': 0.3577806, 'VIP': 0.3546666, 'RSBZAO': 0.3273382}\n",
    "edges_bic = [['AKT','MDMOJC'],['BOM','VIP'],['CITMOS','GAZPRU.Gneft'],['GAZPRU','GAZPRU.Gneft'],['GAZPRU','LUKOIL'],\n",
    "             ['GAZPRU','RUSAGB'],['GAZPRU','RUSSIA'],['GAZPRU.Gneft','AKT'],['GAZPRU.Gneft','ROSNEF'],['GAZPRU.Gneft','RUSRAI'],\n",
    "             ['LUKOIL','ALROSA'],['LUKOIL','MBT'],['ROSNEF','RSBZAO'],['RUSAGB','AKT'],['RUSAGB','BKECON'],['RUSAGB','CITMOS'],\n",
    "             ['RUSAGB','VTB'],['RUSSIA','GAZPRU.Gneft'],['SBERBANK','GAZPRU'],['VTB','ALROSA'],['VTB','BOM'],['VTB','ROSNEF']]"
   ]
  },
  {
   "cell_type": "code",
   "execution_count": 8,
   "metadata": {},
   "outputs": [],
   "source": [
    "def initilise_edges(nodes,edge_list):\n",
    "    edge_index_list = []\n",
    "    for e in edge_list:\n",
    "        first_index = nodes.index(e[0])\n",
    "        second_index = nodes.index(e[1])\n",
    "        edge_index_list.append((first_index,second_index))\n",
    "    return(edge_index_list)"
   ]
  },
  {
   "cell_type": "code",
   "execution_count": 9,
   "metadata": {},
   "outputs": [],
   "source": [
    "def generate_network(cp_dic,edge_list):\n",
    "    nodes = list(sorted(cp_dic.keys()))\n",
    "    edge_index_list = initilise_edges(nodes,edge_list)\n",
    "    color_list = []\n",
    "    for n in nodes:\n",
    "        shade = str((1-cp_dic[n])*100) \n",
    "        color_list.append(\"rgb(100%,\" +shade+\"%,\"+ shade + \"%)\")\n",
    "    return(edge_index_list, color_list)   "
   ]
  },
  {
   "cell_type": "code",
   "execution_count": 39,
   "metadata": {},
   "outputs": [],
   "source": [
    "edge_index,color_list = generate_network(prob_RUSSIA_bic,edges_bic)\n",
    "g = Graph(edge_index,directed=True)\n",
    "size = [15+g*8 for g in g.degree()]\n",
    "size = [35]*len(prob_RUSSIA_bic)\n",
    "g.vs[\"cpty\"] = list(sorted(prob_RUSSIA_bic.keys()))\n",
    "g.vs[\"label\"] = g.vs[\"cpty\"]\n",
    "out = plot(g, layout = g.layout(\"fr\"), bbox = (500, 500), margin = 40, vertex_size=size,vertex_color=color_list)\n",
    "out.show()"
   ]
  },
  {
   "cell_type": "code",
   "execution_count": 40,
   "metadata": {},
   "outputs": [],
   "source": [
    "out.save(r'C:\\Users\\Javier\\Documents\\MEGA\\Thesis\\results_5Y\\networks_not_filtered\\bic_colors.png')"
   ]
  },
  {
   "cell_type": "code",
   "execution_count": 12,
   "metadata": {},
   "outputs": [
    {
     "name": "stdout",
     "output_type": "stream",
     "text": [
      "[39, 31, 23, 31, 31, 55, 63, 39, 23, 23, 39, 23, 55, 23, 31, 23, 23, 47]\n"
     ]
    }
   ],
   "source": [
    "print(size)"
   ]
  },
  {
   "cell_type": "code",
   "execution_count": 13,
   "metadata": {},
   "outputs": [
    {
     "data": {
      "text/plain": [
       "34.55555555555556"
      ]
     },
     "execution_count": 13,
     "metadata": {},
     "output_type": "execute_result"
    }
   ],
   "source": [
    "np.mean(size)"
   ]
  },
  {
   "cell_type": "code",
   "execution_count": 20,
   "metadata": {},
   "outputs": [
    {
     "data": {
      "text/plain": [
       "<function igraph.drawing.plot(obj, target=None, bbox=(0, 0, 600, 600), *args, **kwds)>"
      ]
     },
     "execution_count": 20,
     "metadata": {},
     "output_type": "execute_result"
    }
   ],
   "source": [
    "plot"
   ]
  },
  {
   "cell_type": "code",
   "execution_count": 1,
   "metadata": {},
   "outputs": [],
   "source": [
    "aux = r'''AKT & Oil Transporting JSC Transneft \\\\\n",
    "ALROSA & Alrosa C.L.\\\\\n",
    "BKECON & Vnesheconombank\\\\\n",
    "BOM & Bank of Moscow\\\\\n",
    "CITMOS & City Moscow\\\\\n",
    "GAZPRU & JSC Gazprom\\\\\n",
    "GAZPRU.Gneft & JSC Gazprom Neft\\\\\n",
    "LUKOIL & Lukoil Company\\\\\n",
    "MBT & Mobile Telesystems\\\\\n",
    "MDMOJC & MDM Bank Open JSC\\\\\n",
    "ROSNEF & Open JSC Rosneft\\\\\n",
    "RSBZAO & JSC Russian Standard Bank\\\\\n",
    "RUSAGB & Russian Agriculture Bank\\\\\n",
    "RUSSIA & Russian Federation\\\\\n",
    "SBERBANK & Sberbank\\\\\n",
    "VIP & Open JSC VimpelCom Limited\\\\\n",
    "VTB & JSC VTB Bank'''"
   ]
  },
  {
   "cell_type": "code",
   "execution_count": 3,
   "metadata": {},
   "outputs": [],
   "source": [
    "aux2 = aux.replace('&','\":\"')"
   ]
  },
  {
   "cell_type": "code",
   "execution_count": 14,
   "metadata": {},
   "outputs": [],
   "source": [
    "aux3 = aux2.replace(a,'\",\"')"
   ]
  },
  {
   "cell_type": "code",
   "execution_count": 12,
   "metadata": {},
   "outputs": [],
   "source": [
    "a = aux2[39:40]"
   ]
  },
  {
   "cell_type": "code",
   "execution_count": 13,
   "metadata": {},
   "outputs": [
    {
     "data": {
      "text/plain": [
       "str"
      ]
     },
     "execution_count": 13,
     "metadata": {},
     "output_type": "execute_result"
    }
   ],
   "source": []
  },
  {
   "cell_type": "code",
   "execution_count": 15,
   "metadata": {},
   "outputs": [
    {
     "data": {
      "text/plain": [
       "'AKT \":\" Oil Transporting JSC Transneft \",\"ALROSA \":\" Alrosa C.L.\",\"BKECON \":\" Vnesheconombank\",\"BOM \":\" Bank of Moscow\",\"CITMOS \":\" City Moscow\",\"GAZPRU \":\" JSC Gazprom\",\"GAZPRU.Gneft \":\" JSC Gazprom Neft\",\"LUKOIL \":\" Lukoil Company\",\"MBT \":\" Mobile Telesystems\",\"MDMOJC \":\" MDM Bank Open JSC\",\"ROSNEF \":\" Open JSC Rosneft\",\"RSBZAO \":\" JSC Russian Standard Bank\",\"RUSAGB \":\" Russian Agriculture Bank\",\"RUSSIA \":\" Russian Federation\",\"SBERBANK \":\" Sberbank\",\"VIP \":\" Open JSC VimpelCom Limited\",\"VTB \":\" JSC VTB Bank'"
      ]
     },
     "execution_count": 15,
     "metadata": {},
     "output_type": "execute_result"
    }
   ],
   "source": [
    "aux3"
   ]
  },
  {
   "cell_type": "code",
   "execution_count": 16,
   "metadata": {},
   "outputs": [],
   "source": [
    "aux4 = '''\"AKT\":\"Oil Transporting JSC Transneft\",\"ALROSA\":\"Alrosa C.L.\",\"BKECON\":\"Vnesheconombank\",\"BOM\":\"Bank of Moscow\",\"CITMOS \":\" City Moscow\",\"GAZPRU \":\" JSC Gazprom\",\"GAZPRU.Gneft \":\" JSC Gazprom Neft\",\"LUKOIL \":\" Lukoil Company\",\"MBT \":\" Mobile Telesystems\",\"MDMOJC \":\" MDM Bank Open JSC\",\"ROSNEF \":\" Open JSC Rosneft\",\"RSBZAO \":\" JSC Russian Standard Bank\",\"RUSAGB \":\" Russian Agriculture Bank\",\"RUSSIA \":\" Russian Federation\",\"SBERBANK \":\" Sberbank\",\"VIP \":\" Open JSC VimpelCom Limited\",\"VTB \":\" JSC VTB Bank\"'''"
   ]
  },
  {
   "cell_type": "code",
   "execution_count": 17,
   "metadata": {},
   "outputs": [],
   "source": [
    "aux5 = aux4.replace('\" ', '\"')"
   ]
  },
  {
   "cell_type": "code",
   "execution_count": 18,
   "metadata": {},
   "outputs": [],
   "source": [
    "aux6 = aux5.replace(' \"', '\"')"
   ]
  },
  {
   "cell_type": "code",
   "execution_count": 20,
   "metadata": {},
   "outputs": [
    {
     "data": {
      "text/plain": [
       "'\"AKT\":\"Oil Transporting JSC Transneft\", \"ALROSA\":\"Alrosa C.L.\", \"BKECON\":\"Vnesheconombank\", \"BOM\":\"Bank of Moscow\", \"CITMOS\":\"City Moscow\", \"GAZPRU\":\"JSC Gazprom\", \"GAZPRU.Gneft\":\"JSC Gazprom Neft\", \"LUKOIL\":\"Lukoil Company\", \"MBT\":\"Mobile Telesystems\", \"MDMOJC\":\"MDM Bank Open JSC\", \"ROSNEF\":\"Open JSC Rosneft\", \"RSBZAO\":\"JSC Russian Standard Bank\", \"RUSAGB\":\"Russian Agriculture Bank\", \"RUSSIA\":\"Russian Federation\", \"SBERBANK\":\"Sberbank\", \"VIP\":\"Open JSC VimpelCom Limited\", \"VTB\":\"JSC VTB Bank\"'"
      ]
     },
     "execution_count": 20,
     "metadata": {},
     "output_type": "execute_result"
    }
   ],
   "source": [
    "aux6.replace(',',', ')"
   ]
  },
  {
   "cell_type": "code",
   "execution_count": 21,
   "metadata": {},
   "outputs": [],
   "source": [
    "aux7 = '''\"AKT\":\"Oil Transporting JSC Transneft\", \"ALROSA\":\"Alrosa C.L.\",\n",
    "        \"BKECON\":\"Vnesheconombank\", \"BOM\":\"Bank of Moscow\", \"CITMOS\":\"City Moscow\",\n",
    "        \"GAZPRU\":\"JSC Gazprom\", \"GAZPRU.Gneft\":\"JSC Gazprom Neft\", \"LUKOIL\":\"Lukoil Company\",\n",
    "        \"MBT\":\"Mobile Telesystems\", \"MDMOJC\":\"MDM Bank Open JSC\", \"ROSNEF\":\"Open JSC Rosneft\",\n",
    "        \"RSBZAO\":\"JSC Russian Standard Bank\", \"RUSAGB\":\"Russian Agriculture Bank\",\n",
    "        \"RUSSIA\":\"Russian Federation\", \"SBERBANK\":\"Sberbank\",\n",
    "        \"VIP\":\"Open JSC VimpelCom Limited\",\"VTB\":\"JSC VTB Bank\"'''"
   ]
  },
  {
   "cell_type": "code",
   "execution_count": 22,
   "metadata": {},
   "outputs": [
    {
     "data": {
      "text/plain": [
       "\"'AKT':'Oil Transporting JSC Transneft', 'ALROSA':'Alrosa C.L.',\\n        'BKECON':'Vnesheconombank', 'BOM':'Bank of Moscow', 'CITMOS':'City Moscow',\\n        'GAZPRU':'JSC Gazprom', 'GAZPRU.Gneft':'JSC Gazprom Neft', 'LUKOIL':'Lukoil Company',\\n        'MBT':'Mobile Telesystems', 'MDMOJC':'MDM Bank Open JSC', 'ROSNEF':'Open JSC Rosneft',\\n        'RSBZAO':'JSC Russian Standard Bank', 'RUSAGB':'Russian Agriculture Bank',\\n        'RUSSIA':'Russian Federation', 'SBERBANK':'Sberbank',\\n        'VIP':'Open JSC VimpelCom Limited','VTB':'JSC VTB Bank'\""
      ]
     },
     "execution_count": 22,
     "metadata": {},
     "output_type": "execute_result"
    }
   ],
   "source": [
    "aux7.replace('\"',\"'\")"
   ]
  },
  {
   "cell_type": "code",
   "execution_count": null,
   "metadata": {},
   "outputs": [],
   "source": []
  }
 ],
 "metadata": {
  "kernelspec": {
   "display_name": "Python 3",
   "language": "python",
   "name": "python3"
  },
  "language_info": {
   "codemirror_mode": {
    "name": "ipython",
    "version": 3
   },
   "file_extension": ".py",
   "mimetype": "text/x-python",
   "name": "python",
   "nbconvert_exporter": "python",
   "pygments_lexer": "ipython3",
   "version": "3.6.4"
  }
 },
 "nbformat": 4,
 "nbformat_minor": 2
}
