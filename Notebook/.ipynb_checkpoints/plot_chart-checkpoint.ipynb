{
 "cells": [
  {
   "cell_type": "code",
   "execution_count": 3,
   "metadata": {},
   "outputs": [],
   "source": [
    "import pandas as pd\n",
    "import numpy as np\n",
    "import os\n",
    "import plotly.plotly as py\n",
    "import plotly.graph_objs as go\n",
    "import matplotlib.pyplot as plt"
   ]
  },
  {
   "cell_type": "code",
   "execution_count": 10,
   "metadata": {},
   "outputs": [
    {
     "data": {
      "text/html": [
       "<script>requirejs.config({paths: { 'plotly': ['https://cdn.plot.ly/plotly-latest.min']},});if(!window.Plotly) {{require(['plotly'],function(plotly) {window.Plotly=plotly;});}}</script>"
      ],
      "text/vnd.plotly.v1+html": [
       "<script>requirejs.config({paths: { 'plotly': ['https://cdn.plot.ly/plotly-latest.min']},});if(!window.Plotly) {{require(['plotly'],function(plotly) {window.Plotly=plotly;});}}</script>"
      ]
     },
     "metadata": {},
     "output_type": "display_data"
    }
   ],
   "source": [
    "from plotly.offline import download_plotlyjs, init_notebook_mode,  iplot, plot\n",
    "init_notebook_mode(connected=True)"
   ]
  },
  {
   "cell_type": "code",
   "execution_count": 17,
   "metadata": {},
   "outputs": [],
   "source": [
    "def plot_result(UL, UL_c, *arg):\n",
    "    # ind = np.arange(len(UL))\n",
    "    # width = 0.5\n",
    "\n",
    "    # p1 = plt.bar(ind, UL, width = width)\n",
    "    # p2 = plt.bar(ind, np.maximum((UL_c-UL),0), bottom = UL, width = width)\n",
    "\n",
    "    # plt.ylabel('Loss (millions)')\n",
    "    # plt.xlabel('Quantile')\n",
    "    # plt.xticks(ind, ('99%','99.5%', '99.9%','99.99%'))\n",
    "\n",
    "    # plt.legend((p1[0],p2[0]),('Loss', 'Contagion add-on'))\n",
    "\n",
    "    # if arg:\n",
    "    #     path = r'C:\\Users\\Javier\\Documents\\MEGA\\Universitattt\\Master\\Thesis\\Results\\Capital_periods'\n",
    "    #     folder = 'time_'+str(arg[0])+'_delay_'+str(arg[1])\n",
    "    #     figure_name = 'Period_'+str(arg[2])+ '.png'\n",
    "    #     plt.savefig(os.path.join(path,folder,figure_name))\n",
    "    # else:\n",
    "    #     plt.show()\n",
    "    # plt.close('all')\n",
    "    \n",
    "    y_no_cont = [int(u) for u in UL]\n",
    "    trace_no_cont = go.Bar(\n",
    "        x = ['Q. 99%','Q. 99.5%', 'Q. 99.9%','Q. 99.99%'],\n",
    "        y = y_no_cont,\n",
    "        text = [\"{:,}\".format(int(u)) for u in y_no_cont],\n",
    "        textposition = 'auto',\n",
    "        name = 'No Contagion',\n",
    "        marker=dict(\n",
    "            color='rgb(158,202,225)',\n",
    "            line=dict(\n",
    "                color='rgb(8,48,107)',\n",
    "                width=1.5),\n",
    "            ),\n",
    "        opacity=0.6\n",
    "        )\n",
    "\n",
    "    y_cont = [max(int(UL_c[k]-UL[k]),0) for k in range(len(UL))]\n",
    "    y_text_cont = [\"{:,}\".format(int(u)) for u in UL_c]\n",
    "\n",
    "    trace_cont = go.Bar(\n",
    "        x = ['Q. 99%','Q. 99.5%', 'Q. 99.9%','Q. 99.99%'],\n",
    "        y = y_cont,\n",
    "        text = y_text_cont,\n",
    "        textposition = 'on',\n",
    "        name = 'Contagion',\n",
    "        marker=dict(\n",
    "            color='rgba(219, 64, 82, 0.7)',\n",
    "            line=dict(\n",
    "                color='rgba(219, 64, 82, 1.0)',\n",
    "                width=1.5),\n",
    "            ),\n",
    "#         opacity=0.6\n",
    "        )\n",
    "\n",
    "    data = [trace_no_cont, trace_cont]\n",
    "\n",
    "    dic = {1:'14th Nov 2010 to 10th Sep 2011',\n",
    "        2:'10th Sep 2011 to 6th July 2012',\n",
    "        3:'6th July 2012 to 2nd May 2013',\n",
    "        4:'2nd May 2013 to 26th Feb 2014',\n",
    "        5:'26th Feb 2014 to 24th Oct 2014',\n",
    "        6:'24th Oct 2014 to 14th Aug 2015'}\n",
    "\n",
    "    layout = {\n",
    "      'xaxis': {'title': 'Quantile'},\n",
    "      'yaxis': {'title': 'Capital '},\n",
    "      'barmode': 'stack',\n",
    "      'title': 'Capital Requirement from ' + dic[arg[2]]\n",
    "    }\n",
    "\n",
    "    fig = go.Figure(data=data, layout = layout)\n",
    "\n",
    "#     if arg:\n",
    "#         path = r'C:\\Users\\Javier\\Documents\\MEGA\\Universitattt\\Master\\Thesis\\Results\\Capital_periods'\n",
    "#         folder = 'time_'+str(arg[0])+'_delay_'+str(arg[1])\n",
    "#         figure_name = 'Period_'+str(arg[2])+ '.png'\n",
    "#         py.image.save_as(fig,os.path.join(path, folder,\n",
    "#                 figure_name))\n",
    "#     else:\n",
    "#         plt.show()\n",
    "    py.iplot(fig, filename = 'Capital Requirement')"
   ]
  },
  {
   "cell_type": "code",
   "execution_count": 18,
   "metadata": {},
   "outputs": [],
   "source": [
    "UL=[ 951264.39118721, 1219351.5556531,  2005509.11127155, 3149782.61358532]\n",
    "UL_c=[1026342.44452655, 1472129.3334511,  2681064.22243671, 4223300.83589342]"
   ]
  },
  {
   "cell_type": "code",
   "execution_count": 19,
   "metadata": {
    "scrolled": true
   },
   "outputs": [
    {
     "name": "stdout",
     "output_type": "stream",
     "text": [
      "High five! You successfully sent some data to your account on plotly. View your plot in your browser at https://plot.ly/~javitox13/0 or inside your plot.ly account where it is named 'Capital Requirement'\n"
     ]
    }
   ],
   "source": [
    "plot_result(UL,UL_c,10,1,3)"
   ]
  },
  {
   "cell_type": "code",
   "execution_count": 21,
   "metadata": {},
   "outputs": [],
   "source": [
    "aux2 = '''   period = 1\n",
    "    UL=[1115153.28008921, 1443579.05789326, 2276912.39129326, 3449088.16916482]\n",
    "    UL_c=[1162329.05787076, 1677083.3334675,  3031851.5557981,  4687143.28037497]\n",
    "    plot_result(UL,UL_c,time_para,delay,period)\n",
    "    \n",
    "    # period = 2\n",
    "    # UL:    [1115153.28008921 1443579.05789326 2286759.11129405 3543440.98401614]\n",
    "    # UL_c:  [1161759.11120405 1560940.16901376 2662930.61354637 4223300.83589342]\n",
    "    # plot_result(UL,UL_c,time_para,delay,period)\n",
    "    \n",
    "    # period = 3\n",
    "    # UL:    [ 951264.39118721, 1219351.5556531  2005509.11127155 3149782.61358532]\n",
    "    # UL_c:  [1026342.44452655, 1472129.3334511  2681064.22243671 4223300.83589342]\n",
    "    # plot_result(UL,UL_c,time_para,delay,period)\n",
    "    \n",
    "    # period = 4\n",
    "    # UL:    [1115153.28008921, 1443009.11122655 2258856.83573626 3496263.94694637]\n",
    "    # UL_c:  [1190879.3334286 , 1847730.88903671 3379550.83582592 4880152.39150152]\n",
    "    # plot_result(UL,UL_c,time_para,delay,period)\n",
    "    \n",
    "    # period = 5\n",
    "    # UL:    [1115153.28008921, 1443579.05789326 2286759.11129405 3514968.54416953]\n",
    "    # UL_c:  [1162329.05787076, 1724259.11124905 3238023.50248126 4879582.44483481]\n",
    "    # plot_result(UL,UL_c,time_para,delay,period)\n",
    "    \n",
    "    # period = 6\n",
    "    # UL:    [1115153.28008921, 1443009.11122655 2286759.11129405 3467791.72472187]\n",
    "    # UL_c:  [1161759.11120405, 1531819.94678921 2558162.39131576 4077467.50254842]\n",
    "    # plot_result(UL,UL_c,time_para,delay,period)\n",
    "    \n",
    "    time_para = 15\n",
    "    period = 1\n",
    "    UL:    [1115153.28008921, 1443009.11122655, 2276912.39129326 ,3514967.50250342]\n",
    "    UL_c:  [1161759.11120405, 1560940.16901376 ,2662360.66687966, 4223300.83589342]\n",
    "    plot_result(UL,UL_c,time_para,delay,period)\n",
    "    \n",
    "    # period = 2\n",
    "    # UL:    [1115153.28008921, 1443009.11122655 2276912.39129326 3584504.83584232]\n",
    "    # UL_c:  [1162329.05787076, 1578995.72457076 2722699.28021782 4223300.83589342]\n",
    "    # plot_result(UL,UL_c,time_para,delay,period)\n",
    "    \n",
    "    # period = 3\n",
    "    # UL:    [ 951264.39118721, 1231944.444543   1977612.37643467 3167838.16914232]\n",
    "    # UL_c:  [ 985277.33341216, 1308162.39121576 2198518.2223981  3543441.96868761]\n",
    "    # plot_result(UL,UL_c,time_para,delay,period)\n",
    "    \n",
    "    # period = 4\n",
    "    # UL:    [1115153.28008921, 1443579.05789326 2276912.39129326 3496263.94694637]\n",
    "    # UL_c:  [1162329.05787076, 1724829.05791576 3155323.33358576 4687147.38688389]\n",
    "    # plot_result(UL,UL_c,time_para,delay,period)\n",
    "    \n",
    "    # period = 5\n",
    "    # UL:    [1115153.28008921, 1443009.11122655 2276912.39129326 3496263.94694637]\n",
    "    # UL_c:  [1162329.05787076, 1636018.2223531  2993542.46029443 4639967.50259342]\n",
    "    # plot_result(UL,UL_c,time_para,delay,period)\n",
    "    \n",
    "    # period = 6\n",
    "    # UL:    [1115153.28008921, 1443579.05789326 2276912.39129326 3514967.50250342]\n",
    "    # UL_c:  [1115153.28008921, 1443579.05789326 2393703.55574705 3749041.72474437]\n",
    "    # plot_result(UL,UL_c,time_para,delay,period)\n",
    "    \n",
    "    time_para = 20\n",
    "    period = 1\n",
    "    UL:    [1115153.28008921, 1443009.11122655, 2276912.39129326, 3467794.57194257]\n",
    "    UL_c:  [1161759.11120405, 1560940.16901376 ,2662360.66687966 ,4165711.23866507]\n",
    "    plot_result(UL,UL_c,time_para,delay,period)\n",
    "    \n",
    "    # period = 2\n",
    "    # UL:    [1115153.28008921, 1443579.05789326 2287334.59868167 3449088.16916482]\n",
    "    # UL_c:  [1161759.11120405, 1513764.39123221 2517097.28020137 4030291.72476687]\n",
    "    # plot_result(UL,UL_c,time_para,delay,period)\n",
    "    \n",
    "    # period = 3\n",
    "    # UL:    [ 951264.39118721, 1231944.444543   2006079.05793826 3126773.05802792]\n",
    "    # UL_c:  [ 985277.33341216, 1308162.39121576 2217791.72462187 3613625.05806687]\n",
    "    # plot_result(UL,UL_c,time_para,delay,period)\n",
    "    \n",
    "    # period = 4\n",
    "    # UL:    [1115153.28008921, 1443009.11122655 2276912.39129326 3467794.57194257]\n",
    "    # UL_c:  [1162329.05787076, 1607546.0001286  2839412.39133826 4387190.98408364]\n",
    "    # plot_result(UL,UL_c,time_para,delay,period)\n",
    "    \n",
    "    # period = 5\n",
    "    # UL:    [1115153.28008921, 1443009.11122655 2286759.11129405 3467791.72472187]\n",
    "    # UL_c:  [1162329.05787076, 1608115.94679532 2915139.01462442 4639397.55592671]\n",
    "    # plot_result(UL,UL_c,time_para,delay,period)\n",
    "    \n",
    "    # period = 6\n",
    "    # UL:    [1115153.28008921, 1443579.05789326 2258856.83573626 3496263.94694637]\n",
    "    # UL_c:  [1115153.28008921, 1443579.05789326 2324088.16907482 3613055.16839479]\n",
    "    # plot_result(UL,UL_c,time_para,delay,period)'''"
   ]
  },
  {
   "cell_type": "code",
   "execution_count": 24,
   "metadata": {},
   "outputs": [],
   "source": [
    "aux = aux.replace(':','=')"
   ]
  },
  {
   "cell_type": "code",
   "execution_count": 26,
   "metadata": {},
   "outputs": [],
   "source": [
    "aux = aux.replace(',',' ')"
   ]
  },
  {
   "cell_type": "code",
   "execution_count": 37,
   "metadata": {},
   "outputs": [],
   "source": [
    "aux = aux.replace('  ',' ')"
   ]
  },
  {
   "cell_type": "code",
   "execution_count": 34,
   "metadata": {},
   "outputs": [],
   "source": [
    "aux = aux.replace('[ ','[')"
   ]
  },
  {
   "cell_type": "code",
   "execution_count": 41,
   "metadata": {},
   "outputs": [],
   "source": [
    "aux = aux.replace('UL=','UL_n=')"
   ]
  },
  {
   "cell_type": "code",
   "execution_count": 45,
   "metadata": {},
   "outputs": [],
   "source": [
    "aux = aux.replace(' ',',')"
   ]
  },
  {
   "cell_type": "code",
   "execution_count": 46,
   "metadata": {},
   "outputs": [
    {
     "name": "stdout",
     "output_type": "stream",
     "text": [
      "UL_n=[1115153.28008921,1443579.05789326,2276912.39129326,3449088.16916482]\n",
      "UL_c=[1162329.05787076,1677083.3334675,3031851.5557981,4687143.28037497]\n",
      "UL_n=[1115153.28008921,1443579.05789326,2286759.11129405,3543440.98401614]\n",
      "UL_c=[1161759.11120405,1560940.16901376,2662930.61354637,4223300.83589342]\n",
      "UL_n=[951264.39118721,1219351.5556531,2005509.11127155,3149782.61358532]\n",
      "UL_c=[1026342.44452655,1472129.3334511,2681064.22243671,4223300.83589342]\n",
      "UL_n=[1115153.28008921,1443009.11122655,2258856.83573626,3496263.94694637]\n",
      "UL_c=[1190879.3334286,1847730.88903671,3379550.83582592,4880152.39150152]\n",
      "UL_n=[1115153.28008921,1443579.05789326,2286759.11129405,3514968.54416953]\n",
      "UL_c=[1162329.05787076,1724259.11124905,3238023.50248126,4879582.44483481]\n",
      "UL_n=[1115153.28008921,1443009.11122655,2286759.11129405,3467791.72472187]\n",
      "UL_c=[1161759.11120405,1531819.94678921,2558162.39131576,4077467.50254842]\n",
      "UL_n=[1115153.28008921,1443009.11122655,2276912.39129326,3514967.50250342]\n",
      "UL_c=[1161759.11120405,1560940.16901376,2662360.66687966,4223300.83589342]\n",
      "UL_n=[1115153.28008921,1443009.11122655,2276912.39129326,3584504.83584232]\n",
      "UL_c=[1162329.05787076,1578995.72457076,2722699.28021782,4223300.83589342]\n",
      "UL_n=[951264.39118721,1231944.444543,1977612.37643467,3167838.16914232]\n",
      "UL_c=[985277.33341216,1308162.39121576,2198518.2223981,3543441.96868761]\n",
      "UL_n=[1115153.28008921,1443579.05789326,2276912.39129326,3496263.94694637]\n",
      "UL_c=[1162329.05787076,1724829.05791576,3155323.33358576,4687147.38688389]\n",
      "UL_n=[1115153.28008921,1443009.11122655,2276912.39129326,3496263.94694637]\n",
      "UL_c=[1162329.05787076,1636018.2223531,2993542.46029443,4639967.50259342]\n",
      "UL_n=[1115153.28008921,1443579.05789326,2276912.39129326,3514967.50250342]\n",
      "UL_c=[1115153.28008921,1443579.05789326,2393703.55574705,3749041.72474437]\n",
      "UL_n=[1115153.28008921,1443009.11122655,2276912.39129326,3467794.57194257]\n",
      "UL_c=[1161759.11120405,1560940.16901376,2662360.66687966,4165711.23866507]\n",
      "UL_n=[1115153.28008921,1443579.05789326,2287334.59868167,3449088.16916482]\n",
      "UL_c=[1161759.11120405,1513764.39123221,2517097.28020137,4030291.72476687]\n",
      "UL_n=[951264.39118721,1231944.444543,2006079.05793826,3126773.05802792]\n",
      "UL_c=[985277.33341216,1308162.39121576,2217791.72462187,3613625.05806687]\n",
      "UL_n=[1115153.28008921,1443009.11122655,2276912.39129326,3467794.57194257]\n",
      "UL_c=[1162329.05787076,1607546.0001286,2839412.39133826,4387190.98408364]\n",
      "UL_n=[1115153.28008921,1443009.11122655,2286759.11129405,3467791.72472187]\n",
      "UL_c=[1162329.05787076,1608115.94679532,2915139.01462442,4639397.55592671]\n",
      "UL_n=[1115153.28008921,1443579.05789326,2258856.83573626,3496263.94694637]\n",
      "UL_c=[1115153.28008921,1443579.05789326,2324088.16907482,3613055.16839479]\n"
     ]
    }
   ],
   "source": [
    "print(aux)"
   ]
  },
  {
   "cell_type": "code",
   "execution_count": null,
   "metadata": {},
   "outputs": [],
   "source": [
    "period = 1\n",
    "for k in range(len(aux)-3):\n",
    "    if aux[k:k+3] == 'UL=':\n",
    "        aux[k:k+3] = \n",
    "    if aux[k:k+3] == 'UL_':\n",
    "        "
   ]
  },
  {
   "cell_type": "code",
   "execution_count": 41,
   "metadata": {},
   "outputs": [
    {
     "data": {
      "text/html": [
       "<iframe id=\"igraph\" scrolling=\"no\" style=\"border:none;\" seamless=\"seamless\" src=\"https://plot.ly/~javitox12/4.embed\" height=\"525px\" width=\"100%\"></iframe>"
      ],
      "text/plain": [
       "<plotly.tools.PlotlyDisplay object>"
      ]
     },
     "execution_count": 41,
     "metadata": {},
     "output_type": "execute_result"
    }
   ],
   "source": [
    "# Period 1\n",
    "\n",
    "x = ['k2 HC', 'k2 Tabu 50', 'BDs HC', 'BDs Tabu 50']\n",
    "y_k2 = [-1475.83, -1486.98, -1489.52, -1492.82]\n",
    "y_bds = [-1644.44, -1673.48, -1596.02, -1593.41]\n",
    "\n",
    "# This is the trace for the score k2 of all the networks\n",
    "trace_k2 = go.Bar(\n",
    "    x = x,\n",
    "    y = y_k2,\n",
    "    text=y_k2,\n",
    "    textposition = 'auto',\n",
    "    marker=dict(\n",
    "        color='rgb(158,202,225)',\n",
    "        line=dict(\n",
    "            color='rgb(8,48,107)',\n",
    "            width=1.5),\n",
    "        ),\n",
    "    opacity=0.6,\n",
    "    name = 'k2 Score')\n",
    "\n",
    "\n",
    "# This is the trace for the score BDs of all the networks\n",
    "trace_bds = go.Bar(\n",
    "    x = x,\n",
    "    y = y_bds,\n",
    "    text=y_bds,\n",
    "    textposition = 'auto',\n",
    "    marker=dict(\n",
    "        color='rgb(58,200,225)',\n",
    "        line=dict(\n",
    "            color='rgb(8,48,107)',\n",
    "            width=1.5),\n",
    "        ),\n",
    "    opacity=0.6,\n",
    "    name = 'BDs Score')\n",
    "\n",
    "data = [trace_k2, trace_bds]\n",
    "layout = go.Layout(\n",
    "    barmode='group',\n",
    "    title = 'Comparison of Scores in First Period, 10 days as time parameter and 1 day delay',\n",
    "    yaxis=dict(\n",
    "        title='Score')\n",
    "\n",
    ")\n",
    "\n",
    "fig = go.Figure(data=data, layout=layout)\n",
    "py.iplot(fig, filename='grouped-bar')"
   ]
  },
  {
   "cell_type": "code",
   "execution_count": 40,
   "metadata": {},
   "outputs": [
    {
     "data": {
      "text/html": [
       "<iframe id=\"igraph\" scrolling=\"no\" style=\"border:none;\" seamless=\"seamless\" src=\"https://plot.ly/~javitox12/4.embed\" height=\"525px\" width=\"100%\"></iframe>"
      ],
      "text/plain": [
       "<plotly.tools.PlotlyDisplay object>"
      ]
     },
     "execution_count": 40,
     "metadata": {},
     "output_type": "execute_result"
    }
   ],
   "source": [
    "# Period 2\n",
    "\n",
    "x = ['k2 HC', 'k2 Tabu 50', 'BDs HC', 'BDs Tabu 50']\n",
    "y_k2 = [-1971.74,-1958.43,-1971.96,-1966.13]\n",
    "y_bds = [-2230.29, -2209.61, -2124.17, -2110.04]\n",
    "\n",
    "# This is the trace for the score k2 of all the networks\n",
    "trace_k2 = go.Bar(\n",
    "    x = x,\n",
    "    y = y_k2,\n",
    "    text=y_k2,\n",
    "    textposition = 'auto',\n",
    "    marker=dict(\n",
    "        color='rgb(158,202,225)',\n",
    "        line=dict(\n",
    "            color='rgb(8,48,107)',\n",
    "            width=1.5),\n",
    "        ),\n",
    "    opacity=0.6,\n",
    "    name = 'k2 Score')\n",
    "\n",
    "\n",
    "# This is the trace for the score BDs of all the networks\n",
    "trace_bds = go.Bar(\n",
    "    x = x,\n",
    "    y = y_bds,\n",
    "    text=y_bds,\n",
    "    textposition = 'auto',\n",
    "    marker=dict(\n",
    "        color='rgb(58,200,225)',\n",
    "        line=dict(\n",
    "            color='rgb(8,48,107)',\n",
    "            width=1.5),\n",
    "        ),\n",
    "    opacity=0.6,\n",
    "    name = 'BDs Score')\n",
    "\n",
    "data = [trace_k2, trace_bds]\n",
    "layout = go.Layout(\n",
    "    barmode='group',\n",
    "    title = 'Comparison of Scores in Second Period, 10 days as time parameter and 1 day delay',\n",
    "    yaxis=dict(\n",
    "        title='Score')\n",
    "\n",
    ")\n",
    "\n",
    "fig = go.Figure(data=data, layout=layout)\n",
    "py.iplot(fig, filename='grouped-bar')"
   ]
  },
  {
   "cell_type": "code",
   "execution_count": 39,
   "metadata": {},
   "outputs": [
    {
     "data": {
      "text/html": [
       "<iframe id=\"igraph\" scrolling=\"no\" style=\"border:none;\" seamless=\"seamless\" src=\"https://plot.ly/~javitox12/4.embed\" height=\"525px\" width=\"100%\"></iframe>"
      ],
      "text/plain": [
       "<plotly.tools.PlotlyDisplay object>"
      ]
     },
     "execution_count": 39,
     "metadata": {},
     "output_type": "execute_result"
    }
   ],
   "source": [
    "# Period 1 with 15 days as time parameter\n",
    "\n",
    "x = ['k2 HC', 'k2 Tabu 100', 'BDs HC', 'BDs Tabu 100']\n",
    "y_k2 = [-1488.14,-1472.91,-1505.15,-1508.92]\n",
    "y_bds = [-1656.64,-1654.2,-1568.6,-1582.15 ]\n",
    "\n",
    "# This is the trace for the score k2 of all the networks\n",
    "trace_k2 = go.Bar(\n",
    "    x = x,\n",
    "    y = y_k2,\n",
    "    text=y_k2,\n",
    "    textposition = 'auto',\n",
    "    marker=dict(\n",
    "        color='rgb(158,202,225)',\n",
    "        line=dict(\n",
    "            color='rgb(8,48,107)',\n",
    "            width=1.5),\n",
    "        ),\n",
    "    opacity=0.6,\n",
    "    name = 'k2 Score')\n",
    "\n",
    "\n",
    "# This is the trace for the score BDs of all the networks\n",
    "trace_bds = go.Bar(\n",
    "    x = x,\n",
    "    y = y_bds,\n",
    "    text=y_bds,\n",
    "    textposition = 'auto',\n",
    "    marker=dict(\n",
    "        color='rgb(58,200,225)',\n",
    "        line=dict(\n",
    "            color='rgb(8,48,107)',\n",
    "            width=1.5),\n",
    "        ),\n",
    "    opacity=0.6,\n",
    "    name = 'BDs Score')\n",
    "\n",
    "data = [trace_k2, trace_bds]\n",
    "layout = go.Layout(\n",
    "    barmode='group',\n",
    "    title = 'Comparison of Scores in Second Period, 15 days as time parameter and 1 day delay',\n",
    "    yaxis=dict(\n",
    "        title='Score')\n",
    "\n",
    ")\n",
    "\n",
    "fig = go.Figure(data=data, layout=layout)\n",
    "py.iplot(fig, filename='grouped-bar')"
   ]
  },
  {
   "cell_type": "code",
   "execution_count": 38,
   "metadata": {},
   "outputs": [
    {
     "data": {
      "text/html": [
       "<iframe id=\"igraph\" scrolling=\"no\" style=\"border:none;\" seamless=\"seamless\" src=\"https://plot.ly/~javitox12/4.embed\" height=\"525px\" width=\"100%\"></iframe>"
      ],
      "text/plain": [
       "<plotly.tools.PlotlyDisplay object>"
      ]
     },
     "execution_count": 38,
     "metadata": {},
     "output_type": "execute_result"
    }
   ],
   "source": [
    "# Period 2 with time parameter 15 days\n",
    "\n",
    "x = ['k2 HC', 'k2 Tabu 100', 'BDs HC', 'BDs Tabu 100']\n",
    "y_k2 = [-1914.51,-1912.41,-1923.1,-1915.42]\n",
    "y_bds = [-2183.96,-2219.6,-2120.98,-2144.54]\n",
    "\n",
    "# This is the trace for the score k2 of all the networks\n",
    "trace_k2 = go.Bar(\n",
    "    x = x,\n",
    "    y = y_k2,\n",
    "    text=y_k2,\n",
    "    textposition = 'auto',\n",
    "    marker=dict(\n",
    "        color='rgb(158,202,225)',\n",
    "        line=dict(\n",
    "            color='rgb(8,48,107)',\n",
    "            width=1.5),\n",
    "        ),\n",
    "    opacity=0.6,\n",
    "    name = 'k2 Score')\n",
    "\n",
    "\n",
    "# This is the trace for the score BDs of all the networks\n",
    "trace_bds = go.Bar(\n",
    "    x = x,\n",
    "    y = y_bds,\n",
    "    text=y_bds,\n",
    "    textposition = 'auto',\n",
    "    marker=dict(\n",
    "        color='rgb(58,200,225)',\n",
    "        line=dict(\n",
    "            color='rgb(8,48,107)',\n",
    "            width=1.5),\n",
    "        ),\n",
    "    opacity=0.6,\n",
    "    name = 'BDs Score')\n",
    "\n",
    "data = [trace_k2, trace_bds]\n",
    "layout = go.Layout(\n",
    "    barmode='group',\n",
    "    title = 'Comparison of Scores in Second Period, 15 days as time parameter and 1 day delay',\n",
    "    yaxis=dict(\n",
    "        title='Score')\n",
    "\n",
    ")\n",
    "\n",
    "fig = go.Figure(data=data, layout=layout)\n",
    "py.iplot(fig, filename='grouped-bar')"
   ]
  },
  {
   "cell_type": "code",
   "execution_count": 36,
   "metadata": {},
   "outputs": [
    {
     "data": {
      "text/html": [
       "<iframe id=\"igraph\" scrolling=\"no\" style=\"border:none;\" seamless=\"seamless\" src=\"https://plot.ly/~javitox12/4.embed\" height=\"525px\" width=\"100%\"></iframe>"
      ],
      "text/plain": [
       "<plotly.tools.PlotlyDisplay object>"
      ]
     },
     "execution_count": 36,
     "metadata": {},
     "output_type": "execute_result"
    }
   ],
   "source": [
    "# Period 1 with time parameter 20 days\n",
    "\n",
    "x = ['k2 HC', 'k2 Tabu 100', 'BDs HC', 'BDs Tabu 100']\n",
    "y_k2 = [-1416.74, -1415.53, -1473.15, -1459.52]\n",
    "y_bds = [-1578.22,-1570.46, -1553.95,-1551.36]\n",
    "\n",
    "# This is the trace for the score k2 of all the networks\n",
    "trace_k2 = go.Bar(\n",
    "    x = x,\n",
    "    y = y_k2,\n",
    "    text=y_k2,\n",
    "    textposition = 'auto',\n",
    "    marker=dict(\n",
    "        color='rgb(158,202,225)',\n",
    "        line=dict(\n",
    "            color='rgb(8,48,107)',\n",
    "            width=1.5),\n",
    "        ),\n",
    "    opacity=0.6,\n",
    "    name = 'k2 Score')\n",
    "\n",
    "\n",
    "# This is the trace for the score BDs of all the networks\n",
    "trace_bds = go.Bar(\n",
    "    x = x,\n",
    "    y = y_bds,\n",
    "    text=y_bds,\n",
    "    textposition = 'auto',\n",
    "    marker=dict(\n",
    "        color='rgb(58,200,225)',\n",
    "        line=dict(\n",
    "            color='rgb(8,48,107)',\n",
    "            width=1.5),\n",
    "        ),\n",
    "    opacity=0.6,\n",
    "    name = 'BDs Score')\n",
    "\n",
    "data = [trace_k2, trace_bds]\n",
    "layout = go.Layout(\n",
    "    barmode='group',\n",
    "    title = 'Comparison of Scores in Second Period, 20 days as time parameter and 1 day delay',\n",
    "    yaxis=dict(\n",
    "        title='Score')\n",
    "\n",
    ")\n",
    "\n",
    "fig = go.Figure(data=data, layout=layout)\n",
    "py.iplot(fig, filename='grouped-bar')"
   ]
  },
  {
   "cell_type": "code",
   "execution_count": 37,
   "metadata": {},
   "outputs": [
    {
     "data": {
      "text/html": [
       "<iframe id=\"igraph\" scrolling=\"no\" style=\"border:none;\" seamless=\"seamless\" src=\"https://plot.ly/~javitox12/4.embed\" height=\"525px\" width=\"100%\"></iframe>"
      ],
      "text/plain": [
       "<plotly.tools.PlotlyDisplay object>"
      ]
     },
     "execution_count": 37,
     "metadata": {},
     "output_type": "execute_result"
    }
   ],
   "source": [
    "# Period 1 with time parameter 20 days\n",
    "\n",
    "x = ['k2 HC', 'k2 Tabu 100', 'BDs HC', 'BDs Tabu 100']\n",
    "y_k2 = [-1834.12 , -1833.55, -1831.33 , -1835.85 ]\n",
    "y_bds = [-2086.18, -2077.9, -2011.07, -2052.52]\n",
    "\n",
    "# This is the trace for the score k2 of all the networks\n",
    "trace_k2 = go.Bar(\n",
    "    x = x,\n",
    "    y = y_k2,\n",
    "    text=y_k2,\n",
    "    textposition = 'auto',\n",
    "    marker=dict(\n",
    "        color='rgb(158,202,225)',\n",
    "        line=dict(\n",
    "            color='rgb(8,48,107)',\n",
    "            width=1.5),\n",
    "        ),\n",
    "    opacity=0.6,\n",
    "    name = 'k2 Score')\n",
    "\n",
    "\n",
    "# This is the trace for the score BDs of all the networks\n",
    "trace_bds = go.Bar(\n",
    "    x = x,\n",
    "    y = y_bds,\n",
    "    text=y_bds,\n",
    "    textposition = 'auto',\n",
    "    marker=dict(\n",
    "        color='rgb(58,200,225)',\n",
    "        line=dict(\n",
    "            color='rgb(8,48,107)',\n",
    "            width=1.5),\n",
    "        ),\n",
    "    opacity=0.6,\n",
    "    name = 'BDs Score')\n",
    "\n",
    "data = [trace_k2, trace_bds]\n",
    "layout = go.Layout(\n",
    "    barmode='group',\n",
    "    title = 'Comparison of Scores in Second Period, 20 days as time parameter and 1 day delay',\n",
    "    yaxis=dict(\n",
    "        title='Score')\n",
    "\n",
    ")\n",
    "\n",
    "fig = go.Figure(data=data, layout=layout)\n",
    "py.iplot(fig, filename='grouped-bar')"
   ]
  },
  {
   "cell_type": "code",
   "execution_count": null,
   "metadata": {},
   "outputs": [],
   "source": []
  }
 ],
 "metadata": {
  "anaconda-cloud": {},
  "kernelspec": {
   "display_name": "Python 3",
   "language": "python",
   "name": "python3"
  },
  "language_info": {
   "codemirror_mode": {
    "name": "ipython",
    "version": 3
   },
   "file_extension": ".py",
   "mimetype": "text/x-python",
   "name": "python",
   "nbconvert_exporter": "python",
   "pygments_lexer": "ipython3",
   "version": "3.6.4"
  }
 },
 "nbformat": 4,
 "nbformat_minor": 1
}
