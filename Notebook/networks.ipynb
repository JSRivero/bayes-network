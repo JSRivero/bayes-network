{
 "cells": [
  {
   "cell_type": "code",
   "execution_count": 55,
   "metadata": {},
   "outputs": [],
   "source": [
    "import networkx as nx\n",
    "import plotly.plotly as py\n",
    "from plotly.graph_objs import *\n",
    "import pandas as pd\n",
    "import numpy as np\n",
    "import os\n",
    "import sys\n",
    "import matplotlib.pyplot as plt\n",
    "from importlib import reload\n",
    "import matplotlib"
   ]
  },
  {
   "cell_type": "code",
   "execution_count": 3,
   "metadata": {},
   "outputs": [
    {
     "data": {
      "text/html": [
       "<script>requirejs.config({paths: { 'plotly': ['https://cdn.plot.ly/plotly-latest.min']},});if(!window.Plotly) {{require(['plotly'],function(plotly) {window.Plotly=plotly;});}}</script>"
      ],
      "text/vnd.plotly.v1+html": [
       "<script>requirejs.config({paths: { 'plotly': ['https://cdn.plot.ly/plotly-latest.min']},});if(!window.Plotly) {{require(['plotly'],function(plotly) {window.Plotly=plotly;});}}</script>"
      ]
     },
     "metadata": {},
     "output_type": "display_data"
    }
   ],
   "source": [
    "from plotly.offline import download_plotlyjs, init_notebook_mode,  iplot, plot\n",
    "init_notebook_mode(connected=True)"
   ]
  },
  {
   "cell_type": "code",
   "execution_count": 4,
   "metadata": {},
   "outputs": [],
   "source": [
    "sys.path.insert(0,r'C:\\Users\\Javier\\Documents\\MEGA\\Universitattt\\Master\\Thesis\\Code\\my_code')\n",
    "import epsilon_module as em\n",
    "import utilities as ut"
   ]
  },
  {
   "cell_type": "code",
   "execution_count": 4,
   "metadata": {},
   "outputs": [],
   "source": [
    "import plotly"
   ]
  },
  {
   "cell_type": "code",
   "execution_count": 6,
   "metadata": {},
   "outputs": [],
   "source": [
    "plotly.tools.set_credentials_file(username='javitox14', api_key='FNtHXULKFvBOaWPuJZe5')"
   ]
  },
  {
   "cell_type": "code",
   "execution_count": 5,
   "metadata": {},
   "outputs": [
    {
     "data": {
      "text/plain": [
       "<module 'utilities' from 'C:\\\\Users\\\\Javier\\\\Documents\\\\MEGA\\\\Universitattt\\\\Master\\\\Thesis\\\\Code\\\\my_code\\\\utilities.py'>"
      ]
     },
     "execution_count": 5,
     "metadata": {},
     "output_type": "execute_result"
    }
   ],
   "source": [
    "reload(ut)"
   ]
  },
  {
   "cell_type": "code",
   "execution_count": 6,
   "metadata": {},
   "outputs": [],
   "source": [
    "G=nx.DiGraph()#  G is an empty Graph"
   ]
  },
  {
   "cell_type": "code",
   "execution_count": 48,
   "metadata": {},
   "outputs": [],
   "source": [
    "dic = {0:'RUSSIA', 1:'GAZPRU', 2:'GAZPRU.Gneft', 3:'SBERBANK', 4:'ROSNEF', 5:'RUSRAI',\n",
    "       6:'ALROSA', 7:'BOM', 8:'AKT', 9:'BKECON', 10:'CITMOS', 11:'EVRGSA',\n",
    "       12:'LUKOIL', 13:'MBT', 14:'MDMOJC', 15:'RSBZAO', 16:'RUSAGB', 17:'VIP', 18:'VTB'}"
   ]
  },
  {
   "cell_type": "code",
   "execution_count": null,
   "metadata": {},
   "outputs": [],
   "source": [
    "def draw_stressed_network(entities_list, rank, edge_list):\n",
    "    size = np.size(entities_list)\n",
    "    mst = pd.DataFrame(np.zeros((size,size)),index = entities_list,\n",
    "                                            columns = entities_list)\n",
    "    for e in edge_list:\n",
    "        mst.loc[e[0],e[1]] = 1\n",
    "\n",
    "    label_list = dict(enumerate(entities_list))\n",
    "    reds = plt.get_cmap('Reds')\n",
    "    nodes_list = []\n",
    "    red_array = []\n",
    "    for i in range(len(entities_list)):\n",
    "        if rank[i] == 1:\n",
    "            red_array.append(reds(0.99))\n",
    "        else:\n",
    "            red_array.append(reds(rank[i]))\n",
    "\n",
    "        nodes_list.append(entities_list[i] + '(' + str(rank[i])[0:4] + ')')\n",
    "    label_list = dict(enumerate(nodes_list))\n",
    "    h = nx.from_numpy_matrix(np.matrix(mst), create_using = nx.DiGraph())\n",
    "    h_aux = nx.from_numpy_matrix(np.matrix(mst))\n",
    "    pos = nx.kamada_kawai_layout(h_aux)\n",
    "    eigen_cen = nx.eigenvector_centrality_numpy(h_aux)\n",
    "    centrality = eigen_cen.values()\n",
    "    nx.draw_networkx(h, labels = label_list, edge_color = 'black',\n",
    "                    node_color = red_array, node_cmap = reds,\n",
    "                    node_size = [v*2000 for v in centrality], pos = pos,\n",
    "                    font_size = 8)\n",
    "    plt.axis('off')\n",
    "    plt.show()"
   ]
  },
  {
   "cell_type": "code",
   "execution_count": 160,
   "metadata": {},
   "outputs": [],
   "source": [
    "def make_annotations(pos, anno_text, font_size=14, font_color='rgb(10,10,10)'):\n",
    "    L=len(pos)\n",
    "    if len(anno_text)!=L:\n",
    "        raise ValueError('The lists pos and text must have the same len')\n",
    "    annotations = []\n",
    "    for k in range(L):\n",
    "        annotations.append(dict(text=anno_text[k], \n",
    "                                x=pos[k][0], \n",
    "                                y=pos[k][1]+0.075,#this additional value is chosen by trial and error\n",
    "                                xref='x1', yref='y1',\n",
    "                                font=dict(color= font_color, size=font_size),\n",
    "                                showarrow=False)\n",
    "                          )\n",
    "    return annotations\n",
    "\n",
    "def draw_stressed_network_v2(entities_list, rank, edge_list):\n",
    "    ''' Draw a network where\n",
    "        node size according to centrality\n",
    "        node color according to probability of default\n",
    "        \n",
    "        Arguments:\n",
    "        entities_list: list of strings\n",
    "        rank: list of floats\n",
    "        edge_list: list of tuples or lists\n",
    "    '''\n",
    "    size = np.size(entities_list)\n",
    "    mst = pd.DataFrame(np.zeros((size,size)),index = entities_list,\n",
    "                                            columns = entities_list)\n",
    "    # Get adjacency matrix\n",
    "    for e in edge_list:\n",
    "        mst.loc[e[0],e[1]] = 1\n",
    "    \n",
    "    # Get colors and list of nodes\n",
    "    reds = plt.get_cmap('Reds')\n",
    "    nodes_list = []\n",
    "    red_array = []\n",
    "    for i in range(len(entities_list)):\n",
    "        if rank[i] == 1:\n",
    "            red_array.append(reds(0.99))\n",
    "        else:\n",
    "            red_array.append(reds(rank[i]))\n",
    "\n",
    "        nodes_list.append(entities_list[i] + '(' + str(rank[i])[0:4] + ')')\n",
    "        \n",
    "    label_list = dict(enumerate(nodes_list))\n",
    "    \n",
    "    colors_nodes = ['rgb(' +','.join([str(a * 225) for a in matplotlib.colors.to_rgb(r)]) + ')' for r in red_array]\n",
    "    \n",
    "    G = nx.from_numpy_matrix(np.matrix(mst), create_using = nx.DiGraph())\n",
    "    G_aux = nx.from_numpy_matrix(np.matrix(mst))\n",
    "    \n",
    "    eigen_cen = nx.eigenvector_centrality_numpy(G_aux)\n",
    "    centrality = list(eigen_cen.values())\n",
    "    \n",
    "    pos = nx.kamada_kawai_layout(G_aux)\n",
    "    \n",
    "    Xn=[pos[k][0] for k in range(len(pos))]\n",
    "    Yn=[pos[k][1] for k in range(len(pos))]\n",
    "    # Define Plotly trace for nodes, here we can change color size, etc\n",
    "    \n",
    "    trace_nodes = dict(type = 'scatter',\n",
    "                        x = Xn,\n",
    "                        y = Yn,\n",
    "                        mode = 'markers',\n",
    "                        marker = dict(symbol = 'dot', size = [v*100 for v in, color = colors_nodes),\n",
    "                        text = nodes_list)\n",
    "    \n",
    "    Xe=[]\n",
    "    Ye=[]\n",
    "    for e in G.edges():\n",
    "        Xe.extend([pos[e[0]][0], pos[e[1]][0], None])\n",
    "        Ye.extend([pos[e[0]][1], pos[e[1]][1], None])\n",
    "\n",
    "    trace_edges=dict(type='scatter',\n",
    "                     mode='lines',\n",
    "                     x=Xe,\n",
    "                     y=Ye,\n",
    "                     line=dict(width=1, color='rgb(25,25,25)'),\n",
    "                     hoverinfo='none' \n",
    "                    )\n",
    "    axis = dict(showline = False,\n",
    "                zeroline = False,\n",
    "                showgrid = False,\n",
    "                showticklabels = False,\n",
    "                title = ''\n",
    "                )\n",
    "    layout = dict(title = 'MyGraph',\n",
    "                font = dict(family = 'Balto'),\n",
    "                width=600,\n",
    "                height=600,\n",
    "                autosize=False,\n",
    "                showlegend=False,\n",
    "                xaxis=axis,\n",
    "                yaxis=axis,\n",
    "                margin=dict(\n",
    "                            l=40,\n",
    "                            r=40,\n",
    "                            b=85,\n",
    "                            t=100,\n",
    "                            pad=0,\n",
    "                            ),\n",
    "                hovermode='closest',\n",
    "                plot_bgcolor='#efecea', #set background color            \n",
    "                )\n",
    "    data = [trace_nodes,trace_edges] \n",
    "    fig = dict(data=data, layout=layout)\n",
    "    \n",
    "    fig['layout'].update(annotations=make_annotations(pos, nodes_list))\n",
    "    \n",
    "    iplot(fig)\n"
   ]
  },
  {
   "cell_type": "code",
   "execution_count": 171,
   "metadata": {},
   "outputs": [
    {
     "data": {
      "application/vnd.plotly.v1+json": {
       "data": [
        {
         "marker": {
          "color": "red",
          "size": 40,
          "symbol": "dot"
         },
         "mode": "markers",
         "text": [
          "RUSSIA(1)",
          "CITMOS(0.08)",
          "GAZPRU(0.44)",
          "SBERBANK(0.42)",
          "LUKOIL(0.28)",
          "ROSNEF(0.26)",
          "RUSAGB(0.23)",
          "BKECON(0.19)",
          "RUSRAI(0.18)",
          "AKT(0.66)",
          "VTB(0.17)",
          "GAZPRU.Gneft(0.17)",
          "MBT(0.13)",
          "ALROSA(0.12)",
          "VIP(0.11)",
          "EVRGSA(0.08)",
          "MDMOJC(0.11)",
          "BOM(0.09)"
         ],
         "type": "scatter",
         "x": [
          0.37317876322718996,
          -0.2170493698790715,
          -0.11195114709460328,
          0.5992165561850372,
          -0.3663739317392188,
          0.8150129295127946,
          -0.48995388228382275,
          0.14655785912696317,
          -0.5552591538713274,
          0.5009629625044613,
          -0.34151824866601516,
          -0.04629562426337241,
          0.140000705609587,
          0.26731967521631816,
          0.06055274906211933,
          0.1744013430728814,
          -0.6360835290589955,
          -0.31271865666092513
         ],
         "y": [
          -0.036391792190055415,
          0.6323797073066285,
          -0.12591447467551134,
          -0.35928408964758773,
          0.1570097238518574,
          0.5618247989012027,
          -0.07985997552964742,
          0.43205325471692063,
          0.36131145514661706,
          0.35519424382809883,
          -0.4227971363846996,
          -0.6902564423692736,
          -0.01107330130923983,
          -0.45797662147757473,
          -0.343479018691831,
          -0.3020427664398455,
          -0.6706975650360593,
          1
         ]
        },
        {
         "hoverinfo": "none",
         "line": {
          "color": "rgb(25,25,25)",
          "width": 1
         },
         "mode": "lines",
         "type": "scatter",
         "x": [
          0.37317876322718996,
          -0.11195114709460328,
          null,
          0.37317876322718996,
          0.5992165561850372,
          null,
          -0.2170493698790715,
          0.14655785912696317,
          null,
          -0.11195114709460328,
          -0.3663739317392188,
          null,
          -0.11195114709460328,
          -0.48995388228382275,
          null,
          -0.11195114709460328,
          -0.34151824866601516,
          null,
          -0.11195114709460328,
          0.140000705609587,
          null,
          -0.48995388228382275,
          -0.5552591538713274,
          null,
          -0.48995388228382275,
          -0.34151824866601516,
          null,
          0.14655785912696317,
          0.140000705609587,
          null,
          -0.5552591538713274,
          -0.2170493698790715,
          null,
          -0.5552591538713274,
          -0.3663739317392188,
          null,
          0.5009629625044613,
          0.37317876322718996,
          null,
          0.5009629625044613,
          0.8150129295127946,
          null,
          0.5009629625044613,
          0.14655785912696317,
          null,
          -0.04629562426337241,
          -0.34151824866601516,
          null,
          0.26731967521631816,
          0.5992165561850372,
          null,
          0.26731967521631816,
          -0.04629562426337241,
          null,
          0.26731967521631816,
          0.140000705609587,
          null,
          -0.6360835290589955,
          -0.34151824866601516,
          null,
          -0.31271865666092513,
          -0.2170493698790715,
          null
         ],
         "y": [
          -0.036391792190055415,
          -0.12591447467551134,
          null,
          -0.036391792190055415,
          -0.35928408964758773,
          null,
          0.6323797073066285,
          0.43205325471692063,
          null,
          -0.12591447467551134,
          0.1570097238518574,
          null,
          -0.12591447467551134,
          -0.07985997552964742,
          null,
          -0.12591447467551134,
          -0.4227971363846996,
          null,
          -0.12591447467551134,
          -0.01107330130923983,
          null,
          -0.07985997552964742,
          0.36131145514661706,
          null,
          -0.07985997552964742,
          -0.4227971363846996,
          null,
          0.43205325471692063,
          -0.01107330130923983,
          null,
          0.36131145514661706,
          0.6323797073066285,
          null,
          0.36131145514661706,
          0.1570097238518574,
          null,
          0.35519424382809883,
          -0.036391792190055415,
          null,
          0.35519424382809883,
          0.5618247989012027,
          null,
          0.35519424382809883,
          0.43205325471692063,
          null,
          -0.6902564423692736,
          -0.4227971363846996,
          null,
          -0.45797662147757473,
          -0.35928408964758773,
          null,
          -0.45797662147757473,
          -0.6902564423692736,
          null,
          -0.45797662147757473,
          -0.01107330130923983,
          null,
          -0.6706975650360593,
          -0.4227971363846996,
          null,
          1,
          0.6323797073066285,
          null
         ]
        }
       ],
       "layout": {
        "annotations": [
         {
          "font": {
           "color": "rgb(10,10,10)",
           "size": 14
          },
          "showarrow": false,
          "text": "RUSSIA(1)",
          "x": 0.37317876322718996,
          "xref": "x1",
          "y": 0.03860820780994458,
          "yref": "y1"
         },
         {
          "font": {
           "color": "rgb(10,10,10)",
           "size": 14
          },
          "showarrow": false,
          "text": "CITMOS(0.08)",
          "x": -0.2170493698790715,
          "xref": "x1",
          "y": 0.7073797073066285,
          "yref": "y1"
         },
         {
          "font": {
           "color": "rgb(10,10,10)",
           "size": 14
          },
          "showarrow": false,
          "text": "GAZPRU(0.44)",
          "x": -0.11195114709460328,
          "xref": "x1",
          "y": -0.05091447467551134,
          "yref": "y1"
         },
         {
          "font": {
           "color": "rgb(10,10,10)",
           "size": 14
          },
          "showarrow": false,
          "text": "SBERBANK(0.42)",
          "x": 0.5992165561850372,
          "xref": "x1",
          "y": -0.2842840896475877,
          "yref": "y1"
         },
         {
          "font": {
           "color": "rgb(10,10,10)",
           "size": 14
          },
          "showarrow": false,
          "text": "LUKOIL(0.28)",
          "x": -0.3663739317392188,
          "xref": "x1",
          "y": 0.23200972385185742,
          "yref": "y1"
         },
         {
          "font": {
           "color": "rgb(10,10,10)",
           "size": 14
          },
          "showarrow": false,
          "text": "ROSNEF(0.26)",
          "x": 0.8150129295127946,
          "xref": "x1",
          "y": 0.6368247989012027,
          "yref": "y1"
         },
         {
          "font": {
           "color": "rgb(10,10,10)",
           "size": 14
          },
          "showarrow": false,
          "text": "RUSAGB(0.23)",
          "x": -0.48995388228382275,
          "xref": "x1",
          "y": -0.004859975529647426,
          "yref": "y1"
         },
         {
          "font": {
           "color": "rgb(10,10,10)",
           "size": 14
          },
          "showarrow": false,
          "text": "BKECON(0.19)",
          "x": 0.14655785912696317,
          "xref": "x1",
          "y": 0.5070532547169206,
          "yref": "y1"
         },
         {
          "font": {
           "color": "rgb(10,10,10)",
           "size": 14
          },
          "showarrow": false,
          "text": "RUSRAI(0.18)",
          "x": -0.5552591538713274,
          "xref": "x1",
          "y": 0.43631145514661707,
          "yref": "y1"
         },
         {
          "font": {
           "color": "rgb(10,10,10)",
           "size": 14
          },
          "showarrow": false,
          "text": "AKT(0.66)",
          "x": 0.5009629625044613,
          "xref": "x1",
          "y": 0.43019424382809884,
          "yref": "y1"
         },
         {
          "font": {
           "color": "rgb(10,10,10)",
           "size": 14
          },
          "showarrow": false,
          "text": "VTB(0.17)",
          "x": -0.34151824866601516,
          "xref": "x1",
          "y": -0.3477971363846996,
          "yref": "y1"
         },
         {
          "font": {
           "color": "rgb(10,10,10)",
           "size": 14
          },
          "showarrow": false,
          "text": "GAZPRU.Gneft(0.17)",
          "x": -0.04629562426337241,
          "xref": "x1",
          "y": -0.6152564423692737,
          "yref": "y1"
         },
         {
          "font": {
           "color": "rgb(10,10,10)",
           "size": 14
          },
          "showarrow": false,
          "text": "MBT(0.13)",
          "x": 0.140000705609587,
          "xref": "x1",
          "y": 0.06392669869076016,
          "yref": "y1"
         },
         {
          "font": {
           "color": "rgb(10,10,10)",
           "size": 14
          },
          "showarrow": false,
          "text": "ALROSA(0.12)",
          "x": 0.26731967521631816,
          "xref": "x1",
          "y": -0.3829766214775747,
          "yref": "y1"
         },
         {
          "font": {
           "color": "rgb(10,10,10)",
           "size": 14
          },
          "showarrow": false,
          "text": "VIP(0.11)",
          "x": 0.06055274906211933,
          "xref": "x1",
          "y": -0.268479018691831,
          "yref": "y1"
         },
         {
          "font": {
           "color": "rgb(10,10,10)",
           "size": 14
          },
          "showarrow": false,
          "text": "EVRGSA(0.08)",
          "x": 0.1744013430728814,
          "xref": "x1",
          "y": -0.2270427664398455,
          "yref": "y1"
         },
         {
          "font": {
           "color": "rgb(10,10,10)",
           "size": 14
          },
          "showarrow": false,
          "text": "MDMOJC(0.11)",
          "x": -0.6360835290589955,
          "xref": "x1",
          "y": -0.5956975650360593,
          "yref": "y1"
         },
         {
          "font": {
           "color": "rgb(10,10,10)",
           "size": 14
          },
          "showarrow": false,
          "text": "BOM(0.09)",
          "x": -0.31271865666092513,
          "xref": "x1",
          "y": 1.075,
          "yref": "y1"
         }
        ],
        "autosize": false,
        "font": {
         "family": "Balto"
        },
        "height": 600,
        "hovermode": "closest",
        "margin": {
         "b": 85,
         "l": 40,
         "pad": 0,
         "r": 40,
         "t": 100
        },
        "plot_bgcolor": "#efecea",
        "showlegend": false,
        "title": "MyGraph",
        "width": 600,
        "xaxis": {
         "showgrid": false,
         "showline": false,
         "showticklabels": false,
         "title": "",
         "zeroline": false
        },
        "yaxis": {
         "showgrid": false,
         "showline": false,
         "showticklabels": false,
         "title": "",
         "zeroline": false
        }
       }
      },
      "text/html": [
       "<div id=\"d256d015-7057-4664-ad18-3ee2ae6d7328\" style=\"height: 600px; width: 600px;\" class=\"plotly-graph-div\"></div><script type=\"text/javascript\">require([\"plotly\"], function(Plotly) { window.PLOTLYENV=window.PLOTLYENV || {};window.PLOTLYENV.BASE_URL=\"https://plot.ly\";Plotly.newPlot(\"d256d015-7057-4664-ad18-3ee2ae6d7328\", [{\"type\": \"scatter\", \"x\": [0.37317876322718996, -0.2170493698790715, -0.11195114709460328, 0.5992165561850372, -0.3663739317392188, 0.8150129295127946, -0.48995388228382275, 0.14655785912696317, -0.5552591538713274, 0.5009629625044613, -0.34151824866601516, -0.04629562426337241, 0.140000705609587, 0.26731967521631816, 0.06055274906211933, 0.1744013430728814, -0.6360835290589955, -0.31271865666092513], \"y\": [-0.036391792190055415, 0.6323797073066285, -0.12591447467551134, -0.35928408964758773, 0.1570097238518574, 0.5618247989012027, -0.07985997552964742, 0.43205325471692063, 0.36131145514661706, 0.35519424382809883, -0.4227971363846996, -0.6902564423692736, -0.01107330130923983, -0.45797662147757473, -0.343479018691831, -0.3020427664398455, -0.6706975650360593, 1.0], \"mode\": \"markers\", \"marker\": {\"symbol\": \"dot\", \"size\": 40, \"color\": \"red\"}, \"text\": [\"RUSSIA(1)\", \"CITMOS(0.08)\", \"GAZPRU(0.44)\", \"SBERBANK(0.42)\", \"LUKOIL(0.28)\", \"ROSNEF(0.26)\", \"RUSAGB(0.23)\", \"BKECON(0.19)\", \"RUSRAI(0.18)\", \"AKT(0.66)\", \"VTB(0.17)\", \"GAZPRU.Gneft(0.17)\", \"MBT(0.13)\", \"ALROSA(0.12)\", \"VIP(0.11)\", \"EVRGSA(0.08)\", \"MDMOJC(0.11)\", \"BOM(0.09)\"]}, {\"type\": \"scatter\", \"mode\": \"lines\", \"x\": [0.37317876322718996, -0.11195114709460328, null, 0.37317876322718996, 0.5992165561850372, null, -0.2170493698790715, 0.14655785912696317, null, -0.11195114709460328, -0.3663739317392188, null, -0.11195114709460328, -0.48995388228382275, null, -0.11195114709460328, -0.34151824866601516, null, -0.11195114709460328, 0.140000705609587, null, -0.48995388228382275, -0.5552591538713274, null, -0.48995388228382275, -0.34151824866601516, null, 0.14655785912696317, 0.140000705609587, null, -0.5552591538713274, -0.2170493698790715, null, -0.5552591538713274, -0.3663739317392188, null, 0.5009629625044613, 0.37317876322718996, null, 0.5009629625044613, 0.8150129295127946, null, 0.5009629625044613, 0.14655785912696317, null, -0.04629562426337241, -0.34151824866601516, null, 0.26731967521631816, 0.5992165561850372, null, 0.26731967521631816, -0.04629562426337241, null, 0.26731967521631816, 0.140000705609587, null, -0.6360835290589955, -0.34151824866601516, null, -0.31271865666092513, -0.2170493698790715, null], \"y\": [-0.036391792190055415, -0.12591447467551134, null, -0.036391792190055415, -0.35928408964758773, null, 0.6323797073066285, 0.43205325471692063, null, -0.12591447467551134, 0.1570097238518574, null, -0.12591447467551134, -0.07985997552964742, null, -0.12591447467551134, -0.4227971363846996, null, -0.12591447467551134, -0.01107330130923983, null, -0.07985997552964742, 0.36131145514661706, null, -0.07985997552964742, -0.4227971363846996, null, 0.43205325471692063, -0.01107330130923983, null, 0.36131145514661706, 0.6323797073066285, null, 0.36131145514661706, 0.1570097238518574, null, 0.35519424382809883, -0.036391792190055415, null, 0.35519424382809883, 0.5618247989012027, null, 0.35519424382809883, 0.43205325471692063, null, -0.6902564423692736, -0.4227971363846996, null, -0.45797662147757473, -0.35928408964758773, null, -0.45797662147757473, -0.6902564423692736, null, -0.45797662147757473, -0.01107330130923983, null, -0.6706975650360593, -0.4227971363846996, null, 1.0, 0.6323797073066285, null], \"line\": {\"width\": 1, \"color\": \"rgb(25,25,25)\"}, \"hoverinfo\": \"none\"}], {\"title\": \"MyGraph\", \"font\": {\"family\": \"Balto\"}, \"width\": 600, \"height\": 600, \"autosize\": false, \"showlegend\": false, \"xaxis\": {\"showline\": false, \"zeroline\": false, \"showgrid\": false, \"showticklabels\": false, \"title\": \"\"}, \"yaxis\": {\"showline\": false, \"zeroline\": false, \"showgrid\": false, \"showticklabels\": false, \"title\": \"\"}, \"margin\": {\"l\": 40, \"r\": 40, \"b\": 85, \"t\": 100, \"pad\": 0}, \"hovermode\": \"closest\", \"plot_bgcolor\": \"#efecea\", \"annotations\": [{\"text\": \"RUSSIA(1)\", \"x\": 0.37317876322718996, \"y\": 0.03860820780994458, \"xref\": \"x1\", \"yref\": \"y1\", \"font\": {\"color\": \"rgb(10,10,10)\", \"size\": 14}, \"showarrow\": false}, {\"text\": \"CITMOS(0.08)\", \"x\": -0.2170493698790715, \"y\": 0.7073797073066285, \"xref\": \"x1\", \"yref\": \"y1\", \"font\": {\"color\": \"rgb(10,10,10)\", \"size\": 14}, \"showarrow\": false}, {\"text\": \"GAZPRU(0.44)\", \"x\": -0.11195114709460328, \"y\": -0.05091447467551134, \"xref\": \"x1\", \"yref\": \"y1\", \"font\": {\"color\": \"rgb(10,10,10)\", \"size\": 14}, \"showarrow\": false}, {\"text\": \"SBERBANK(0.42)\", \"x\": 0.5992165561850372, \"y\": -0.2842840896475877, \"xref\": \"x1\", \"yref\": \"y1\", \"font\": {\"color\": \"rgb(10,10,10)\", \"size\": 14}, \"showarrow\": false}, {\"text\": \"LUKOIL(0.28)\", \"x\": -0.3663739317392188, \"y\": 0.23200972385185742, \"xref\": \"x1\", \"yref\": \"y1\", \"font\": {\"color\": \"rgb(10,10,10)\", \"size\": 14}, \"showarrow\": false}, {\"text\": \"ROSNEF(0.26)\", \"x\": 0.8150129295127946, \"y\": 0.6368247989012027, \"xref\": \"x1\", \"yref\": \"y1\", \"font\": {\"color\": \"rgb(10,10,10)\", \"size\": 14}, \"showarrow\": false}, {\"text\": \"RUSAGB(0.23)\", \"x\": -0.48995388228382275, \"y\": -0.004859975529647426, \"xref\": \"x1\", \"yref\": \"y1\", \"font\": {\"color\": \"rgb(10,10,10)\", \"size\": 14}, \"showarrow\": false}, {\"text\": \"BKECON(0.19)\", \"x\": 0.14655785912696317, \"y\": 0.5070532547169206, \"xref\": \"x1\", \"yref\": \"y1\", \"font\": {\"color\": \"rgb(10,10,10)\", \"size\": 14}, \"showarrow\": false}, {\"text\": \"RUSRAI(0.18)\", \"x\": -0.5552591538713274, \"y\": 0.43631145514661707, \"xref\": \"x1\", \"yref\": \"y1\", \"font\": {\"color\": \"rgb(10,10,10)\", \"size\": 14}, \"showarrow\": false}, {\"text\": \"AKT(0.66)\", \"x\": 0.5009629625044613, \"y\": 0.43019424382809884, \"xref\": \"x1\", \"yref\": \"y1\", \"font\": {\"color\": \"rgb(10,10,10)\", \"size\": 14}, \"showarrow\": false}, {\"text\": \"VTB(0.17)\", \"x\": -0.34151824866601516, \"y\": -0.3477971363846996, \"xref\": \"x1\", \"yref\": \"y1\", \"font\": {\"color\": \"rgb(10,10,10)\", \"size\": 14}, \"showarrow\": false}, {\"text\": \"GAZPRU.Gneft(0.17)\", \"x\": -0.04629562426337241, \"y\": -0.6152564423692737, \"xref\": \"x1\", \"yref\": \"y1\", \"font\": {\"color\": \"rgb(10,10,10)\", \"size\": 14}, \"showarrow\": false}, {\"text\": \"MBT(0.13)\", \"x\": 0.140000705609587, \"y\": 0.06392669869076016, \"xref\": \"x1\", \"yref\": \"y1\", \"font\": {\"color\": \"rgb(10,10,10)\", \"size\": 14}, \"showarrow\": false}, {\"text\": \"ALROSA(0.12)\", \"x\": 0.26731967521631816, \"y\": -0.3829766214775747, \"xref\": \"x1\", \"yref\": \"y1\", \"font\": {\"color\": \"rgb(10,10,10)\", \"size\": 14}, \"showarrow\": false}, {\"text\": \"VIP(0.11)\", \"x\": 0.06055274906211933, \"y\": -0.268479018691831, \"xref\": \"x1\", \"yref\": \"y1\", \"font\": {\"color\": \"rgb(10,10,10)\", \"size\": 14}, \"showarrow\": false}, {\"text\": \"EVRGSA(0.08)\", \"x\": 0.1744013430728814, \"y\": -0.2270427664398455, \"xref\": \"x1\", \"yref\": \"y1\", \"font\": {\"color\": \"rgb(10,10,10)\", \"size\": 14}, \"showarrow\": false}, {\"text\": \"MDMOJC(0.11)\", \"x\": -0.6360835290589955, \"y\": -0.5956975650360593, \"xref\": \"x1\", \"yref\": \"y1\", \"font\": {\"color\": \"rgb(10,10,10)\", \"size\": 14}, \"showarrow\": false}, {\"text\": \"BOM(0.09)\", \"x\": -0.31271865666092513, \"y\": 1.075, \"xref\": \"x1\", \"yref\": \"y1\", \"font\": {\"color\": \"rgb(10,10,10)\", \"size\": 14}, \"showarrow\": false}]}, {\"showLink\": true, \"linkText\": \"Export to plot.ly\"})});</script>"
      ],
      "text/vnd.plotly.v1+html": [
       "<div id=\"d256d015-7057-4664-ad18-3ee2ae6d7328\" style=\"height: 600px; width: 600px;\" class=\"plotly-graph-div\"></div><script type=\"text/javascript\">require([\"plotly\"], function(Plotly) { window.PLOTLYENV=window.PLOTLYENV || {};window.PLOTLYENV.BASE_URL=\"https://plot.ly\";Plotly.newPlot(\"d256d015-7057-4664-ad18-3ee2ae6d7328\", [{\"type\": \"scatter\", \"x\": [0.37317876322718996, -0.2170493698790715, -0.11195114709460328, 0.5992165561850372, -0.3663739317392188, 0.8150129295127946, -0.48995388228382275, 0.14655785912696317, -0.5552591538713274, 0.5009629625044613, -0.34151824866601516, -0.04629562426337241, 0.140000705609587, 0.26731967521631816, 0.06055274906211933, 0.1744013430728814, -0.6360835290589955, -0.31271865666092513], \"y\": [-0.036391792190055415, 0.6323797073066285, -0.12591447467551134, -0.35928408964758773, 0.1570097238518574, 0.5618247989012027, -0.07985997552964742, 0.43205325471692063, 0.36131145514661706, 0.35519424382809883, -0.4227971363846996, -0.6902564423692736, -0.01107330130923983, -0.45797662147757473, -0.343479018691831, -0.3020427664398455, -0.6706975650360593, 1.0], \"mode\": \"markers\", \"marker\": {\"symbol\": \"dot\", \"size\": 40, \"color\": \"red\"}, \"text\": [\"RUSSIA(1)\", \"CITMOS(0.08)\", \"GAZPRU(0.44)\", \"SBERBANK(0.42)\", \"LUKOIL(0.28)\", \"ROSNEF(0.26)\", \"RUSAGB(0.23)\", \"BKECON(0.19)\", \"RUSRAI(0.18)\", \"AKT(0.66)\", \"VTB(0.17)\", \"GAZPRU.Gneft(0.17)\", \"MBT(0.13)\", \"ALROSA(0.12)\", \"VIP(0.11)\", \"EVRGSA(0.08)\", \"MDMOJC(0.11)\", \"BOM(0.09)\"]}, {\"type\": \"scatter\", \"mode\": \"lines\", \"x\": [0.37317876322718996, -0.11195114709460328, null, 0.37317876322718996, 0.5992165561850372, null, -0.2170493698790715, 0.14655785912696317, null, -0.11195114709460328, -0.3663739317392188, null, -0.11195114709460328, -0.48995388228382275, null, -0.11195114709460328, -0.34151824866601516, null, -0.11195114709460328, 0.140000705609587, null, -0.48995388228382275, -0.5552591538713274, null, -0.48995388228382275, -0.34151824866601516, null, 0.14655785912696317, 0.140000705609587, null, -0.5552591538713274, -0.2170493698790715, null, -0.5552591538713274, -0.3663739317392188, null, 0.5009629625044613, 0.37317876322718996, null, 0.5009629625044613, 0.8150129295127946, null, 0.5009629625044613, 0.14655785912696317, null, -0.04629562426337241, -0.34151824866601516, null, 0.26731967521631816, 0.5992165561850372, null, 0.26731967521631816, -0.04629562426337241, null, 0.26731967521631816, 0.140000705609587, null, -0.6360835290589955, -0.34151824866601516, null, -0.31271865666092513, -0.2170493698790715, null], \"y\": [-0.036391792190055415, -0.12591447467551134, null, -0.036391792190055415, -0.35928408964758773, null, 0.6323797073066285, 0.43205325471692063, null, -0.12591447467551134, 0.1570097238518574, null, -0.12591447467551134, -0.07985997552964742, null, -0.12591447467551134, -0.4227971363846996, null, -0.12591447467551134, -0.01107330130923983, null, -0.07985997552964742, 0.36131145514661706, null, -0.07985997552964742, -0.4227971363846996, null, 0.43205325471692063, -0.01107330130923983, null, 0.36131145514661706, 0.6323797073066285, null, 0.36131145514661706, 0.1570097238518574, null, 0.35519424382809883, -0.036391792190055415, null, 0.35519424382809883, 0.5618247989012027, null, 0.35519424382809883, 0.43205325471692063, null, -0.6902564423692736, -0.4227971363846996, null, -0.45797662147757473, -0.35928408964758773, null, -0.45797662147757473, -0.6902564423692736, null, -0.45797662147757473, -0.01107330130923983, null, -0.6706975650360593, -0.4227971363846996, null, 1.0, 0.6323797073066285, null], \"line\": {\"width\": 1, \"color\": \"rgb(25,25,25)\"}, \"hoverinfo\": \"none\"}], {\"title\": \"MyGraph\", \"font\": {\"family\": \"Balto\"}, \"width\": 600, \"height\": 600, \"autosize\": false, \"showlegend\": false, \"xaxis\": {\"showline\": false, \"zeroline\": false, \"showgrid\": false, \"showticklabels\": false, \"title\": \"\"}, \"yaxis\": {\"showline\": false, \"zeroline\": false, \"showgrid\": false, \"showticklabels\": false, \"title\": \"\"}, \"margin\": {\"l\": 40, \"r\": 40, \"b\": 85, \"t\": 100, \"pad\": 0}, \"hovermode\": \"closest\", \"plot_bgcolor\": \"#efecea\", \"annotations\": [{\"text\": \"RUSSIA(1)\", \"x\": 0.37317876322718996, \"y\": 0.03860820780994458, \"xref\": \"x1\", \"yref\": \"y1\", \"font\": {\"color\": \"rgb(10,10,10)\", \"size\": 14}, \"showarrow\": false}, {\"text\": \"CITMOS(0.08)\", \"x\": -0.2170493698790715, \"y\": 0.7073797073066285, \"xref\": \"x1\", \"yref\": \"y1\", \"font\": {\"color\": \"rgb(10,10,10)\", \"size\": 14}, \"showarrow\": false}, {\"text\": \"GAZPRU(0.44)\", \"x\": -0.11195114709460328, \"y\": -0.05091447467551134, \"xref\": \"x1\", \"yref\": \"y1\", \"font\": {\"color\": \"rgb(10,10,10)\", \"size\": 14}, \"showarrow\": false}, {\"text\": \"SBERBANK(0.42)\", \"x\": 0.5992165561850372, \"y\": -0.2842840896475877, \"xref\": \"x1\", \"yref\": \"y1\", \"font\": {\"color\": \"rgb(10,10,10)\", \"size\": 14}, \"showarrow\": false}, {\"text\": \"LUKOIL(0.28)\", \"x\": -0.3663739317392188, \"y\": 0.23200972385185742, \"xref\": \"x1\", \"yref\": \"y1\", \"font\": {\"color\": \"rgb(10,10,10)\", \"size\": 14}, \"showarrow\": false}, {\"text\": \"ROSNEF(0.26)\", \"x\": 0.8150129295127946, \"y\": 0.6368247989012027, \"xref\": \"x1\", \"yref\": \"y1\", \"font\": {\"color\": \"rgb(10,10,10)\", \"size\": 14}, \"showarrow\": false}, {\"text\": \"RUSAGB(0.23)\", \"x\": -0.48995388228382275, \"y\": -0.004859975529647426, \"xref\": \"x1\", \"yref\": \"y1\", \"font\": {\"color\": \"rgb(10,10,10)\", \"size\": 14}, \"showarrow\": false}, {\"text\": \"BKECON(0.19)\", \"x\": 0.14655785912696317, \"y\": 0.5070532547169206, \"xref\": \"x1\", \"yref\": \"y1\", \"font\": {\"color\": \"rgb(10,10,10)\", \"size\": 14}, \"showarrow\": false}, {\"text\": \"RUSRAI(0.18)\", \"x\": -0.5552591538713274, \"y\": 0.43631145514661707, \"xref\": \"x1\", \"yref\": \"y1\", \"font\": {\"color\": \"rgb(10,10,10)\", \"size\": 14}, \"showarrow\": false}, {\"text\": \"AKT(0.66)\", \"x\": 0.5009629625044613, \"y\": 0.43019424382809884, \"xref\": \"x1\", \"yref\": \"y1\", \"font\": {\"color\": \"rgb(10,10,10)\", \"size\": 14}, \"showarrow\": false}, {\"text\": \"VTB(0.17)\", \"x\": -0.34151824866601516, \"y\": -0.3477971363846996, \"xref\": \"x1\", \"yref\": \"y1\", \"font\": {\"color\": \"rgb(10,10,10)\", \"size\": 14}, \"showarrow\": false}, {\"text\": \"GAZPRU.Gneft(0.17)\", \"x\": -0.04629562426337241, \"y\": -0.6152564423692737, \"xref\": \"x1\", \"yref\": \"y1\", \"font\": {\"color\": \"rgb(10,10,10)\", \"size\": 14}, \"showarrow\": false}, {\"text\": \"MBT(0.13)\", \"x\": 0.140000705609587, \"y\": 0.06392669869076016, \"xref\": \"x1\", \"yref\": \"y1\", \"font\": {\"color\": \"rgb(10,10,10)\", \"size\": 14}, \"showarrow\": false}, {\"text\": \"ALROSA(0.12)\", \"x\": 0.26731967521631816, \"y\": -0.3829766214775747, \"xref\": \"x1\", \"yref\": \"y1\", \"font\": {\"color\": \"rgb(10,10,10)\", \"size\": 14}, \"showarrow\": false}, {\"text\": \"VIP(0.11)\", \"x\": 0.06055274906211933, \"y\": -0.268479018691831, \"xref\": \"x1\", \"yref\": \"y1\", \"font\": {\"color\": \"rgb(10,10,10)\", \"size\": 14}, \"showarrow\": false}, {\"text\": \"EVRGSA(0.08)\", \"x\": 0.1744013430728814, \"y\": -0.2270427664398455, \"xref\": \"x1\", \"yref\": \"y1\", \"font\": {\"color\": \"rgb(10,10,10)\", \"size\": 14}, \"showarrow\": false}, {\"text\": \"MDMOJC(0.11)\", \"x\": -0.6360835290589955, \"y\": -0.5956975650360593, \"xref\": \"x1\", \"yref\": \"y1\", \"font\": {\"color\": \"rgb(10,10,10)\", \"size\": 14}, \"showarrow\": false}, {\"text\": \"BOM(0.09)\", \"x\": -0.31271865666092513, \"y\": 1.075, \"xref\": \"x1\", \"yref\": \"y1\", \"font\": {\"color\": \"rgb(10,10,10)\", \"size\": 14}, \"showarrow\": false}]}, {\"showLink\": true, \"linkText\": \"Export to plot.ly\"})});</script>"
      ]
     },
     "metadata": {},
     "output_type": "display_data"
    }
   ],
   "source": [
    "dic = {'RUSSIA':1, 'CITMOS': 0.08386627, 'GAZPRU': 0.4433951, 'SBERBANK': 0.4200649, 'LUKOIL': 0.2816123,\n",
    "       'ROSNEF': 0.2684154, 'RUSAGB': 0.2307972, 'BKECON': 0.1967476, 'RUSRAI': 0.1816893,'AKT': 0.6698038,\n",
    "       'VTB': 0.1766468, 'GAZPRU.Gneft': 0.1745053, 'MBT': 0.1320516, 'ALROSA': 0.1200967,\n",
    "       'VIP': 0.1145055, 'EVRGSA': 0.08007537, 'MDMOJC': 0.1144015, 'BOM': 0.09896318}\n",
    "rank = list(dic.values())\n",
    "entities_list = list(dic.keys())\n",
    "edge_list = [['AKT','BKECON'],['AKT','ROSNEF'],['AKT','RUSSIA'],['ALROSA','GAZPRU.Gneft'],['ALROSA','MBT'],\n",
    "             ['ALROSA','SBERBANK'],['BKECON','MBT'],['BOM','CITMOS'],['CITMOS','BKECON'],['GAZPRU','LUKOIL'],\n",
    "             ['GAZPRU','MBT'],['GAZPRU','RUSAGB'],['GAZPRU','VTB'],['GAZPRU.Gneft','VTB'],['MDMOJC','VTB'],\n",
    "             ['RUSAGB','RUSRAI'],['RUSAGB','VTB'],['RUSRAI','CITMOS'],['RUSRAI','LUKOIL'],['RUSSIA','GAZPRU'],\n",
    "             ['RUSSIA','SBERBANK']]\n",
    "\n",
    "draw_stressed_network_change(entities_list, rank, edge_list)"
   ]
  },
  {
   "cell_type": "code",
   "execution_count": 170,
   "metadata": {},
   "outputs": [],
   "source": [
    "def make_annotations(pos, anno_text, font_size=14, font_color='rgb(10,10,10)'):\n",
    "    L=len(pos)\n",
    "    if len(anno_text)!=L:\n",
    "        raise ValueError('The lists pos and text must have the same len')\n",
    "    annotations = []\n",
    "    for k in range(L):\n",
    "        annotations.append(dict(text=anno_text[k], \n",
    "                                x=pos[k][0], \n",
    "                                y=pos[k][1]+0.075,#this additional value is chosen by trial and error\n",
    "                                xref='x1', yref='y1',\n",
    "                                font=dict(color= font_color, size=font_size),\n",
    "                                showarrow=False)\n",
    "                          )\n",
    "    return annotations\n",
    "\n",
    "def draw_stressed_network_change(entities_list, rank, edge_list):\n",
    "    ''' Draw a network where\n",
    "        node size according to centrality\n",
    "        node color according to probability of default\n",
    "        \n",
    "        Arguments:\n",
    "        entities_list: list of strings\n",
    "        rank: list of floats\n",
    "        edge_list: list of tuples or lists\n",
    "    '''\n",
    "    size = np.size(entities_list)\n",
    "    mst = pd.DataFrame(np.zeros((size,size)),index = entities_list,\n",
    "                                            columns = entities_list)\n",
    "    # Get adjacency matrix\n",
    "    for e in edge_list:\n",
    "        mst.loc[e[0],e[1]] = 1\n",
    "    \n",
    "    # Get colors and list of nodes\n",
    "    reds = plt.get_cmap('Reds')\n",
    "    nodes_list = []\n",
    "    red_array = []\n",
    "    for i in range(len(entities_list)):\n",
    "        if rank[i] == 1:\n",
    "            red_array.append(reds(0.99))\n",
    "        else:\n",
    "            red_array.append(reds(rank[i]))\n",
    "\n",
    "        nodes_list.append(entities_list[i] + '(' + str(rank[i])[0:4] + ')')\n",
    "        \n",
    "    label_list = dict(enumerate(nodes_list))\n",
    "    \n",
    "    colors_nodes = ['rgb(' +','.join([str(a * 225) for a in matplotlib.colors.to_rgb(r)]) + ')' for r in red_array]\n",
    "    \n",
    "    G = nx.from_numpy_matrix(np.matrix(mst), create_using = nx.DiGraph())\n",
    "    G_aux = nx.from_numpy_matrix(np.matrix(mst))\n",
    "    \n",
    "    eigen_cen = nx.eigenvector_centrality_numpy(G_aux)\n",
    "    centrality = list(eigen_cen.values())\n",
    "    \n",
    "    pos = nx.kamada_kawai_layout(G_aux)\n",
    "    \n",
    "    Xn=[pos[k][0] for k in range(len(pos))]\n",
    "    Yn=[pos[k][1] for k in range(len(pos))]\n",
    "    # Define Plotly trace for nodes, here we can change color size, etc\n",
    "    \n",
    "    trace_nodes = dict(type = 'scatter',\n",
    "                        x = Xn,\n",
    "                        y = Yn,\n",
    "                        mode = 'markers',\n",
    "                        marker = dict(symbol = 'dot', size = 40, color = 'red'),\n",
    "                        text = nodes_list)\n",
    "    \n",
    "    Xe=[]\n",
    "    Ye=[]\n",
    "    for e in G.edges():\n",
    "        Xe.extend([pos[e[0]][0], pos[e[1]][0], None])\n",
    "        Ye.extend([pos[e[0]][1], pos[e[1]][1], None])\n",
    "\n",
    "    trace_edges=dict(type='scatter',\n",
    "                     mode='lines',\n",
    "                     x=Xe,\n",
    "                     y=Ye,\n",
    "                     line=dict(width=1, color='rgb(25,25,25)'),\n",
    "                     hoverinfo='none' \n",
    "                    )\n",
    "    axis = dict(showline = False,\n",
    "                zeroline = False,\n",
    "                showgrid = False,\n",
    "                showticklabels = False,\n",
    "                title = ''\n",
    "                )\n",
    "    layout = dict(title = 'MyGraph',\n",
    "                font = dict(family = 'Balto'),\n",
    "                width=600,\n",
    "                height=600,\n",
    "                autosize=False,\n",
    "                showlegend=False,\n",
    "                xaxis=axis,\n",
    "                yaxis=axis,\n",
    "                margin=dict(\n",
    "                            l=40,\n",
    "                            r=40,\n",
    "                            b=85,\n",
    "                            t=100,\n",
    "                            pad=0,\n",
    "                            ),\n",
    "                hovermode='closest',\n",
    "                plot_bgcolor='#efecea', #set background color            \n",
    "                )\n",
    "    data = [trace_nodes,trace_edges] \n",
    "    fig = dict(data=data, layout=layout)\n",
    "    \n",
    "    fig['layout'].update(annotations=make_annotations(pos, nodes_list))\n",
    "    \n",
    "    iplot(fig)\n"
   ]
  },
  {
   "cell_type": "code",
   "execution_count": 163,
   "metadata": {},
   "outputs": [],
   "source": [
    "G = nx.DiGraph()\n",
    "G.add_nodes_from(entities_list)\n",
    "G.add_edges_from(edge_list)\n"
   ]
  },
  {
   "cell_type": "code",
   "execution_count": 164,
   "metadata": {},
   "outputs": [
    {
     "data": {
      "text/plain": [
       "NodeView(('RUSSIA', 'CITMOS', 'GAZPRU', 'SBERBANK', 'LUKOIL', 'ROSNEF', 'RUSAGB', 'BKECON', 'RUSRAI', 'AKT', 'VTB', 'GAZPRU.Gneft', 'MBT', 'ALROSA', 'VIP', 'EVRGSA', 'MDMOJC', 'BOM'))"
      ]
     },
     "execution_count": 164,
     "metadata": {},
     "output_type": "execute_result"
    }
   ],
   "source": [
    "G.nodes()"
   ]
  },
  {
   "cell_type": "code",
   "execution_count": 141,
   "metadata": {},
   "outputs": [],
   "source": [
    "pos = nx.kamada_kawai_layout(G)"
   ]
  },
  {
   "cell_type": "code",
   "execution_count": 139,
   "metadata": {},
   "outputs": [],
   "source": [
    "H = nx.random_geometric_graph(15,0.125)\n",
    "pos = nx.get_node_attributes(H,'pos')"
   ]
  },
  {
   "cell_type": "code",
   "execution_count": 169,
   "metadata": {
    "scrolled": true
   },
   "outputs": [
    {
     "name": "stdout",
     "output_type": "stream",
     "text": [
      "[ 0.30667055 -0.65238482]\n",
      "[-0.44531504  0.64069293]\n",
      "[ 0.4355828  -0.06729659]\n",
      "[ 0.50403599 -0.19269783]\n",
      "[-0.01086032  0.29451754]\n",
      "[-0.38491876 -0.20926913]\n",
      "[0.65481367 0.4847559 ]\n",
      "[-0.59445264 -0.01683212]\n",
      "[0.1295201  0.79629227]\n",
      "[-0.34289153 -0.71061698]\n",
      "[0.18672071 0.39736935]\n",
      "[ 0.02952994 -0.08051374]\n",
      "[-0.11084477 -0.13324547]\n",
      "[ 0.15861771 -0.56670952]\n",
      "[ 0.08739975 -0.4964511 ]\n",
      "[ 0.2521589  -0.43647074]\n",
      "[-0.04146057 -0.05113995]\n",
      "[-0.81430651  1.        ]\n"
     ]
    }
   ],
   "source": [
    "for edge in G.edges:\n",
    "    print(pos[n])"
   ]
  },
  {
   "cell_type": "code",
   "execution_count": 1,
   "metadata": {},
   "outputs": [],
   "source": [
    "def make_annotations(pos, anno_text, font_size=14, font_color='rgb(10,10,10)'):\n",
    "    L=len(pos)\n",
    "    if len(anno_text)!=L:\n",
    "        raise ValueError('The lists pos and text must have the same len')\n",
    "    annotations = []\n",
    "    for k in range(L):\n",
    "        annotations.append(dict(text=anno_text[k], \n",
    "                                x=pos[k][0], \n",
    "                                y=pos[k][1]+0.075,#this additional value is chosen by trial and error\n",
    "                                xref='x1', yref='y1',\n",
    "                                font=dict(color= font_color, size=font_size),\n",
    "                                showarrow=False)\n",
    "                          )\n",
    "    return annotations\n",
    "\n",
    "def draw_stressed_network_v3(entities_list, rank, edge_list):\n",
    "    ''' Draw a network where\n",
    "        node size according to centrality\n",
    "        node color according to probability of default\n",
    "        \n",
    "        Arguments:\n",
    "        entities_list: list of strings\n",
    "        rank: list of floats\n",
    "        edge_list: list of tuples or lists\n",
    "    '''\n",
    "    size = np.size(entities_list)\n",
    "    mst = pd.DataFrame(np.zeros((size,size)),index = entities_list,\n",
    "                                            columns = entities_list)\n",
    "    # Create Graph\n",
    "    G = nx.DiGraph()\n",
    "    G.add_nodes_from(entities_list)\n",
    "    G.add_edges_from(edge_list)\n",
    "    pos = nx.kamada_kawai_layout(G)\n",
    "    \n",
    "    edge_trace = Scatter(\n",
    "        x = [],\n",
    "        y = [],\n",
    "        line = Line(width=0.5,color='#888'),\n",
    "        hoverinfo='none',\n",
    "        mode='lines')\n",
    "    \n",
    "    Xe=[]\n",
    "    Ye=[]\n",
    "    for e in G.edges():\n",
    "        x0, y0 = pos[e]\n",
    "        Xe.extend([pos[e[0]][0], pos[e[1]][0], None])\n",
    "        Ye.extend([pos[e[0]][1], pos[e[1]][1], None])\n",
    "    \n",
    "    for edge in G.edges():\n",
    "        x0, y0 = G.node[edge[0]]['pos']\n",
    "    \n",
    "    \n",
    "    # Get adjacency matrix\n",
    "    for e in edge_list:\n",
    "        mst.loc[e[0],e[1]] = 1\n",
    "    \n",
    "    # Get colors and list of nodes\n",
    "    reds = plt.get_cmap('Reds')\n",
    "    nodes_list = []\n",
    "    red_array = []\n",
    "    for i in range(len(entities_list)):\n",
    "        if rank[i] == 1:\n",
    "            red_array.append(reds(0.99))\n",
    "        else:\n",
    "            red_array.append(reds(rank[i]))\n",
    "\n",
    "        nodes_list.append(entities_list[i] + '(' + str(rank[i])[0:4] + ')')\n",
    "        \n",
    "    label_list = dict(enumerate(nodes_list))\n",
    "    \n",
    "    colors_nodes = ['rgb(' +','.join([str(a * 225) for a in matplotlib.colors.to_rgb(r)]) + ')' for r in red_array]\n",
    "    \n",
    "    G = nx.from_numpy_matrix(np.matrix(mst), create_using = nx.DiGraph())\n",
    "    G_aux = nx.from_numpy_matrix(np.matrix(mst))\n",
    "    \n",
    "    eigen_cen = nx.eigenvector_centrality_numpy(G_aux)\n",
    "    centrality = list(eigen_cen.values())\n",
    "    \n",
    "    pos = nx.kamada_kawai_layout(G_aux)\n",
    "    \n",
    "    Xn=[pos[k][0] for k in range(len(pos))]\n",
    "    Yn=[pos[k][1] for k in range(len(pos))]\n",
    "    # Define Plotly trace for nodes, here we can change color size, etc\n",
    "    \n",
    "    trace_nodes = dict(type = 'scatter',\n",
    "                        x = Xn,\n",
    "                        y = Yn,\n",
    "                        mode = 'markers',\n",
    "                        marker = dict(symbol = 'dot', size = [v*100 for v in centrality], color = colors_nodes),\n",
    "                        text = nodes_list)\n",
    "    \n",
    "    Xe=[]\n",
    "    Ye=[]\n",
    "    for e in G.edges():\n",
    "        Xe.extend([pos[e[0]][0], pos[e[1]][0], None])\n",
    "        Ye.extend([pos[e[0]][1], pos[e[1]][1], None])\n",
    "\n",
    "    trace_edges=dict(type='scatter',\n",
    "                     mode='lines',\n",
    "                     x=Xe,\n",
    "                     y=Ye,\n",
    "                     line=dict(width=1, color='rgb(25,25,25)'),\n",
    "                     hoverinfo='none' \n",
    "                    )\n",
    "    axis = dict(showline = False,\n",
    "                zeroline = False,\n",
    "                showgrid = False,\n",
    "                showticklabels = False,\n",
    "                title = ''\n",
    "                )\n",
    "    layout = dict(title = 'MyGraph',\n",
    "                font = dict(family = 'Balto'),\n",
    "                width=600,\n",
    "                height=600,\n",
    "                autosize=False,\n",
    "                showlegend=False,\n",
    "                xaxis=axis,\n",
    "                yaxis=axis,\n",
    "                margin=dict(\n",
    "                            l=40,\n",
    "                            r=40,\n",
    "                            b=85,\n",
    "                            t=100,\n",
    "                            pad=0,\n",
    "                            ),\n",
    "                hovermode='closest',\n",
    "                plot_bgcolor='#efecea', #set background color            \n",
    "                )\n",
    "    data = [trace_nodes,trace_edges] \n",
    "    fig = dict(data=data, layout=layout)\n",
    "    \n",
    "    fig['layout'].update(annotations=make_annotations(pos, nodes_list))\n",
    "    \n",
    "    iplot(fig)\n"
   ]
  },
  {
   "cell_type": "code",
   "execution_count": 2,
   "metadata": {},
   "outputs": [
    {
     "ename": "NameError",
     "evalue": "name 'plt' is not defined",
     "output_type": "error",
     "traceback": [
      "\u001b[1;31m---------------------------------------------------------------------------\u001b[0m",
      "\u001b[1;31mNameError\u001b[0m                                 Traceback (most recent call last)",
      "\u001b[1;32m<ipython-input-2-dc131cc3a84e>\u001b[0m in \u001b[0;36m<module>\u001b[1;34m()\u001b[0m\n\u001b[0;32m      1\u001b[0m \u001b[0mred_array\u001b[0m \u001b[1;33m=\u001b[0m \u001b[1;33m[\u001b[0m\u001b[1;33m]\u001b[0m\u001b[1;33m\u001b[0m\u001b[0m\n\u001b[1;32m----> 2\u001b[1;33m \u001b[0mreds\u001b[0m \u001b[1;33m=\u001b[0m \u001b[0mplt\u001b[0m\u001b[1;33m.\u001b[0m\u001b[0mget_cmap\u001b[0m\u001b[1;33m(\u001b[0m\u001b[1;34m'Reds'\u001b[0m\u001b[1;33m)\u001b[0m\u001b[1;33m\u001b[0m\u001b[0m\n\u001b[0m\u001b[0;32m      3\u001b[0m \u001b[1;32mfor\u001b[0m \u001b[0mi\u001b[0m \u001b[1;32min\u001b[0m \u001b[0mrange\u001b[0m\u001b[1;33m(\u001b[0m\u001b[0mlen\u001b[0m\u001b[1;33m(\u001b[0m\u001b[0mentities_list\u001b[0m\u001b[1;33m)\u001b[0m\u001b[1;33m)\u001b[0m\u001b[1;33m:\u001b[0m\u001b[1;33m\u001b[0m\u001b[0m\n\u001b[0;32m      4\u001b[0m     \u001b[1;32mif\u001b[0m \u001b[0mrank\u001b[0m\u001b[1;33m[\u001b[0m\u001b[0mi\u001b[0m\u001b[1;33m]\u001b[0m \u001b[1;33m==\u001b[0m \u001b[1;36m1\u001b[0m\u001b[1;33m:\u001b[0m\u001b[1;33m\u001b[0m\u001b[0m\n\u001b[0;32m      5\u001b[0m         \u001b[0mred_array\u001b[0m\u001b[1;33m.\u001b[0m\u001b[0mappend\u001b[0m\u001b[1;33m(\u001b[0m\u001b[0mreds\u001b[0m\u001b[1;33m(\u001b[0m\u001b[1;36m0.99\u001b[0m\u001b[1;33m)\u001b[0m\u001b[1;33m)\u001b[0m\u001b[1;33m\u001b[0m\u001b[0m\n",
      "\u001b[1;31mNameError\u001b[0m: name 'plt' is not defined"
     ]
    }
   ],
   "source": [
    "red_array = []\n",
    "reds = plt.get_cmap('Reds')\n",
    "for i in range(len(entities_list)):\n",
    "    if rank[i] == 1:\n",
    "        red_array.append(reds(0.99))\n",
    "    else:\n",
    "        red_array.append(reds(rank[i]))"
   ]
  },
  {
   "cell_type": "code",
   "execution_count": 68,
   "metadata": {},
   "outputs": [
    {
     "data": {
      "text/plain": [
       "['RUSSIA',\n",
       " 'CITMOS',\n",
       " 'GAZPRU',\n",
       " 'SBERBANK',\n",
       " 'LUKOIL',\n",
       " 'ROSNEF',\n",
       " 'RUSAGB',\n",
       " 'BKECON',\n",
       " 'RUSRAI',\n",
       " 'AKT',\n",
       " 'VTB',\n",
       " 'GAZPRU.Gneft',\n",
       " 'MBT',\n",
       " 'ALROSA',\n",
       " 'VIP',\n",
       " 'MDMOJC',\n",
       " 'BOM',\n",
       " 'EVRGSA']"
      ]
     },
     "execution_count": 68,
     "metadata": {},
     "output_type": "execute_result"
    }
   ],
   "source": [
    "entities_list"
   ]
  },
  {
   "cell_type": "code",
   "execution_count": 50,
   "metadata": {},
   "outputs": [
    {
     "data": {
      "text/plain": [
       "[(0.4191772395232603, 0.0036908881199538626, 0.05294886582083813, 1.0),\n",
       " (0.9974163783160324, 0.9065282583621684, 0.8636678200692041, 1.0),\n",
       " (0.9860976547481738, 0.48704344482891193, 0.3615532487504806, 1.0),\n",
       " (0.9868358323721645, 0.5165705497885429, 0.3910803537101115, 1.0),\n",
       " (0.9882352941176471, 0.6917185697808534, 0.5836678200692041, 1.0),\n",
       " (0.9882352941176471, 0.7118954248366013, 0.606797385620915, 1.0),\n",
       " (0.9894040753556325, 0.754955786236063, 0.6600076893502499, 1.0),\n",
       " (0.9916186082276048, 0.795924644367551, 0.7142637447135717, 1.0),\n",
       " (0.9926028450595925, 0.8141330257593233, 0.7383775470972702, 1.0),\n",
       " (0.8857670126874279, 0.18131487889273357, 0.1510957324106113, 1.0),\n",
       " (0.9928489042675894, 0.8186851211072664, 0.7444059976931949, 1.0),\n",
       " (0.9930949634755863, 0.8232372164552095, 0.7504344482891195, 1.0),\n",
       " (0.9958016147635524, 0.8733102652825836, 0.8167474048442906, 1.0),\n",
       " (0.9963091118800461, 0.883275663206459, 0.8304498269896193, 1.0),\n",
       " (0.9964321414840446, 0.8858592848904268, 0.8341407151095732, 1.0),\n",
       " (0.9964321414840446, 0.8858592848904268, 0.8341407151095732, 1.0),\n",
       " (0.9969242599000384, 0.8961937716262975, 0.8489042675893886, 1.0),\n",
       " (0.9975394079200308, 0.9091118800461361, 0.867358708189158, 1.0)]"
      ]
     },
     "execution_count": 50,
     "metadata": {},
     "output_type": "execute_result"
    }
   ],
   "source": [
    "red_array"
   ]
  },
  {
   "cell_type": "code",
   "execution_count": 111,
   "metadata": {},
   "outputs": [
    {
     "data": {
      "application/vnd.plotly.v1+json": {
       "data": [
        {
         "line": {
          "color": "red",
          "width": 2
         },
         "mode": "lines",
         "type": "scatter",
         "x": [
          2,
          0.85
         ],
         "y": [
          3.5,
          0.5
         ]
        },
        {
         "line": {
          "color": "green",
          "width": 2
         },
         "mode": "lines",
         "type": "scatter",
         "x": [
          0.85,
          1.2
         ],
         "y": [
          0.5,
          2.6
         ]
        },
        {
         "line": {
          "color": "magenta",
          "width": 2
         },
         "mode": "lines",
         "type": "scatter",
         "x": [
          1.2,
          0.3
         ],
         "y": [
          2.6,
          0.7
         ]
        },
        {
         "marker": {
          "color": [
           "rgb(94.31487889273357, 0.8304498269896191, 11.91349480968858)",
           "rgb(224.41868512110727, 203.9688581314879, 194.3252595155709)",
           "rgb(221.8719723183391, 109.58477508650519, 81.34948096885815)",
           "rgb(215.3,125.4,220.453452)"
          ],
          "size": 40
         },
         "mode": "markers",
         "type": "scatter",
         "x": [
          0.3,
          1.2,
          2,
          0.85
         ],
         "y": [
          0.7,
          2.6,
          3.5,
          0.5
         ]
        }
       ],
       "layout": {
        "autosize": false,
        "font": {
         "family": "Balto"
        },
        "height": 600,
        "hovermode": "closest",
        "margin": {
         "b": 85,
         "l": 40,
         "pad": 0,
         "r": 40,
         "t": 100
        },
        "plot_bgcolor": "#efecea",
        "showlegend": false,
        "title": "MyGraph",
        "width": 600,
        "xaxis": {
         "showgrid": false,
         "showline": false,
         "showticklabels": false,
         "title": "",
         "zeroline": false
        },
        "yaxis": {
         "showgrid": false,
         "showline": false,
         "showticklabels": false,
         "title": "",
         "zeroline": false
        }
       }
      },
      "text/html": [
       "<div id=\"95042882-4b2f-41a2-a6d9-118a99d4151f\" style=\"height: 600px; width: 600px;\" class=\"plotly-graph-div\"></div><script type=\"text/javascript\">require([\"plotly\"], function(Plotly) { window.PLOTLYENV=window.PLOTLYENV || {};window.PLOTLYENV.BASE_URL=\"https://plot.ly\";Plotly.newPlot(\"95042882-4b2f-41a2-a6d9-118a99d4151f\", [{\"type\": \"scatter\", \"x\": [2.0, 0.85], \"y\": [3.5, 0.5], \"mode\": \"lines\", \"line\": {\"width\": 2, \"color\": \"red\"}}, {\"type\": \"scatter\", \"x\": [0.85, 1.2], \"y\": [0.5, 2.6], \"mode\": \"lines\", \"line\": {\"width\": 2, \"color\": \"green\"}}, {\"type\": \"scatter\", \"x\": [1.2, 0.3], \"y\": [2.6, 0.7], \"mode\": \"lines\", \"line\": {\"width\": 2, \"color\": \"magenta\"}}, {\"type\": \"scatter\", \"x\": [0.3, 1.2, 2.0, 0.85], \"y\": [0.7, 2.6, 3.5, 0.5], \"mode\": \"markers\", \"marker\": {\"size\": 40, \"color\": [\"rgb(94.31487889273357, 0.8304498269896191, 11.91349480968858)\", \"rgb(224.41868512110727, 203.9688581314879, 194.3252595155709)\", \"rgb(221.8719723183391, 109.58477508650519, 81.34948096885815)\", \"rgb(215.3,125.4,220.453452)\"]}}], {\"title\": \"MyGraph\", \"font\": {\"family\": \"Balto\"}, \"width\": 600, \"height\": 600, \"autosize\": false, \"showlegend\": false, \"xaxis\": {\"showline\": false, \"zeroline\": false, \"showgrid\": false, \"showticklabels\": false, \"title\": \"\"}, \"yaxis\": {\"showline\": false, \"zeroline\": false, \"showgrid\": false, \"showticklabels\": false, \"title\": \"\"}, \"margin\": {\"l\": 40, \"r\": 40, \"b\": 85, \"t\": 100, \"pad\": 0}, \"hovermode\": \"closest\", \"plot_bgcolor\": \"#efecea\"}, {\"showLink\": true, \"linkText\": \"Export to plot.ly\"})});</script>"
      ],
      "text/vnd.plotly.v1+html": [
       "<div id=\"95042882-4b2f-41a2-a6d9-118a99d4151f\" style=\"height: 600px; width: 600px;\" class=\"plotly-graph-div\"></div><script type=\"text/javascript\">require([\"plotly\"], function(Plotly) { window.PLOTLYENV=window.PLOTLYENV || {};window.PLOTLYENV.BASE_URL=\"https://plot.ly\";Plotly.newPlot(\"95042882-4b2f-41a2-a6d9-118a99d4151f\", [{\"type\": \"scatter\", \"x\": [2.0, 0.85], \"y\": [3.5, 0.5], \"mode\": \"lines\", \"line\": {\"width\": 2, \"color\": \"red\"}}, {\"type\": \"scatter\", \"x\": [0.85, 1.2], \"y\": [0.5, 2.6], \"mode\": \"lines\", \"line\": {\"width\": 2, \"color\": \"green\"}}, {\"type\": \"scatter\", \"x\": [1.2, 0.3], \"y\": [2.6, 0.7], \"mode\": \"lines\", \"line\": {\"width\": 2, \"color\": \"magenta\"}}, {\"type\": \"scatter\", \"x\": [0.3, 1.2, 2.0, 0.85], \"y\": [0.7, 2.6, 3.5, 0.5], \"mode\": \"markers\", \"marker\": {\"size\": 40, \"color\": [\"rgb(94.31487889273357, 0.8304498269896191, 11.91349480968858)\", \"rgb(224.41868512110727, 203.9688581314879, 194.3252595155709)\", \"rgb(221.8719723183391, 109.58477508650519, 81.34948096885815)\", \"rgb(215.3,125.4,220.453452)\"]}}], {\"title\": \"MyGraph\", \"font\": {\"family\": \"Balto\"}, \"width\": 600, \"height\": 600, \"autosize\": false, \"showlegend\": false, \"xaxis\": {\"showline\": false, \"zeroline\": false, \"showgrid\": false, \"showticklabels\": false, \"title\": \"\"}, \"yaxis\": {\"showline\": false, \"zeroline\": false, \"showgrid\": false, \"showticklabels\": false, \"title\": \"\"}, \"margin\": {\"l\": 40, \"r\": 40, \"b\": 85, \"t\": 100, \"pad\": 0}, \"hovermode\": \"closest\", \"plot_bgcolor\": \"#efecea\"}, {\"showLink\": true, \"linkText\": \"Export to plot.ly\"})});</script>"
      ]
     },
     "metadata": {},
     "output_type": "display_data"
    }
   ],
   "source": [
    "edges=np.array([(2,3), (3, 1), (1, 0)], dtype=np.uint8)\n",
    "nodes_loc=np.array([[0.3, 0.7], [1.2, 2.6], [2, 3.5], [0.85, 0.5]])\n",
    "colors_nodes = ['red', 'green', 'magenta','blue']\n",
    "colors_nodes = ['rgb(94.31487889273357, 0.8304498269896191, 11.91349480968858)',\n",
    "                'rgb(224.41868512110727, 203.9688581314879, 194.3252595155709)',\n",
    "                'rgb(221.8719723183391, 109.58477508650519, 81.34948096885815)','rgb(215.3,125.4,220.453452)']\n",
    "\n",
    "colors=['red', 'green', 'magenta']\n",
    "nodes=dict(type='scatter',\n",
    "           x=nodes_loc[:,0],\n",
    "           y=nodes_loc[:,1],\n",
    "           mode='markers',\n",
    "           marker=dict(size=40, color=colors_nodes))\n",
    "\n",
    "edges_list=[ dict(type='scatter',\n",
    "             x=[nodes_loc[e[0]][0], nodes_loc[e[1]][0]],\n",
    "             y=[nodes_loc[e[0]][1], nodes_loc[e[1]][1]],\n",
    "              mode='lines',\n",
    "              line=dict(width=2, color=colors[k]))  for k, e in enumerate(edges)]\n",
    "axis = dict(showline = False,\n",
    "            zeroline = False,\n",
    "            showgrid = False,\n",
    "            showticklabels = False,\n",
    "            title = ''\n",
    "            )\n",
    "layout = dict(title = 'MyGraph',\n",
    "            font = dict(family = 'Balto'),\n",
    "            width=600,\n",
    "            height=600,\n",
    "            autosize=False,\n",
    "            showlegend=False,\n",
    "            xaxis=axis,\n",
    "            yaxis=axis,\n",
    "            margin=dict(\n",
    "                        l=40,\n",
    "                        r=40,\n",
    "                        b=85,\n",
    "                        t=100,\n",
    "                        pad=0,\n",
    "                        ),\n",
    "            hovermode='closest',\n",
    "            plot_bgcolor='#efecea', #set background color            \n",
    "            )\n",
    "data=edges_list+[nodes]\n",
    "fig=dict(data=data, layout=layout)\n",
    "iplot(fig)"
   ]
  },
  {
   "cell_type": "code",
   "execution_count": 184,
   "metadata": {},
   "outputs": [],
   "source": [
    "dic = {'RUSSIA':1, 'CITMOS': 0.08386627, 'GAZPRU': 0.4433951, 'SBERBANK': 0.4200649, 'LUKOIL': 0.2816123,\n",
    "       'ROSNEF': 0.2684154, 'RUSAGB': 0.2307972, 'BKECON': 0.1967476, 'RUSRAI': 0.1816893,'AKT': 0.6698038,\n",
    "       'VTB': 0.1766468, 'GAZPRU.Gneft': 0.1745053, 'MBT': 0.1320516, 'ALROSA': 0.1200967,\n",
    "       'VIP': 0.1145055, 'EVRGSA': 0.08007537, 'MDMOJC': 0.1144015, 'BOM': 0.09896318}\n",
    "\n",
    "rank = list(dic.values())\n",
    "entities_list = list(dic.keys())\n",
    "edge_list = [['AKT','BKECON'],['AKT','ROSNEF'],['AKT','RUSSIA'],['ALROSA','GAZPRU.Gneft'],['ALROSA','MBT'],\n",
    "             ['ALROSA','SBERBANK'],['BKECON','MBT'],['BOM','CITMOS'],['CITMOS','BKECON'],['GAZPRU','LUKOIL'],\n",
    "             ['GAZPRU','MBT'],['GAZPRU','RUSAGB'],['GAZPRU','VTB'],['GAZPRU.Gneft','VTB'],['MDMOJC','VTB'],\n",
    "             ['RUSAGB','RUSRAI'],['RUSAGB','VTB'],['RUSRAI','CITMOS'],['RUSRAI','LUKOIL'],['RUSSIA','GAZPRU'],\n",
    "             ['RUSSIA','SBERBANK']]"
   ]
  },
  {
   "cell_type": "code",
   "execution_count": 187,
   "metadata": {},
   "outputs": [],
   "source": [
    "# BDs precrisis with \n",
    "my_nodes = range(19)\n",
    "G = nx.DiGraph()\n",
    "labels = ['RUSSIA', 'GAZPRU', 'GAZPRU.Gneft', 'SBERBANK', 'ROSNEF', 'RUSRAI', 'ALROSA', 'BOM',\n",
    "          'AKT', 'BKECON', 'CITMOS', 'EVRGSA', 'LUKOIL', 'MBT', 'MDMOJC', 'RSBZAO', 'RUSAGB', 'VIP', 'VTB']\n",
    "G.add_nodes_from(list(dic.keys()))\n",
    "my_edges = [(0,1),(0,3),(1,12),(1,13),(1,16),(1,18),(2,18),(5,10),(5,12),\n",
    "           (6,3),(6,2),(6,13),(7,10),(8,9),(8,4),(8,0),(9,13),(10,9),\n",
    "           (14,18),(16,5),(16,18)]\n",
    "G.add_edges_from(edge_list)\n",
    "pos = nx.kamada_kawai_layout(G)"
   ]
  },
  {
   "cell_type": "code",
   "execution_count": 177,
   "metadata": {},
   "outputs": [],
   "source": [
    "pos = {}"
   ]
  },
  {
   "cell_type": "code",
   "execution_count": 181,
   "metadata": {},
   "outputs": [
    {
     "data": {
      "text/plain": [
       "{0: array([0.33928957, 0.68794855]),\n",
       " 1: array([0.34337351, 0.15828341]),\n",
       " 2: array([0.32618079, 0.08192598]),\n",
       " 3: array([0.26976444, 0.20976516]),\n",
       " 4: array([0.05217585, 0.51231917]),\n",
       " 5: array([-0.13494169, -0.53078425]),\n",
       " 6: array([-0.08724237, -0.10216269]),\n",
       " 7: array([-1.        , -0.50747304]),\n",
       " 8: array([-0.22001325,  0.87386864]),\n",
       " 9: array([-0.58644454,  0.32958044]),\n",
       " 10: array([-0.60145907, -0.27233858]),\n",
       " 11: array([-0.39890977, -0.21581184]),\n",
       " 12: array([-0.13104321, -0.06081012]),\n",
       " 13: array([-0.13334878,  0.33394655]),\n",
       " 14: array([ 0.36131692, -0.32408438]),\n",
       " 15: array([ 0.11122832, -0.43972074]),\n",
       " 16: array([ 0.38571328, -0.36969258]),\n",
       " 17: array([ 0.35793834, -0.27846424]),\n",
       " 18: array([ 0.74642167, -0.08629545])}"
      ]
     },
     "execution_count": 181,
     "metadata": {},
     "output_type": "execute_result"
    }
   ],
   "source": [
    "pos"
   ]
  },
  {
   "cell_type": "code",
   "execution_count": 188,
   "metadata": {},
   "outputs": [
    {
     "ename": "KeyError",
     "evalue": "0",
     "output_type": "error",
     "traceback": [
      "\u001b[1;31m---------------------------------------------------------------------------\u001b[0m",
      "\u001b[1;31mKeyError\u001b[0m                                  Traceback (most recent call last)",
      "\u001b[1;32m<ipython-input-188-3fd25545da42>\u001b[0m in \u001b[0;36m<module>\u001b[1;34m()\u001b[0m\n\u001b[1;32m----> 1\u001b[1;33m \u001b[0mXn\u001b[0m\u001b[1;33m=\u001b[0m\u001b[1;33m[\u001b[0m\u001b[0mpos\u001b[0m\u001b[1;33m[\u001b[0m\u001b[0mk\u001b[0m\u001b[1;33m]\u001b[0m\u001b[1;33m[\u001b[0m\u001b[1;36m0\u001b[0m\u001b[1;33m]\u001b[0m \u001b[1;32mfor\u001b[0m \u001b[0mk\u001b[0m \u001b[1;32min\u001b[0m \u001b[0mrange\u001b[0m\u001b[1;33m(\u001b[0m\u001b[0mlen\u001b[0m\u001b[1;33m(\u001b[0m\u001b[0mpos\u001b[0m\u001b[1;33m)\u001b[0m\u001b[1;33m)\u001b[0m\u001b[1;33m]\u001b[0m\u001b[1;33m\u001b[0m\u001b[0m\n\u001b[0m\u001b[0;32m      2\u001b[0m \u001b[0mYn\u001b[0m\u001b[1;33m=\u001b[0m\u001b[1;33m[\u001b[0m\u001b[0mpos\u001b[0m\u001b[1;33m[\u001b[0m\u001b[0mk\u001b[0m\u001b[1;33m]\u001b[0m\u001b[1;33m[\u001b[0m\u001b[1;36m1\u001b[0m\u001b[1;33m]\u001b[0m \u001b[1;32mfor\u001b[0m \u001b[0mk\u001b[0m \u001b[1;32min\u001b[0m \u001b[0mrange\u001b[0m\u001b[1;33m(\u001b[0m\u001b[0mlen\u001b[0m\u001b[1;33m(\u001b[0m\u001b[0mpos\u001b[0m\u001b[1;33m)\u001b[0m\u001b[1;33m)\u001b[0m\u001b[1;33m]\u001b[0m\u001b[1;33m\u001b[0m\u001b[0m\n\u001b[0;32m      3\u001b[0m \u001b[1;31m# Define Plotly trace for nodes, here we can change color size, etc\u001b[0m\u001b[1;33m\u001b[0m\u001b[1;33m\u001b[0m\u001b[0m\n\u001b[0;32m      4\u001b[0m \u001b[1;31m# Get colors and list of nodes\u001b[0m\u001b[1;33m\u001b[0m\u001b[1;33m\u001b[0m\u001b[0m\n\u001b[0;32m      5\u001b[0m \u001b[0mreds\u001b[0m \u001b[1;33m=\u001b[0m \u001b[0mplt\u001b[0m\u001b[1;33m.\u001b[0m\u001b[0mget_cmap\u001b[0m\u001b[1;33m(\u001b[0m\u001b[1;34m'Reds'\u001b[0m\u001b[1;33m)\u001b[0m\u001b[1;33m\u001b[0m\u001b[0m\n",
      "\u001b[1;32m<ipython-input-188-3fd25545da42>\u001b[0m in \u001b[0;36m<listcomp>\u001b[1;34m(.0)\u001b[0m\n\u001b[1;32m----> 1\u001b[1;33m \u001b[0mXn\u001b[0m\u001b[1;33m=\u001b[0m\u001b[1;33m[\u001b[0m\u001b[0mpos\u001b[0m\u001b[1;33m[\u001b[0m\u001b[0mk\u001b[0m\u001b[1;33m]\u001b[0m\u001b[1;33m[\u001b[0m\u001b[1;36m0\u001b[0m\u001b[1;33m]\u001b[0m \u001b[1;32mfor\u001b[0m \u001b[0mk\u001b[0m \u001b[1;32min\u001b[0m \u001b[0mrange\u001b[0m\u001b[1;33m(\u001b[0m\u001b[0mlen\u001b[0m\u001b[1;33m(\u001b[0m\u001b[0mpos\u001b[0m\u001b[1;33m)\u001b[0m\u001b[1;33m)\u001b[0m\u001b[1;33m]\u001b[0m\u001b[1;33m\u001b[0m\u001b[0m\n\u001b[0m\u001b[0;32m      2\u001b[0m \u001b[0mYn\u001b[0m\u001b[1;33m=\u001b[0m\u001b[1;33m[\u001b[0m\u001b[0mpos\u001b[0m\u001b[1;33m[\u001b[0m\u001b[0mk\u001b[0m\u001b[1;33m]\u001b[0m\u001b[1;33m[\u001b[0m\u001b[1;36m1\u001b[0m\u001b[1;33m]\u001b[0m \u001b[1;32mfor\u001b[0m \u001b[0mk\u001b[0m \u001b[1;32min\u001b[0m \u001b[0mrange\u001b[0m\u001b[1;33m(\u001b[0m\u001b[0mlen\u001b[0m\u001b[1;33m(\u001b[0m\u001b[0mpos\u001b[0m\u001b[1;33m)\u001b[0m\u001b[1;33m)\u001b[0m\u001b[1;33m]\u001b[0m\u001b[1;33m\u001b[0m\u001b[0m\n\u001b[0;32m      3\u001b[0m \u001b[1;31m# Define Plotly trace for nodes, here we can change color size, etc\u001b[0m\u001b[1;33m\u001b[0m\u001b[1;33m\u001b[0m\u001b[0m\n\u001b[0;32m      4\u001b[0m \u001b[1;31m# Get colors and list of nodes\u001b[0m\u001b[1;33m\u001b[0m\u001b[1;33m\u001b[0m\u001b[0m\n\u001b[0;32m      5\u001b[0m \u001b[0mreds\u001b[0m \u001b[1;33m=\u001b[0m \u001b[0mplt\u001b[0m\u001b[1;33m.\u001b[0m\u001b[0mget_cmap\u001b[0m\u001b[1;33m(\u001b[0m\u001b[1;34m'Reds'\u001b[0m\u001b[1;33m)\u001b[0m\u001b[1;33m\u001b[0m\u001b[0m\n",
      "\u001b[1;31mKeyError\u001b[0m: 0"
     ]
    }
   ],
   "source": [
    "Xn=[pos[k][0] for k in range(len(pos))]\n",
    "Yn=[pos[k][1] for k in range(len(pos))]\n",
    "# Define Plotly trace for nodes, here we can change color size, etc\n",
    "# Get colors and list of nodes\n",
    "reds = plt.get_cmap('Reds')\n",
    "nodes_list = []\n",
    "red_array = []\n",
    "for i in range(len(entities_list)):\n",
    "    if rank[i] == 1:\n",
    "        red_array.append(reds(0.99))\n",
    "    else:\n",
    "        red_array.append(reds(rank[i]))\n",
    "\n",
    "    nodes_list.append(entities_list[i] + '(' + str(rank[i])[0:4] + ')')\n",
    "\n",
    "label_list = dict(enumerate(nodes_list))\n",
    "\n",
    "colors_nodes = ['rgb(' +','.join([str(a * 225) for a in matplotlib.colors.to_rgb(r)]) + ')' for r in red_array]\n",
    "\n",
    "trace_nodes=dict(type='scatter',\n",
    "                 x=Xn, \n",
    "                 y=Yn,\n",
    "                 mode='markers',\n",
    "                 marker=dict(symbol='dot', size=10, color=colors_nodes),\n",
    "                 text=labels,\n",
    "                 hoverinfo='text')\n",
    "Xe=[]\n",
    "Ye=[]\n",
    "for e in G.edges():\n",
    "    Xe.extend([pos[e[0]][0], pos[e[1]][0], None])\n",
    "    Ye.extend([pos[e[0]][1], pos[e[1]][1], None])\n",
    "    \n",
    "trace_edges=dict(type='scatter',\n",
    "                 mode='lines',\n",
    "                 x=Xe,\n",
    "                 y=Ye,\n",
    "                 line=dict(width=1, color='rgb(25,25,25)'),\n",
    "                 hoverinfo='none' \n",
    "                )\n",
    "axis = dict(showline = False,\n",
    "            zeroline = False,\n",
    "            showgrid = False,\n",
    "            showticklabels = False,\n",
    "            title = ''\n",
    "            )\n",
    "layout = dict(title = 'MyGraph',\n",
    "            font = dict(family = 'Balto'),\n",
    "            width=600,\n",
    "            height=600,\n",
    "            autosize=False,\n",
    "            showlegend=False,\n",
    "            xaxis=axis,\n",
    "            yaxis=axis,\n",
    "            margin=dict(\n",
    "                        l=40,\n",
    "                        r=40,\n",
    "                        b=85,\n",
    "                        t=100,\n",
    "                        pad=0,\n",
    "                        ),\n",
    "            hovermode='closest',\n",
    "            plot_bgcolor='#efecea', #set background color            \n",
    "            )\n",
    "fig = dict(data=[trace_edges, trace_nodes], layout=layout)"
   ]
  },
  {
   "cell_type": "code",
   "execution_count": 186,
   "metadata": {
    "scrolled": false
   },
   "outputs": [
    {
     "data": {
      "application/vnd.plotly.v1+json": {
       "data": [
        {
         "hoverinfo": "none",
         "line": {
          "color": "rgb(25,25,25)",
          "width": 1
         },
         "mode": "lines",
         "type": "scatter",
         "x": [
          0.3392895707247388,
          0.3433735073666966,
          null,
          0.3392895707247388,
          0.2697644368963827,
          null,
          0.3433735073666966,
          -0.13104321438002692,
          null,
          0.3433735073666966,
          -0.1333487843548058,
          null,
          0.3433735073666966,
          0.38571328160165785,
          null,
          0.3433735073666966,
          0.7464216704566924,
          null,
          0.32618078918071886,
          0.7464216704566924,
          null,
          -0.13494168869213238,
          -0.601459074961804,
          null,
          -0.13494168869213238,
          -0.13104321438002692,
          null,
          -0.08724236586984277,
          0.2697644368963827,
          null,
          -0.08724236586984277,
          0.32618078918071886,
          null,
          -0.08724236586984277,
          -0.1333487843548058,
          null,
          -1,
          -0.601459074961804,
          null,
          -0.22001325164478458,
          -0.5864445354568214,
          null,
          -0.22001325164478458,
          0.05217584624015198,
          null,
          -0.22001325164478458,
          0.3392895707247388,
          null,
          -0.5864445354568214,
          -0.1333487843548058,
          null,
          -0.601459074961804,
          -0.5864445354568214,
          null,
          0.3613169227864669,
          0.7464216704566924,
          null,
          0.38571328160165785,
          -0.13494168869213238,
          null,
          0.38571328160165785,
          0.7464216704566924,
          null
         ],
         "y": [
          0.6879485519361435,
          0.15828340841553357,
          null,
          0.6879485519361435,
          0.20976515812896332,
          null,
          0.15828340841553357,
          -0.06081011961657442,
          null,
          0.15828340841553357,
          0.3339465500801096,
          null,
          0.15828340841553357,
          -0.36969257667764444,
          null,
          0.15828340841553357,
          -0.08629545437944187,
          null,
          0.08192598051231462,
          -0.08629545437944187,
          null,
          -0.5307842468534678,
          -0.2723385783818875,
          null,
          -0.5307842468534678,
          -0.06081011961657442,
          null,
          -0.10216268937884489,
          0.20976515812896332,
          null,
          -0.10216268937884489,
          0.08192598051231462,
          null,
          -0.10216268937884489,
          0.3339465500801096,
          null,
          -0.5074730363265657,
          -0.2723385783818875,
          null,
          0.873868638007518,
          0.3295804414982039,
          null,
          0.873868638007518,
          0.5123191743758444,
          null,
          0.873868638007518,
          0.6879485519361435,
          null,
          0.3295804414982039,
          0.3339465500801096,
          null,
          -0.2723385783818875,
          0.3295804414982039,
          null,
          -0.32408437846696564,
          -0.08629545437944187,
          null,
          -0.36969257667764444,
          -0.5307842468534678,
          null,
          -0.36969257667764444,
          -0.08629545437944187,
          null
         ]
        },
        {
         "hoverinfo": "text",
         "marker": {
          "color": [
           "rgb(94.31487889273357,0.8304498269896191,11.91349480968858)",
           "rgb(224.41868512110727,203.9688581314879,194.3252595155709)",
           "rgb(221.8719723183391,109.58477508650519,81.34948096885815)",
           "rgb(222.03806228373702,116.22837370242215,87.99307958477509)",
           "rgb(222.3529411764706,155.63667820069202,131.32525951557093)",
           "rgb(222.3529411764706,160.17647058823528,136.52941176470588)",
           "rgb(222.6159169550173,169.86505190311416,148.50173010380624)",
           "rgb(223.1141868512111,179.08304498269896,160.70934256055364)",
           "rgb(223.3356401384083,183.17993079584775,166.1349480968858)",
           "rgb(199.29757785467126,40.79584775086505,33.996539792387544)",
           "rgb(223.39100346020763,184.20415224913495,167.49134948096886)",
           "rgb(223.44636678200692,185.22837370242215,168.8477508650519)",
           "rgb(224.0553633217993,196.4948096885813,183.7681660899654)",
           "rgb(224.16955017301038,198.73702422145328,186.85121107266434)",
           "rgb(224.19723183391002,199.318339100346,187.68166089965396)",
           "rgb(224.44636678200695,204.5501730103806,195.15570934256053)",
           "rgb(224.19723183391002,199.318339100346,187.68166089965396)",
           "rgb(224.30795847750863,201.64359861591694,191.00346020761245)"
          ],
          "size": 10,
          "symbol": "dot"
         },
         "mode": "markers",
         "text": [
          "RUSSIA",
          "GAZPRU",
          "GAZPRU.Gneft",
          "SBERBANK",
          "ROSNEF",
          "RUSRAI",
          "ALROSA",
          "BOM",
          "AKT",
          "BKECON",
          "CITMOS",
          "EVRGSA",
          "LUKOIL",
          "MBT",
          "MDMOJC",
          "RSBZAO",
          "RUSAGB",
          "VIP",
          "VTB"
         ],
         "type": "scatter",
         "x": [
          0.3392895707247388,
          0.3433735073666966,
          0.32618078918071886,
          0.2697644368963827,
          0.05217584624015198,
          -0.13494168869213238,
          -0.08724236586984277,
          -1,
          -0.22001325164478458,
          -0.5864445354568214,
          -0.601459074961804,
          -0.39890976521658067,
          -0.13104321438002692,
          -0.1333487843548058,
          0.3613169227864669,
          0.11122831930958746,
          0.38571328160165785,
          0.35793833601370495,
          0.7464216704566924
         ],
         "y": [
          0.6879485519361435,
          0.15828340841553357,
          0.08192598051231462,
          0.20976515812896332,
          0.5123191743758444,
          -0.5307842468534678,
          -0.10216268937884489,
          -0.5074730363265657,
          0.873868638007518,
          0.3295804414982039,
          -0.2723385783818875,
          -0.21581183631347262,
          -0.06081011961657442,
          0.3339465500801096,
          -0.32408437846696564,
          -0.4397207445694568,
          -0.36969257667764444,
          -0.278464241990309,
          -0.08629545437944187
         ]
        }
       ],
       "layout": {
        "autosize": false,
        "font": {
         "family": "Balto"
        },
        "height": 600,
        "hovermode": "closest",
        "margin": {
         "b": 85,
         "l": 40,
         "pad": 0,
         "r": 40,
         "t": 100
        },
        "plot_bgcolor": "#efecea",
        "showlegend": false,
        "title": "MyGraph",
        "width": 600,
        "xaxis": {
         "showgrid": false,
         "showline": false,
         "showticklabels": false,
         "title": "",
         "zeroline": false
        },
        "yaxis": {
         "showgrid": false,
         "showline": false,
         "showticklabels": false,
         "title": "",
         "zeroline": false
        }
       }
      },
      "text/html": [
       "<div id=\"0fb88b74-cdd4-4a14-93c6-6f5fccc378b0\" style=\"height: 600px; width: 600px;\" class=\"plotly-graph-div\"></div><script type=\"text/javascript\">require([\"plotly\"], function(Plotly) { window.PLOTLYENV=window.PLOTLYENV || {};window.PLOTLYENV.BASE_URL=\"https://plot.ly\";Plotly.newPlot(\"0fb88b74-cdd4-4a14-93c6-6f5fccc378b0\", [{\"type\": \"scatter\", \"mode\": \"lines\", \"x\": [0.3392895707247388, 0.3433735073666966, null, 0.3392895707247388, 0.2697644368963827, null, 0.3433735073666966, -0.13104321438002692, null, 0.3433735073666966, -0.1333487843548058, null, 0.3433735073666966, 0.38571328160165785, null, 0.3433735073666966, 0.7464216704566924, null, 0.32618078918071886, 0.7464216704566924, null, -0.13494168869213238, -0.601459074961804, null, -0.13494168869213238, -0.13104321438002692, null, -0.08724236586984277, 0.2697644368963827, null, -0.08724236586984277, 0.32618078918071886, null, -0.08724236586984277, -0.1333487843548058, null, -1.0, -0.601459074961804, null, -0.22001325164478458, -0.5864445354568214, null, -0.22001325164478458, 0.05217584624015198, null, -0.22001325164478458, 0.3392895707247388, null, -0.5864445354568214, -0.1333487843548058, null, -0.601459074961804, -0.5864445354568214, null, 0.3613169227864669, 0.7464216704566924, null, 0.38571328160165785, -0.13494168869213238, null, 0.38571328160165785, 0.7464216704566924, null], \"y\": [0.6879485519361435, 0.15828340841553357, null, 0.6879485519361435, 0.20976515812896332, null, 0.15828340841553357, -0.06081011961657442, null, 0.15828340841553357, 0.3339465500801096, null, 0.15828340841553357, -0.36969257667764444, null, 0.15828340841553357, -0.08629545437944187, null, 0.08192598051231462, -0.08629545437944187, null, -0.5307842468534678, -0.2723385783818875, null, -0.5307842468534678, -0.06081011961657442, null, -0.10216268937884489, 0.20976515812896332, null, -0.10216268937884489, 0.08192598051231462, null, -0.10216268937884489, 0.3339465500801096, null, -0.5074730363265657, -0.2723385783818875, null, 0.873868638007518, 0.3295804414982039, null, 0.873868638007518, 0.5123191743758444, null, 0.873868638007518, 0.6879485519361435, null, 0.3295804414982039, 0.3339465500801096, null, -0.2723385783818875, 0.3295804414982039, null, -0.32408437846696564, -0.08629545437944187, null, -0.36969257667764444, -0.5307842468534678, null, -0.36969257667764444, -0.08629545437944187, null], \"line\": {\"width\": 1, \"color\": \"rgb(25,25,25)\"}, \"hoverinfo\": \"none\"}, {\"type\": \"scatter\", \"x\": [0.3392895707247388, 0.3433735073666966, 0.32618078918071886, 0.2697644368963827, 0.05217584624015198, -0.13494168869213238, -0.08724236586984277, -1.0, -0.22001325164478458, -0.5864445354568214, -0.601459074961804, -0.39890976521658067, -0.13104321438002692, -0.1333487843548058, 0.3613169227864669, 0.11122831930958746, 0.38571328160165785, 0.35793833601370495, 0.7464216704566924], \"y\": [0.6879485519361435, 0.15828340841553357, 0.08192598051231462, 0.20976515812896332, 0.5123191743758444, -0.5307842468534678, -0.10216268937884489, -0.5074730363265657, 0.873868638007518, 0.3295804414982039, -0.2723385783818875, -0.21581183631347262, -0.06081011961657442, 0.3339465500801096, -0.32408437846696564, -0.4397207445694568, -0.36969257667764444, -0.278464241990309, -0.08629545437944187], \"mode\": \"markers\", \"marker\": {\"symbol\": \"dot\", \"size\": 10, \"color\": [\"rgb(94.31487889273357,0.8304498269896191,11.91349480968858)\", \"rgb(224.41868512110727,203.9688581314879,194.3252595155709)\", \"rgb(221.8719723183391,109.58477508650519,81.34948096885815)\", \"rgb(222.03806228373702,116.22837370242215,87.99307958477509)\", \"rgb(222.3529411764706,155.63667820069202,131.32525951557093)\", \"rgb(222.3529411764706,160.17647058823528,136.52941176470588)\", \"rgb(222.6159169550173,169.86505190311416,148.50173010380624)\", \"rgb(223.1141868512111,179.08304498269896,160.70934256055364)\", \"rgb(223.3356401384083,183.17993079584775,166.1349480968858)\", \"rgb(199.29757785467126,40.79584775086505,33.996539792387544)\", \"rgb(223.39100346020763,184.20415224913495,167.49134948096886)\", \"rgb(223.44636678200692,185.22837370242215,168.8477508650519)\", \"rgb(224.0553633217993,196.4948096885813,183.7681660899654)\", \"rgb(224.16955017301038,198.73702422145328,186.85121107266434)\", \"rgb(224.19723183391002,199.318339100346,187.68166089965396)\", \"rgb(224.44636678200695,204.5501730103806,195.15570934256053)\", \"rgb(224.19723183391002,199.318339100346,187.68166089965396)\", \"rgb(224.30795847750863,201.64359861591694,191.00346020761245)\"]}, \"text\": [\"RUSSIA\", \"GAZPRU\", \"GAZPRU.Gneft\", \"SBERBANK\", \"ROSNEF\", \"RUSRAI\", \"ALROSA\", \"BOM\", \"AKT\", \"BKECON\", \"CITMOS\", \"EVRGSA\", \"LUKOIL\", \"MBT\", \"MDMOJC\", \"RSBZAO\", \"RUSAGB\", \"VIP\", \"VTB\"], \"hoverinfo\": \"text\"}], {\"title\": \"MyGraph\", \"font\": {\"family\": \"Balto\"}, \"width\": 600, \"height\": 600, \"autosize\": false, \"showlegend\": false, \"xaxis\": {\"showline\": false, \"zeroline\": false, \"showgrid\": false, \"showticklabels\": false, \"title\": \"\"}, \"yaxis\": {\"showline\": false, \"zeroline\": false, \"showgrid\": false, \"showticklabels\": false, \"title\": \"\"}, \"margin\": {\"l\": 40, \"r\": 40, \"b\": 85, \"t\": 100, \"pad\": 0}, \"hovermode\": \"closest\", \"plot_bgcolor\": \"#efecea\"}, {\"showLink\": true, \"linkText\": \"Export to plot.ly\"})});</script>"
      ],
      "text/vnd.plotly.v1+html": [
       "<div id=\"0fb88b74-cdd4-4a14-93c6-6f5fccc378b0\" style=\"height: 600px; width: 600px;\" class=\"plotly-graph-div\"></div><script type=\"text/javascript\">require([\"plotly\"], function(Plotly) { window.PLOTLYENV=window.PLOTLYENV || {};window.PLOTLYENV.BASE_URL=\"https://plot.ly\";Plotly.newPlot(\"0fb88b74-cdd4-4a14-93c6-6f5fccc378b0\", [{\"type\": \"scatter\", \"mode\": \"lines\", \"x\": [0.3392895707247388, 0.3433735073666966, null, 0.3392895707247388, 0.2697644368963827, null, 0.3433735073666966, -0.13104321438002692, null, 0.3433735073666966, -0.1333487843548058, null, 0.3433735073666966, 0.38571328160165785, null, 0.3433735073666966, 0.7464216704566924, null, 0.32618078918071886, 0.7464216704566924, null, -0.13494168869213238, -0.601459074961804, null, -0.13494168869213238, -0.13104321438002692, null, -0.08724236586984277, 0.2697644368963827, null, -0.08724236586984277, 0.32618078918071886, null, -0.08724236586984277, -0.1333487843548058, null, -1.0, -0.601459074961804, null, -0.22001325164478458, -0.5864445354568214, null, -0.22001325164478458, 0.05217584624015198, null, -0.22001325164478458, 0.3392895707247388, null, -0.5864445354568214, -0.1333487843548058, null, -0.601459074961804, -0.5864445354568214, null, 0.3613169227864669, 0.7464216704566924, null, 0.38571328160165785, -0.13494168869213238, null, 0.38571328160165785, 0.7464216704566924, null], \"y\": [0.6879485519361435, 0.15828340841553357, null, 0.6879485519361435, 0.20976515812896332, null, 0.15828340841553357, -0.06081011961657442, null, 0.15828340841553357, 0.3339465500801096, null, 0.15828340841553357, -0.36969257667764444, null, 0.15828340841553357, -0.08629545437944187, null, 0.08192598051231462, -0.08629545437944187, null, -0.5307842468534678, -0.2723385783818875, null, -0.5307842468534678, -0.06081011961657442, null, -0.10216268937884489, 0.20976515812896332, null, -0.10216268937884489, 0.08192598051231462, null, -0.10216268937884489, 0.3339465500801096, null, -0.5074730363265657, -0.2723385783818875, null, 0.873868638007518, 0.3295804414982039, null, 0.873868638007518, 0.5123191743758444, null, 0.873868638007518, 0.6879485519361435, null, 0.3295804414982039, 0.3339465500801096, null, -0.2723385783818875, 0.3295804414982039, null, -0.32408437846696564, -0.08629545437944187, null, -0.36969257667764444, -0.5307842468534678, null, -0.36969257667764444, -0.08629545437944187, null], \"line\": {\"width\": 1, \"color\": \"rgb(25,25,25)\"}, \"hoverinfo\": \"none\"}, {\"type\": \"scatter\", \"x\": [0.3392895707247388, 0.3433735073666966, 0.32618078918071886, 0.2697644368963827, 0.05217584624015198, -0.13494168869213238, -0.08724236586984277, -1.0, -0.22001325164478458, -0.5864445354568214, -0.601459074961804, -0.39890976521658067, -0.13104321438002692, -0.1333487843548058, 0.3613169227864669, 0.11122831930958746, 0.38571328160165785, 0.35793833601370495, 0.7464216704566924], \"y\": [0.6879485519361435, 0.15828340841553357, 0.08192598051231462, 0.20976515812896332, 0.5123191743758444, -0.5307842468534678, -0.10216268937884489, -0.5074730363265657, 0.873868638007518, 0.3295804414982039, -0.2723385783818875, -0.21581183631347262, -0.06081011961657442, 0.3339465500801096, -0.32408437846696564, -0.4397207445694568, -0.36969257667764444, -0.278464241990309, -0.08629545437944187], \"mode\": \"markers\", \"marker\": {\"symbol\": \"dot\", \"size\": 10, \"color\": [\"rgb(94.31487889273357,0.8304498269896191,11.91349480968858)\", \"rgb(224.41868512110727,203.9688581314879,194.3252595155709)\", \"rgb(221.8719723183391,109.58477508650519,81.34948096885815)\", \"rgb(222.03806228373702,116.22837370242215,87.99307958477509)\", \"rgb(222.3529411764706,155.63667820069202,131.32525951557093)\", \"rgb(222.3529411764706,160.17647058823528,136.52941176470588)\", \"rgb(222.6159169550173,169.86505190311416,148.50173010380624)\", \"rgb(223.1141868512111,179.08304498269896,160.70934256055364)\", \"rgb(223.3356401384083,183.17993079584775,166.1349480968858)\", \"rgb(199.29757785467126,40.79584775086505,33.996539792387544)\", \"rgb(223.39100346020763,184.20415224913495,167.49134948096886)\", \"rgb(223.44636678200692,185.22837370242215,168.8477508650519)\", \"rgb(224.0553633217993,196.4948096885813,183.7681660899654)\", \"rgb(224.16955017301038,198.73702422145328,186.85121107266434)\", \"rgb(224.19723183391002,199.318339100346,187.68166089965396)\", \"rgb(224.44636678200695,204.5501730103806,195.15570934256053)\", \"rgb(224.19723183391002,199.318339100346,187.68166089965396)\", \"rgb(224.30795847750863,201.64359861591694,191.00346020761245)\"]}, \"text\": [\"RUSSIA\", \"GAZPRU\", \"GAZPRU.Gneft\", \"SBERBANK\", \"ROSNEF\", \"RUSRAI\", \"ALROSA\", \"BOM\", \"AKT\", \"BKECON\", \"CITMOS\", \"EVRGSA\", \"LUKOIL\", \"MBT\", \"MDMOJC\", \"RSBZAO\", \"RUSAGB\", \"VIP\", \"VTB\"], \"hoverinfo\": \"text\"}], {\"title\": \"MyGraph\", \"font\": {\"family\": \"Balto\"}, \"width\": 600, \"height\": 600, \"autosize\": false, \"showlegend\": false, \"xaxis\": {\"showline\": false, \"zeroline\": false, \"showgrid\": false, \"showticklabels\": false, \"title\": \"\"}, \"yaxis\": {\"showline\": false, \"zeroline\": false, \"showgrid\": false, \"showticklabels\": false, \"title\": \"\"}, \"margin\": {\"l\": 40, \"r\": 40, \"b\": 85, \"t\": 100, \"pad\": 0}, \"hovermode\": \"closest\", \"plot_bgcolor\": \"#efecea\"}, {\"showLink\": true, \"linkText\": \"Export to plot.ly\"})});</script>"
      ]
     },
     "metadata": {},
     "output_type": "display_data"
    }
   ],
   "source": [
    "iplot(fig)"
   ]
  },
  {
   "cell_type": "code",
   "execution_count": 63,
   "metadata": {},
   "outputs": [],
   "source": [
    "def make_annotations(pos, anno_text, font_size=14, font_color='rgb(10,10,10)'):\n",
    "    L=len(pos)\n",
    "    if len(anno_text)!=L:\n",
    "        raise ValueError('The lists pos and text must have the same len')\n",
    "    annotations = []\n",
    "    for k in range(L):\n",
    "        annotations.append(dict(text=anno_text[k], \n",
    "                                x=pos[k][0], \n",
    "                                y=pos[k][1]+0.075,#this additional value is chosen by trial and error\n",
    "                                xref='x1', yref='y1',\n",
    "                                font=dict(color= font_color, size=font_size),\n",
    "                                showarrow=False)\n",
    "                          )\n",
    "    return annotations"
   ]
  },
  {
   "cell_type": "code",
   "execution_count": 64,
   "metadata": {},
   "outputs": [],
   "source": [
    "fig['layout'].update(annotations=make_annotations(pos, labels))"
   ]
  },
  {
   "cell_type": "code",
   "execution_count": 65,
   "metadata": {},
   "outputs": [
    {
     "data": {
      "application/vnd.plotly.v1+json": {
       "data": [
        {
         "hoverinfo": "none",
         "line": {
          "color": "rgb(25,25,25)",
          "width": 1
         },
         "mode": "lines",
         "type": "scatter",
         "x": [
          0.1711740796362806,
          0.2256072303123439,
          null,
          0.1711740796362806,
          0.11554595437107072,
          null,
          0.2256072303123439,
          0.34202989478188656,
          null,
          0.2256072303123439,
          0.6366081569531802,
          null,
          0.2256072303123439,
          0.04299731591699017,
          null,
          0.2256072303123439,
          -0.1747082580578107,
          null,
          -0.16686742493831588,
          -0.1747082580578107,
          null,
          0.26271507333345456,
          0.2901023884350587,
          null,
          0.26271507333345456,
          0.34202989478188656,
          null,
          0.13478860176748964,
          0.11554595437107072,
          null,
          0.13478860176748964,
          -0.16686742493831588,
          null,
          0.13478860176748964,
          0.6366081569531802,
          null,
          0.07328466349012695,
          0.2901023884350587,
          null,
          -0.1851067246347759,
          0.5482883377973047,
          null,
          -0.1851067246347759,
          -1,
          null,
          -0.1851067246347759,
          0.1711740796362806,
          null,
          0.5482883377973047,
          0.6366081569531802,
          null,
          0.2901023884350587,
          0.5482883377973047,
          null,
          -0.20189506464685772,
          -0.1747082580578107,
          null,
          0.04299731591699017,
          0.26271507333345456,
          null,
          0.04299731591699017,
          -0.1747082580578107,
          null
         ],
         "y": [
          -0.32957888042184663,
          0.3000326352915566,
          null,
          -0.32957888042184663,
          -0.95248483642426,
          null,
          0.3000326352915566,
          0.5966825456566149,
          null,
          0.3000326352915566,
          -0.2509639186702749,
          null,
          0.3000326352915566,
          0.44912056478913137,
          null,
          0.3000326352915566,
          0.7617484367775064,
          null,
          0.5106808961803607,
          0.7617484367775064,
          null,
          0.1353596048251606,
          -0.3032955427104451,
          null,
          0.1353596048251606,
          0.5966825456566149,
          null,
          -0.21164198771158152,
          -0.95248483642426,
          null,
          -0.21164198771158152,
          0.5106808961803607,
          null,
          -0.21164198771158152,
          -0.2509639186702749,
          null,
          -0.3063385819918389,
          -0.3032955427104451,
          null,
          -0.5367915285249927,
          -0.29430063976848825,
          null,
          -0.5367915285249927,
          -0.8464644465301022,
          null,
          -0.5367915285249927,
          -0.32957888042184663,
          null,
          -0.29430063976848825,
          -0.2509639186702749,
          null,
          -0.3032955427104451,
          -0.29430063976848825,
          null,
          0.6055700765221738,
          0.7617484367775064,
          null,
          0.44912056478913137,
          0.1353596048251606,
          null,
          0.44912056478913137,
          0.7617484367775064,
          null
         ]
        },
        {
         "hoverinfo": "text",
         "marker": {
          "color": "rgb(0,240,0)",
          "size": 10,
          "symbol": "dot"
         },
         "mode": "markers",
         "text": [
          "RUSSIA",
          "GAZPRU",
          "GAZPRU.Gneft",
          "SBERBANK",
          "ROSNEF",
          "RUSRAI",
          "ALROSA",
          "BOM",
          "AKT",
          "BKECON",
          "CITMOS",
          "EVRGSA",
          "LUKOIL",
          "MBT",
          "MDMOJC",
          "RSBZAO",
          "RUSAGB",
          "VIP",
          "VTB"
         ],
         "type": "scatter",
         "x": [
          0.1711740796362806,
          0.2256072303123439,
          -0.16686742493831588,
          0.11554595437107072,
          -1,
          0.26271507333345456,
          0.13478860176748964,
          0.07328466349012695,
          -0.1851067246347759,
          0.5482883377973047,
          0.2901023884350587,
          -0.8058675784575154,
          0.34202989478188656,
          0.6366081569531802,
          -0.20189506464685772,
          -0.881982088858813,
          0.04299731591699017,
          0.5732854427989017,
          -0.1747082580578107
         ],
         "y": [
          -0.32957888042184663,
          0.3000326352915566,
          0.5106808961803607,
          -0.95248483642426,
          -0.8464644465301022,
          0.1353596048251606,
          -0.21164198771158152,
          -0.3063385819918389,
          -0.5367915285249927,
          -0.29430063976848825,
          -0.3032955427104451,
          0.4760691882796588,
          0.5966825456566149,
          -0.2509639186702749,
          0.6055700765221738,
          0.025546059574559913,
          0.44912056478913137,
          0.17105035485710837,
          0.7617484367775064
         ]
        }
       ],
       "layout": {
        "annotations": [
         {
          "font": {
           "color": "rgb(10,10,10)",
           "size": 14
          },
          "showarrow": false,
          "text": "RUSSIA",
          "x": 0.1711740796362806,
          "xref": "x1",
          "y": -0.2545788804218466,
          "yref": "y1"
         },
         {
          "font": {
           "color": "rgb(10,10,10)",
           "size": 14
          },
          "showarrow": false,
          "text": "GAZPRU",
          "x": 0.2256072303123439,
          "xref": "x1",
          "y": 0.3750326352915566,
          "yref": "y1"
         },
         {
          "font": {
           "color": "rgb(10,10,10)",
           "size": 14
          },
          "showarrow": false,
          "text": "GAZPRU.Gneft",
          "x": -0.16686742493831588,
          "xref": "x1",
          "y": 0.5856808961803607,
          "yref": "y1"
         },
         {
          "font": {
           "color": "rgb(10,10,10)",
           "size": 14
          },
          "showarrow": false,
          "text": "SBERBANK",
          "x": 0.11554595437107072,
          "xref": "x1",
          "y": -0.87748483642426,
          "yref": "y1"
         },
         {
          "font": {
           "color": "rgb(10,10,10)",
           "size": 14
          },
          "showarrow": false,
          "text": "ROSNEF",
          "x": -1,
          "xref": "x1",
          "y": -0.7714644465301023,
          "yref": "y1"
         },
         {
          "font": {
           "color": "rgb(10,10,10)",
           "size": 14
          },
          "showarrow": false,
          "text": "RUSRAI",
          "x": 0.26271507333345456,
          "xref": "x1",
          "y": 0.21035960482516058,
          "yref": "y1"
         },
         {
          "font": {
           "color": "rgb(10,10,10)",
           "size": 14
          },
          "showarrow": false,
          "text": "ALROSA",
          "x": 0.13478860176748964,
          "xref": "x1",
          "y": -0.13664198771158154,
          "yref": "y1"
         },
         {
          "font": {
           "color": "rgb(10,10,10)",
           "size": 14
          },
          "showarrow": false,
          "text": "BOM",
          "x": 0.07328466349012695,
          "xref": "x1",
          "y": -0.23133858199183888,
          "yref": "y1"
         },
         {
          "font": {
           "color": "rgb(10,10,10)",
           "size": 14
          },
          "showarrow": false,
          "text": "AKT",
          "x": -0.1851067246347759,
          "xref": "x1",
          "y": -0.46179152852499267,
          "yref": "y1"
         },
         {
          "font": {
           "color": "rgb(10,10,10)",
           "size": 14
          },
          "showarrow": false,
          "text": "BKECON",
          "x": 0.5482883377973047,
          "xref": "x1",
          "y": -0.21930063976848824,
          "yref": "y1"
         },
         {
          "font": {
           "color": "rgb(10,10,10)",
           "size": 14
          },
          "showarrow": false,
          "text": "CITMOS",
          "x": 0.2901023884350587,
          "xref": "x1",
          "y": -0.2282955427104451,
          "yref": "y1"
         },
         {
          "font": {
           "color": "rgb(10,10,10)",
           "size": 14
          },
          "showarrow": false,
          "text": "EVRGSA",
          "x": -0.8058675784575154,
          "xref": "x1",
          "y": 0.5510691882796588,
          "yref": "y1"
         },
         {
          "font": {
           "color": "rgb(10,10,10)",
           "size": 14
          },
          "showarrow": false,
          "text": "LUKOIL",
          "x": 0.34202989478188656,
          "xref": "x1",
          "y": 0.6716825456566149,
          "yref": "y1"
         },
         {
          "font": {
           "color": "rgb(10,10,10)",
           "size": 14
          },
          "showarrow": false,
          "text": "MBT",
          "x": 0.6366081569531802,
          "xref": "x1",
          "y": -0.1759639186702749,
          "yref": "y1"
         },
         {
          "font": {
           "color": "rgb(10,10,10)",
           "size": 14
          },
          "showarrow": false,
          "text": "MDMOJC",
          "x": -0.20189506464685772,
          "xref": "x1",
          "y": 0.6805700765221737,
          "yref": "y1"
         },
         {
          "font": {
           "color": "rgb(10,10,10)",
           "size": 14
          },
          "showarrow": false,
          "text": "RSBZAO",
          "x": -0.881982088858813,
          "xref": "x1",
          "y": 0.1005460595745599,
          "yref": "y1"
         },
         {
          "font": {
           "color": "rgb(10,10,10)",
           "size": 14
          },
          "showarrow": false,
          "text": "RUSAGB",
          "x": 0.04299731591699017,
          "xref": "x1",
          "y": 0.5241205647891314,
          "yref": "y1"
         },
         {
          "font": {
           "color": "rgb(10,10,10)",
           "size": 14
          },
          "showarrow": false,
          "text": "VIP",
          "x": 0.5732854427989017,
          "xref": "x1",
          "y": 0.24605035485710836,
          "yref": "y1"
         },
         {
          "font": {
           "color": "rgb(10,10,10)",
           "size": 14
          },
          "showarrow": false,
          "text": "VTB",
          "x": -0.1747082580578107,
          "xref": "x1",
          "y": 0.8367484367775063,
          "yref": "y1"
         }
        ],
        "autosize": false,
        "font": {
         "family": "Balto"
        },
        "height": 600,
        "hovermode": "closest",
        "margin": {
         "b": 85,
         "l": 40,
         "pad": 0,
         "r": 40,
         "t": 100
        },
        "plot_bgcolor": "#efecea",
        "showlegend": false,
        "title": "MyGraph",
        "width": 600,
        "xaxis": {
         "showgrid": false,
         "showline": false,
         "showticklabels": false,
         "title": "",
         "zeroline": false
        },
        "yaxis": {
         "showgrid": false,
         "showline": false,
         "showticklabels": false,
         "title": "",
         "zeroline": false
        }
       }
      },
      "text/html": [
       "<div id=\"55ce88e0-7ac9-4806-af30-3262880d5aec\" style=\"height: 600px; width: 600px;\" class=\"plotly-graph-div\"></div><script type=\"text/javascript\">require([\"plotly\"], function(Plotly) { window.PLOTLYENV=window.PLOTLYENV || {};window.PLOTLYENV.BASE_URL=\"https://plot.ly\";Plotly.newPlot(\"55ce88e0-7ac9-4806-af30-3262880d5aec\", [{\"type\": \"scatter\", \"mode\": \"lines\", \"x\": [0.1711740796362806, 0.2256072303123439, null, 0.1711740796362806, 0.11554595437107072, null, 0.2256072303123439, 0.34202989478188656, null, 0.2256072303123439, 0.6366081569531802, null, 0.2256072303123439, 0.04299731591699017, null, 0.2256072303123439, -0.1747082580578107, null, -0.16686742493831588, -0.1747082580578107, null, 0.26271507333345456, 0.2901023884350587, null, 0.26271507333345456, 0.34202989478188656, null, 0.13478860176748964, 0.11554595437107072, null, 0.13478860176748964, -0.16686742493831588, null, 0.13478860176748964, 0.6366081569531802, null, 0.07328466349012695, 0.2901023884350587, null, -0.1851067246347759, 0.5482883377973047, null, -0.1851067246347759, -1.0, null, -0.1851067246347759, 0.1711740796362806, null, 0.5482883377973047, 0.6366081569531802, null, 0.2901023884350587, 0.5482883377973047, null, -0.20189506464685772, -0.1747082580578107, null, 0.04299731591699017, 0.26271507333345456, null, 0.04299731591699017, -0.1747082580578107, null], \"y\": [-0.32957888042184663, 0.3000326352915566, null, -0.32957888042184663, -0.95248483642426, null, 0.3000326352915566, 0.5966825456566149, null, 0.3000326352915566, -0.2509639186702749, null, 0.3000326352915566, 0.44912056478913137, null, 0.3000326352915566, 0.7617484367775064, null, 0.5106808961803607, 0.7617484367775064, null, 0.1353596048251606, -0.3032955427104451, null, 0.1353596048251606, 0.5966825456566149, null, -0.21164198771158152, -0.95248483642426, null, -0.21164198771158152, 0.5106808961803607, null, -0.21164198771158152, -0.2509639186702749, null, -0.3063385819918389, -0.3032955427104451, null, -0.5367915285249927, -0.29430063976848825, null, -0.5367915285249927, -0.8464644465301022, null, -0.5367915285249927, -0.32957888042184663, null, -0.29430063976848825, -0.2509639186702749, null, -0.3032955427104451, -0.29430063976848825, null, 0.6055700765221738, 0.7617484367775064, null, 0.44912056478913137, 0.1353596048251606, null, 0.44912056478913137, 0.7617484367775064, null], \"line\": {\"width\": 1, \"color\": \"rgb(25,25,25)\"}, \"hoverinfo\": \"none\"}, {\"type\": \"scatter\", \"x\": [0.1711740796362806, 0.2256072303123439, -0.16686742493831588, 0.11554595437107072, -1.0, 0.26271507333345456, 0.13478860176748964, 0.07328466349012695, -0.1851067246347759, 0.5482883377973047, 0.2901023884350587, -0.8058675784575154, 0.34202989478188656, 0.6366081569531802, -0.20189506464685772, -0.881982088858813, 0.04299731591699017, 0.5732854427989017, -0.1747082580578107], \"y\": [-0.32957888042184663, 0.3000326352915566, 0.5106808961803607, -0.95248483642426, -0.8464644465301022, 0.1353596048251606, -0.21164198771158152, -0.3063385819918389, -0.5367915285249927, -0.29430063976848825, -0.3032955427104451, 0.4760691882796588, 0.5966825456566149, -0.2509639186702749, 0.6055700765221738, 0.025546059574559913, 0.44912056478913137, 0.17105035485710837, 0.7617484367775064], \"mode\": \"markers\", \"marker\": {\"symbol\": \"dot\", \"size\": 10, \"color\": \"rgb(0,240,0)\"}, \"text\": [\"RUSSIA\", \"GAZPRU\", \"GAZPRU.Gneft\", \"SBERBANK\", \"ROSNEF\", \"RUSRAI\", \"ALROSA\", \"BOM\", \"AKT\", \"BKECON\", \"CITMOS\", \"EVRGSA\", \"LUKOIL\", \"MBT\", \"MDMOJC\", \"RSBZAO\", \"RUSAGB\", \"VIP\", \"VTB\"], \"hoverinfo\": \"text\"}], {\"title\": \"MyGraph\", \"font\": {\"family\": \"Balto\"}, \"width\": 600, \"height\": 600, \"autosize\": false, \"showlegend\": false, \"xaxis\": {\"showline\": false, \"zeroline\": false, \"showgrid\": false, \"showticklabels\": false, \"title\": \"\"}, \"yaxis\": {\"showline\": false, \"zeroline\": false, \"showgrid\": false, \"showticklabels\": false, \"title\": \"\"}, \"margin\": {\"l\": 40, \"r\": 40, \"b\": 85, \"t\": 100, \"pad\": 0}, \"hovermode\": \"closest\", \"plot_bgcolor\": \"#efecea\", \"annotations\": [{\"text\": \"RUSSIA\", \"x\": 0.1711740796362806, \"y\": -0.2545788804218466, \"xref\": \"x1\", \"yref\": \"y1\", \"font\": {\"color\": \"rgb(10,10,10)\", \"size\": 14}, \"showarrow\": false}, {\"text\": \"GAZPRU\", \"x\": 0.2256072303123439, \"y\": 0.3750326352915566, \"xref\": \"x1\", \"yref\": \"y1\", \"font\": {\"color\": \"rgb(10,10,10)\", \"size\": 14}, \"showarrow\": false}, {\"text\": \"GAZPRU.Gneft\", \"x\": -0.16686742493831588, \"y\": 0.5856808961803607, \"xref\": \"x1\", \"yref\": \"y1\", \"font\": {\"color\": \"rgb(10,10,10)\", \"size\": 14}, \"showarrow\": false}, {\"text\": \"SBERBANK\", \"x\": 0.11554595437107072, \"y\": -0.87748483642426, \"xref\": \"x1\", \"yref\": \"y1\", \"font\": {\"color\": \"rgb(10,10,10)\", \"size\": 14}, \"showarrow\": false}, {\"text\": \"ROSNEF\", \"x\": -1.0, \"y\": -0.7714644465301023, \"xref\": \"x1\", \"yref\": \"y1\", \"font\": {\"color\": \"rgb(10,10,10)\", \"size\": 14}, \"showarrow\": false}, {\"text\": \"RUSRAI\", \"x\": 0.26271507333345456, \"y\": 0.21035960482516058, \"xref\": \"x1\", \"yref\": \"y1\", \"font\": {\"color\": \"rgb(10,10,10)\", \"size\": 14}, \"showarrow\": false}, {\"text\": \"ALROSA\", \"x\": 0.13478860176748964, \"y\": -0.13664198771158154, \"xref\": \"x1\", \"yref\": \"y1\", \"font\": {\"color\": \"rgb(10,10,10)\", \"size\": 14}, \"showarrow\": false}, {\"text\": \"BOM\", \"x\": 0.07328466349012695, \"y\": -0.23133858199183888, \"xref\": \"x1\", \"yref\": \"y1\", \"font\": {\"color\": \"rgb(10,10,10)\", \"size\": 14}, \"showarrow\": false}, {\"text\": \"AKT\", \"x\": -0.1851067246347759, \"y\": -0.46179152852499267, \"xref\": \"x1\", \"yref\": \"y1\", \"font\": {\"color\": \"rgb(10,10,10)\", \"size\": 14}, \"showarrow\": false}, {\"text\": \"BKECON\", \"x\": 0.5482883377973047, \"y\": -0.21930063976848824, \"xref\": \"x1\", \"yref\": \"y1\", \"font\": {\"color\": \"rgb(10,10,10)\", \"size\": 14}, \"showarrow\": false}, {\"text\": \"CITMOS\", \"x\": 0.2901023884350587, \"y\": -0.2282955427104451, \"xref\": \"x1\", \"yref\": \"y1\", \"font\": {\"color\": \"rgb(10,10,10)\", \"size\": 14}, \"showarrow\": false}, {\"text\": \"EVRGSA\", \"x\": -0.8058675784575154, \"y\": 0.5510691882796588, \"xref\": \"x1\", \"yref\": \"y1\", \"font\": {\"color\": \"rgb(10,10,10)\", \"size\": 14}, \"showarrow\": false}, {\"text\": \"LUKOIL\", \"x\": 0.34202989478188656, \"y\": 0.6716825456566149, \"xref\": \"x1\", \"yref\": \"y1\", \"font\": {\"color\": \"rgb(10,10,10)\", \"size\": 14}, \"showarrow\": false}, {\"text\": \"MBT\", \"x\": 0.6366081569531802, \"y\": -0.1759639186702749, \"xref\": \"x1\", \"yref\": \"y1\", \"font\": {\"color\": \"rgb(10,10,10)\", \"size\": 14}, \"showarrow\": false}, {\"text\": \"MDMOJC\", \"x\": -0.20189506464685772, \"y\": 0.6805700765221737, \"xref\": \"x1\", \"yref\": \"y1\", \"font\": {\"color\": \"rgb(10,10,10)\", \"size\": 14}, \"showarrow\": false}, {\"text\": \"RSBZAO\", \"x\": -0.881982088858813, \"y\": 0.1005460595745599, \"xref\": \"x1\", \"yref\": \"y1\", \"font\": {\"color\": \"rgb(10,10,10)\", \"size\": 14}, \"showarrow\": false}, {\"text\": \"RUSAGB\", \"x\": 0.04299731591699017, \"y\": 0.5241205647891314, \"xref\": \"x1\", \"yref\": \"y1\", \"font\": {\"color\": \"rgb(10,10,10)\", \"size\": 14}, \"showarrow\": false}, {\"text\": \"VIP\", \"x\": 0.5732854427989017, \"y\": 0.24605035485710836, \"xref\": \"x1\", \"yref\": \"y1\", \"font\": {\"color\": \"rgb(10,10,10)\", \"size\": 14}, \"showarrow\": false}, {\"text\": \"VTB\", \"x\": -0.1747082580578107, \"y\": 0.8367484367775063, \"xref\": \"x1\", \"yref\": \"y1\", \"font\": {\"color\": \"rgb(10,10,10)\", \"size\": 14}, \"showarrow\": false}]}, {\"showLink\": true, \"linkText\": \"Export to plot.ly\"})});</script>"
      ],
      "text/vnd.plotly.v1+html": [
       "<div id=\"55ce88e0-7ac9-4806-af30-3262880d5aec\" style=\"height: 600px; width: 600px;\" class=\"plotly-graph-div\"></div><script type=\"text/javascript\">require([\"plotly\"], function(Plotly) { window.PLOTLYENV=window.PLOTLYENV || {};window.PLOTLYENV.BASE_URL=\"https://plot.ly\";Plotly.newPlot(\"55ce88e0-7ac9-4806-af30-3262880d5aec\", [{\"type\": \"scatter\", \"mode\": \"lines\", \"x\": [0.1711740796362806, 0.2256072303123439, null, 0.1711740796362806, 0.11554595437107072, null, 0.2256072303123439, 0.34202989478188656, null, 0.2256072303123439, 0.6366081569531802, null, 0.2256072303123439, 0.04299731591699017, null, 0.2256072303123439, -0.1747082580578107, null, -0.16686742493831588, -0.1747082580578107, null, 0.26271507333345456, 0.2901023884350587, null, 0.26271507333345456, 0.34202989478188656, null, 0.13478860176748964, 0.11554595437107072, null, 0.13478860176748964, -0.16686742493831588, null, 0.13478860176748964, 0.6366081569531802, null, 0.07328466349012695, 0.2901023884350587, null, -0.1851067246347759, 0.5482883377973047, null, -0.1851067246347759, -1.0, null, -0.1851067246347759, 0.1711740796362806, null, 0.5482883377973047, 0.6366081569531802, null, 0.2901023884350587, 0.5482883377973047, null, -0.20189506464685772, -0.1747082580578107, null, 0.04299731591699017, 0.26271507333345456, null, 0.04299731591699017, -0.1747082580578107, null], \"y\": [-0.32957888042184663, 0.3000326352915566, null, -0.32957888042184663, -0.95248483642426, null, 0.3000326352915566, 0.5966825456566149, null, 0.3000326352915566, -0.2509639186702749, null, 0.3000326352915566, 0.44912056478913137, null, 0.3000326352915566, 0.7617484367775064, null, 0.5106808961803607, 0.7617484367775064, null, 0.1353596048251606, -0.3032955427104451, null, 0.1353596048251606, 0.5966825456566149, null, -0.21164198771158152, -0.95248483642426, null, -0.21164198771158152, 0.5106808961803607, null, -0.21164198771158152, -0.2509639186702749, null, -0.3063385819918389, -0.3032955427104451, null, -0.5367915285249927, -0.29430063976848825, null, -0.5367915285249927, -0.8464644465301022, null, -0.5367915285249927, -0.32957888042184663, null, -0.29430063976848825, -0.2509639186702749, null, -0.3032955427104451, -0.29430063976848825, null, 0.6055700765221738, 0.7617484367775064, null, 0.44912056478913137, 0.1353596048251606, null, 0.44912056478913137, 0.7617484367775064, null], \"line\": {\"width\": 1, \"color\": \"rgb(25,25,25)\"}, \"hoverinfo\": \"none\"}, {\"type\": \"scatter\", \"x\": [0.1711740796362806, 0.2256072303123439, -0.16686742493831588, 0.11554595437107072, -1.0, 0.26271507333345456, 0.13478860176748964, 0.07328466349012695, -0.1851067246347759, 0.5482883377973047, 0.2901023884350587, -0.8058675784575154, 0.34202989478188656, 0.6366081569531802, -0.20189506464685772, -0.881982088858813, 0.04299731591699017, 0.5732854427989017, -0.1747082580578107], \"y\": [-0.32957888042184663, 0.3000326352915566, 0.5106808961803607, -0.95248483642426, -0.8464644465301022, 0.1353596048251606, -0.21164198771158152, -0.3063385819918389, -0.5367915285249927, -0.29430063976848825, -0.3032955427104451, 0.4760691882796588, 0.5966825456566149, -0.2509639186702749, 0.6055700765221738, 0.025546059574559913, 0.44912056478913137, 0.17105035485710837, 0.7617484367775064], \"mode\": \"markers\", \"marker\": {\"symbol\": \"dot\", \"size\": 10, \"color\": \"rgb(0,240,0)\"}, \"text\": [\"RUSSIA\", \"GAZPRU\", \"GAZPRU.Gneft\", \"SBERBANK\", \"ROSNEF\", \"RUSRAI\", \"ALROSA\", \"BOM\", \"AKT\", \"BKECON\", \"CITMOS\", \"EVRGSA\", \"LUKOIL\", \"MBT\", \"MDMOJC\", \"RSBZAO\", \"RUSAGB\", \"VIP\", \"VTB\"], \"hoverinfo\": \"text\"}], {\"title\": \"MyGraph\", \"font\": {\"family\": \"Balto\"}, \"width\": 600, \"height\": 600, \"autosize\": false, \"showlegend\": false, \"xaxis\": {\"showline\": false, \"zeroline\": false, \"showgrid\": false, \"showticklabels\": false, \"title\": \"\"}, \"yaxis\": {\"showline\": false, \"zeroline\": false, \"showgrid\": false, \"showticklabels\": false, \"title\": \"\"}, \"margin\": {\"l\": 40, \"r\": 40, \"b\": 85, \"t\": 100, \"pad\": 0}, \"hovermode\": \"closest\", \"plot_bgcolor\": \"#efecea\", \"annotations\": [{\"text\": \"RUSSIA\", \"x\": 0.1711740796362806, \"y\": -0.2545788804218466, \"xref\": \"x1\", \"yref\": \"y1\", \"font\": {\"color\": \"rgb(10,10,10)\", \"size\": 14}, \"showarrow\": false}, {\"text\": \"GAZPRU\", \"x\": 0.2256072303123439, \"y\": 0.3750326352915566, \"xref\": \"x1\", \"yref\": \"y1\", \"font\": {\"color\": \"rgb(10,10,10)\", \"size\": 14}, \"showarrow\": false}, {\"text\": \"GAZPRU.Gneft\", \"x\": -0.16686742493831588, \"y\": 0.5856808961803607, \"xref\": \"x1\", \"yref\": \"y1\", \"font\": {\"color\": \"rgb(10,10,10)\", \"size\": 14}, \"showarrow\": false}, {\"text\": \"SBERBANK\", \"x\": 0.11554595437107072, \"y\": -0.87748483642426, \"xref\": \"x1\", \"yref\": \"y1\", \"font\": {\"color\": \"rgb(10,10,10)\", \"size\": 14}, \"showarrow\": false}, {\"text\": \"ROSNEF\", \"x\": -1.0, \"y\": -0.7714644465301023, \"xref\": \"x1\", \"yref\": \"y1\", \"font\": {\"color\": \"rgb(10,10,10)\", \"size\": 14}, \"showarrow\": false}, {\"text\": \"RUSRAI\", \"x\": 0.26271507333345456, \"y\": 0.21035960482516058, \"xref\": \"x1\", \"yref\": \"y1\", \"font\": {\"color\": \"rgb(10,10,10)\", \"size\": 14}, \"showarrow\": false}, {\"text\": \"ALROSA\", \"x\": 0.13478860176748964, \"y\": -0.13664198771158154, \"xref\": \"x1\", \"yref\": \"y1\", \"font\": {\"color\": \"rgb(10,10,10)\", \"size\": 14}, \"showarrow\": false}, {\"text\": \"BOM\", \"x\": 0.07328466349012695, \"y\": -0.23133858199183888, \"xref\": \"x1\", \"yref\": \"y1\", \"font\": {\"color\": \"rgb(10,10,10)\", \"size\": 14}, \"showarrow\": false}, {\"text\": \"AKT\", \"x\": -0.1851067246347759, \"y\": -0.46179152852499267, \"xref\": \"x1\", \"yref\": \"y1\", \"font\": {\"color\": \"rgb(10,10,10)\", \"size\": 14}, \"showarrow\": false}, {\"text\": \"BKECON\", \"x\": 0.5482883377973047, \"y\": -0.21930063976848824, \"xref\": \"x1\", \"yref\": \"y1\", \"font\": {\"color\": \"rgb(10,10,10)\", \"size\": 14}, \"showarrow\": false}, {\"text\": \"CITMOS\", \"x\": 0.2901023884350587, \"y\": -0.2282955427104451, \"xref\": \"x1\", \"yref\": \"y1\", \"font\": {\"color\": \"rgb(10,10,10)\", \"size\": 14}, \"showarrow\": false}, {\"text\": \"EVRGSA\", \"x\": -0.8058675784575154, \"y\": 0.5510691882796588, \"xref\": \"x1\", \"yref\": \"y1\", \"font\": {\"color\": \"rgb(10,10,10)\", \"size\": 14}, \"showarrow\": false}, {\"text\": \"LUKOIL\", \"x\": 0.34202989478188656, \"y\": 0.6716825456566149, \"xref\": \"x1\", \"yref\": \"y1\", \"font\": {\"color\": \"rgb(10,10,10)\", \"size\": 14}, \"showarrow\": false}, {\"text\": \"MBT\", \"x\": 0.6366081569531802, \"y\": -0.1759639186702749, \"xref\": \"x1\", \"yref\": \"y1\", \"font\": {\"color\": \"rgb(10,10,10)\", \"size\": 14}, \"showarrow\": false}, {\"text\": \"MDMOJC\", \"x\": -0.20189506464685772, \"y\": 0.6805700765221737, \"xref\": \"x1\", \"yref\": \"y1\", \"font\": {\"color\": \"rgb(10,10,10)\", \"size\": 14}, \"showarrow\": false}, {\"text\": \"RSBZAO\", \"x\": -0.881982088858813, \"y\": 0.1005460595745599, \"xref\": \"x1\", \"yref\": \"y1\", \"font\": {\"color\": \"rgb(10,10,10)\", \"size\": 14}, \"showarrow\": false}, {\"text\": \"RUSAGB\", \"x\": 0.04299731591699017, \"y\": 0.5241205647891314, \"xref\": \"x1\", \"yref\": \"y1\", \"font\": {\"color\": \"rgb(10,10,10)\", \"size\": 14}, \"showarrow\": false}, {\"text\": \"VIP\", \"x\": 0.5732854427989017, \"y\": 0.24605035485710836, \"xref\": \"x1\", \"yref\": \"y1\", \"font\": {\"color\": \"rgb(10,10,10)\", \"size\": 14}, \"showarrow\": false}, {\"text\": \"VTB\", \"x\": -0.1747082580578107, \"y\": 0.8367484367775063, \"xref\": \"x1\", \"yref\": \"y1\", \"font\": {\"color\": \"rgb(10,10,10)\", \"size\": 14}, \"showarrow\": false}]}, {\"showLink\": true, \"linkText\": \"Export to plot.ly\"})});</script>"
      ]
     },
     "metadata": {},
     "output_type": "display_data"
    }
   ],
   "source": [
    "iplot(fig)"
   ]
  },
  {
   "cell_type": "code",
   "execution_count": 76,
   "metadata": {},
   "outputs": [],
   "source": [
    "central = {}\n",
    "for i in range(19):\n",
    "    central[dic[i]] = [nx.in_degree_centrality(G)[i],nx.out_degree_centrality(G)[i]]"
   ]
  },
  {
   "cell_type": "code",
   "execution_count": 80,
   "metadata": {},
   "outputs": [],
   "source": [
    "undir_central = {}\n",
    "for i in range(19):\n",
    "    undir_central[dic[i]] = nx.degree_centrality(G)[i]"
   ]
  },
  {
   "cell_type": "code",
   "execution_count": 92,
   "metadata": {},
   "outputs": [],
   "source": [
    "pos = nx.spring_layout(g)"
   ]
  },
  {
   "cell_type": "code",
   "execution_count": 96,
   "metadata": {},
   "outputs": [],
   "source": [
    "label_list = dict(enumerate(net_stats['Entities'].tolist()))"
   ]
  },
  {
   "cell_type": "code",
   "execution_count": 111,
   "metadata": {},
   "outputs": [
    {
     "data": {
      "image/png": "[encoded data removed]",
      "text/plain": [
       "<Figure size 432x288 with 1 Axes>"
      ]
     },
     "metadata": {},
     "output_type": "display_data"
    }
   ],
   "source": [
    "nx.draw_networkx(g, labels = label_list, node_color = 'yellow', node_size = [v*2000 for v in list(eig_cen.values())],\n",
    "                edge_color = 'gray', pos = pos, font_size = 18, font_color = 'black', alpha = 0.6)\n",
    "plt.axis('off')\n",
    "plt.show()"
   ]
  },
  {
   "cell_type": "code",
   "execution_count": 112,
   "metadata": {},
   "outputs": [],
   "source": [
    "edge_list = [['AKT','BKECON'],['AKT','ROSNEF'],['AKT','RUSSIA'],['ALROSA','GAZPRU.Gneft'],['ALROSA','MBT'],\n",
    "             ['ALROSA','SBERBANK'],['BKECON','MBT'],['BOM','CITMOS'],['CITMOS','BKECON'],['GAZPRU','LUKOIL'],\n",
    "             ['GAZPRU','MBT'],['GAZPRU','RUSAGB'],['GAZPRU','VTB'],['GAZPRU.Gneft','VTB'],['MDMOJC','VTB'],\n",
    "             ['RUSAGB','RUSRAI'],['RUSAGB','VTB'],['RUSRAI','CITMOS'],['RUSRAI','LUKOIL'],['RUSSIA','GAZPRU'],\n",
    "             ['RUSSIA','SBERBANK']]"
   ]
  },
  {
   "cell_type": "code",
   "execution_count": 118,
   "metadata": {},
   "outputs": [],
   "source": [
    "rank = [1, 0.6698038, 0.4433951, 0.4200649, 0.2816123, 0.2684154, 0.2307972,\n",
    "        0.1967476, 0.1816893, 0.1766468, 0.1745053, 0.1320516, 0.1200967,\n",
    "        0.1145055, 0.1144015, 0.09896318, 0.08386627, 0.08007537]"
   ]
  },
  {
   "cell_type": "code",
   "execution_count": null,
   "metadata": {},
   "outputs": [],
   "source": [
    "entities = ['RUSSIA', 'GAZPRU', 'GAZPRU.Gneft', 'SBERBANK', 'ROSNEF', 'RUSRAI', 'ALROSA', 'BOM',\n",
    "          'AKT', 'BKECON', 'CITMOS', 'EVRGSA', 'LUKOIL', 'MBT', 'MDMOJC', 'RSBZAO', 'RUSAGB', 'VIP', 'VTB']"
   ]
  },
  {
   "cell_type": "code",
   "execution_count": 131,
   "metadata": {},
   "outputs": [],
   "source": [
    "dic = {'RUSSIA':1, 'CITMOS': 0.08386627, 'GAZPRU': 0.4433951, 'SBERBANK': 0.4200649, 'LUKOIL': 0.2816123,\n",
    "       'ROSNEF': 0.2684154, 'RUSAGB': 0.2307972, 'BKECON': 0.1967476, 'RUSRAI': 0.1816893,'AKT': 0.6698038,\n",
    "       'VTB': 0.1766468, 'GAZPRU.Gneft': 0.1745053, 'MBT': 0.1320516, 'ALROSA': 0.1200967,\n",
    "       'VIP': 0.1145055, 'MDMOJC': 0.1144015, 'BOM': 0.09896318, 'EVRGSA': 0.08007537}"
   ]
  },
  {
   "cell_type": "code",
   "execution_count": 175,
   "metadata": {},
   "outputs": [
    {
     "data": {
      "text/plain": [
       "<module 'utilities' from 'C:\\\\Users\\\\Javier\\\\Documents\\\\MEGA\\\\Universitattt\\\\Master\\\\Thesis\\\\Code\\\\my_code\\\\utilities.py'>"
      ]
     },
     "execution_count": 175,
     "metadata": {},
     "output_type": "execute_result"
    }
   ],
   "source": [
    "reload(ut)"
   ]
  },
  {
   "cell_type": "code",
   "execution_count": 176,
   "metadata": {},
   "outputs": [
    {
     "name": "stderr",
     "output_type": "stream",
     "text": [
      "c:\\users\\javier\\anaconda3\\lib\\site-packages\\matplotlib\\collections.py:902: RuntimeWarning:\n",
      "\n",
      "invalid value encountered in sqrt\n",
      "\n"
     ]
    },
    {
     "data": {
      "image/png": "[encoded data removed]",
      "text/plain": [
       "<Figure size 432x288 with 1 Axes>"
      ]
     },
     "metadata": {},
     "output_type": "display_data"
    }
   ],
   "source": [
    "ut.draw_stressed_network(list(dic.keys()),list(dic.values()), edge_list)"
   ]
  },
  {
   "cell_type": "code",
   "execution_count": 137,
   "metadata": {},
   "outputs": [],
   "source": [
    "entities_list = list(dic.keys())"
   ]
  },
  {
   "cell_type": "code",
   "execution_count": 136,
   "metadata": {},
   "outputs": [],
   "source": [
    "rank = list(dic.values())"
   ]
  },
  {
   "cell_type": "code",
   "execution_count": 139,
   "metadata": {},
   "outputs": [],
   "source": [
    "size = np.size(entities_list)\n",
    "mst = pd.DataFrame(np.zeros((size,size)),index = entities_list,\n",
    "                                        columns = entities_list)\n",
    "for e in edge_list:\n",
    "    mst.loc[e[0],e[1]] = 1\n",
    "\n",
    "label_list = dict(enumerate(entities_list))\n",
    "reds = plt.get_cmap('Reds')\n",
    "nodes_list = []\n",
    "red_array = []\n",
    "for i,e in label_list.items():\n",
    "    if rank[i] == 1:\n",
    "        red_array.append(reds(0.99))\n",
    "    else:\n",
    "        red_array.append(reds(rank[i]))\n",
    "\n",
    "    nodes_list.append(e + '(' + str(rank[i])[0:4] + ')')"
   ]
  },
  {
   "cell_type": "code",
   "execution_count": 153,
   "metadata": {},
   "outputs": [],
   "source": [
    "h = nx.from_numpy_matrix(np.matrix(mst), create_using = nx.DiGraph())\n",
    "h2 = nx.from_numpy_matrix(np.matrix(mst))"
   ]
  },
  {
   "cell_type": "code",
   "execution_count": 155,
   "metadata": {},
   "outputs": [],
   "source": [
    "pos = nx.circular_layout(h)"
   ]
  },
  {
   "cell_type": "code",
   "execution_count": 157,
   "metadata": {},
   "outputs": [],
   "source": [
    "eigen_cen = nx.eigenvector_centrality_numpy(h)\n",
    "eigen_cen2 = nx.eigenvector_centrality_numpy(h2)"
   ]
  },
  {
   "cell_type": "code",
   "execution_count": null,
   "metadata": {},
   "outputs": [],
   "source": []
  }
 ],
 "metadata": {
  "kernelspec": {
   "display_name": "Python 3",
   "language": "python",
   "name": "python3"
  },
  "language_info": {
   "codemirror_mode": {
    "name": "ipython",
    "version": 3
   },
   "file_extension": ".py",
   "mimetype": "text/x-python",
   "name": "python",
   "nbconvert_exporter": "python",
   "pygments_lexer": "ipython3",
   "version": "3.6.4"
  }
 },
 "nbformat": 4,
 "nbformat_minor": 2
}
