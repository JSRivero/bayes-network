{
 "cells": [
  {
   "cell_type": "code",
   "execution_count": 3,
   "metadata": {},
   "outputs": [],
   "source": [
    "import numpy as np\n",
    "import pandas as pd\n",
    "import os\n",
    "from matplotlib import pyplot as plt\n",
    "import utilities as ut\n",
    "from scipy.stats import normaltest\n",
    "import datetime as dt\n",
    "import seaborn as sns\n",
    "import networkx as nx"
   ]
  },
  {
   "cell_type": "code",
   "execution_count": null,
   "metadata": {},
   "outputs": [],
   "source": [
    "path_read = r'C:\\Users\\Javier\\Documents\\MEGA\\Universitattt\\Master\\Thesis\\Results\\Probabilities'\n"
   ]
  },
  {
   "cell_type": "code",
   "execution_count": 1,
   "metadata": {},
   "outputs": [],
   "source": [
    "dic_count = {'RUSSIA':'Government of the Russian Federation',\n",
    "'AKT':'Oil Transporting Jt Stk Co Transneft',\n",
    "'BKECON':'Vnesheconombank',\n",
    "'BOM':'Bank of Moscow OJSC',\n",
    "'CITMOS':'City Moscow',\n",
    "'GAZPRU':'GAZPROM PJSC',\n",
    "'GAZPRU.Gneft':'JSC Gazprom Neft',\n",
    "'LUKOIL':'LUKOIL PJSC',\n",
    "'MBT':'Mobile Telesystems',\n",
    "'MDMOJC':'MDM Bank JSC',\n",
    "'ALROSA':'ALROSA Company Ltd',\n",
    "'ROSNEF':'Rosneftegaz OJSC',\n",
    "'RSBZAO':'Jt Stk Co Russian Standard Bk',\n",
    "'RUSAGB':'Joint-stock company Russian Agricultural Bank',\n",
    "'RUSRAI':'JSC Russian Railways',\n",
    "'SBERBANK':'Sberbank of Russia',\n",
    "'VIP':'VimpelCom Ltd.',\n",
    "'VTB':'VTB Bank (public joint-stock company)'}"
   ]
  },
  {
   "cell_type": "code",
   "execution_count": 2,
   "metadata": {},
   "outputs": [
    {
     "name": "stdout",
     "output_type": "stream",
     "text": [
      "'Government of the Russian Federation':'RUSSIA','Oil Transporting Jt Stk Co Transneft':'AKT','Vnesheconombank':'BKECON','Bank of Moscow OJSC':'BOM','City Moscow':'CITMOS','GAZPROM PJSC':'GAZPRU','JSC Gazprom Neft':'GAZPRU.Gneft','LUKOIL PJSC':'LUKOIL','Mobile Telesystems':'MBT','MDM Bank JSC':'MDMOJC','ALROSA Company Ltd':'ALROSA','Rosneftegaz OJSC':'ROSNEF','Jt Stk Co Russian Standard Bk':'RSBZAO','Joint-stock company Russian Agricultural Bank':'RUSAGB','JSC Russian Railways':'RUSRAI','Sberbank of Russia':'SBERBANK','VimpelCom Ltd.':'VIP','VTB Bank (public joint-stock company)':'VTB',"
     ]
    }
   ],
   "source": [
    "for k,v in dic_count.items():\n",
    "    print(\"'\",end = '')\n",
    "    print(v,end = \"':'\")\n",
    "    print(k,end=\"',\")"
   ]
  },
  {
   "cell_type": "code",
   "execution_count": 14,
   "metadata": {},
   "outputs": [],
   "source": [
    "dic = {'Government of the Russian Federation':'RUSSIA','Oil Transporting Jt Stk Co Transneft':'AKT',\n",
    "    'Vnesheconombank':'BKECON','Bank of Moscow OJSC':'BOM','City Moscow':'CITMOS','GAZPROM PJSC':'GAZPRU',\n",
    "    'JSC Gazprom Neft':'GAZPRU.Gneft','LUKOIL PJSC':'LUKOIL','Mobile Telesystems':'MBT',\n",
    "    'MDM Bank JSC':'MDMOJC','ALROSA Company Ltd':'ALROSA','Rosneftegaz OJSC':'ROSNEF',\n",
    "    'Jt Stk Co Russian Standard Bk':'RSBZAO','Joint-stock company Russian Agricultural Bank':'RUSAGB',\n",
    "    'JSC Russian Railways':'RUSRAI','Sberbank of Russia':'SBERBANK','VimpelCom Ltd.':'VIP','VTB Bank (public joint-stock company)':'VTB'}"
   ]
  },
  {
   "cell_type": "code",
   "execution_count": 7,
   "metadata": {},
   "outputs": [],
   "source": [
    "path_countryrank = r'C:\\Users\\Javier\\Documents\\MEGA\\Universitattt\\Master\\Thesis\\CDS_data\\factor_model\\Ioannis'\n",
    "port_a = pd.read_csv(os.path.join(path_countryrank, 'PortfolioA.csv'),index_col = 1)"
   ]
  },
  {
   "cell_type": "code",
   "execution_count": 15,
   "metadata": {},
   "outputs": [],
   "source": [
    "for i in port_a.index:\n",
    "    port_a.loc[i,'Ticker'] = dic[i]"
   ]
  },
  {
   "cell_type": "code",
   "execution_count": 19,
   "metadata": {},
   "outputs": [],
   "source": [
    "port_a = port_a[['Ticker','gamma']]"
   ]
  },
  {
   "cell_type": "code",
   "execution_count": 54,
   "metadata": {
    "scrolled": false
   },
   "outputs": [
    {
     "name": "stdout",
     "output_type": "stream",
     "text": [
      "portfolio_10_delay_1.csv\n",
      "portfolio_10_delay_2.csv\n",
      "portfolio_10_delay_3.csv\n",
      "portfolio_10_delay_1_5.csv\n",
      "portfolio_10_delay_2_5.csv\n",
      "portfolio_10_delay_3_5.csv\n",
      "portfolio_15_delay_1.csv\n",
      "portfolio_15_delay_2.csv\n",
      "portfolio_15_delay_3.csv\n",
      "portfolio_15_delay_1_5.csv\n",
      "portfolio_15_delay_2_5.csv\n",
      "portfolio_15_delay_3_5.csv\n",
      "portfolio_20_delay_1.csv\n",
      "portfolio_20_delay_2.csv\n",
      "portfolio_20_delay_3.csv\n",
      "portfolio_20_delay_1_5.csv\n",
      "portfolio_20_delay_2_5.csv\n",
      "portfolio_20_delay_3_5.csv\n"
     ]
    },
    {
     "name": "stderr",
     "output_type": "stream",
     "text": [
      "c:\\users\\javier\\anaconda3\\lib\\site-packages\\ipykernel_launcher.py:9: FutureWarning:\n",
      "\n",
      "Sorting because non-concatenation axis is not aligned. A future version\n",
      "of pandas will change to not sort by default.\n",
      "\n",
      "To accept the future behavior, pass 'sort=True'.\n",
      "\n",
      "To retain the current behavior and silence the warning, pass sort=False\n",
      "\n",
      "\n"
     ]
    }
   ],
   "source": [
    "path = r'C:\\Users\\Javier\\Documents\\MEGA\\Universitattt\\Master\\Thesis\\CDS_data\\factor_model\\compare_period'\n",
    "for folder in os.listdir(path):\n",
    "    aux = port_a[['Ticker','gamma']]\n",
    "    for file in [f for f in os.listdir(os.path.join(path,folder)) if f.startswith('portfolio')]:\n",
    "        df = pd.read_csv(os.path.join(path,folder,file),index_col = 0)\n",
    "        print(file)\n",
    "        num = [s for s in file.replace('.csv','').split('_') if s.isdigit()]\n",
    "        df.rename(columns = {'gamma':'gamma '+str(num[1])+' days'}, inplace = True)\n",
    "        aux = pd.concat([aux, df['gamma '+str(num[1])+' days']], axis = 1)\n",
    "    aux.sort_values(by = 'gamma', ascending = False, inplace = True)\n",
    "    aux.loc['Mean','Ticker'] = '-'\n",
    "    aux.iloc[-1,1:] = np.mean(aux)\n",
    "    aux.to_csv(os.path.join(path,folder, 'comparisons_'+str(num[0]+'.csv')))"
   ]
  },
  {
   "cell_type": "code",
   "execution_count": 46,
   "metadata": {},
   "outputs": [],
   "source": [
    "aux.sort_values(by = 'gamma', ascending = False, inplace = True)"
   ]
  },
  {
   "cell_type": "code",
   "execution_count": 48,
   "metadata": {},
   "outputs": [],
   "source": [
    "aux.loc['Mean','Ticker'] = '_'"
   ]
  },
  {
   "cell_type": "code",
   "execution_count": 51,
   "metadata": {},
   "outputs": [],
   "source": [
    "aux.iloc[-1,1:] = np.mean(aux)"
   ]
  },
  {
   "cell_type": "code",
   "execution_count": 52,
   "metadata": {},
   "outputs": [
    {
     "data": {
      "text/html": [
       "<div>\n",
       "<style scoped>\n",
       "    .dataframe tbody tr th:only-of-type {\n",
       "        vertical-align: middle;\n",
       "    }\n",
       "\n",
       "    .dataframe tbody tr th {\n",
       "        vertical-align: top;\n",
       "    }\n",
       "\n",
       "    .dataframe thead th {\n",
       "        text-align: right;\n",
       "    }\n",
       "</style>\n",
       "<table border=\"1\" class=\"dataframe\">\n",
       "  <thead>\n",
       "    <tr style=\"text-align: right;\">\n",
       "      <th></th>\n",
       "      <th>Ticker</th>\n",
       "      <th>gamma</th>\n",
       "      <th>gamma 1</th>\n",
       "      <th>gamma 2</th>\n",
       "      <th>gamma 3</th>\n",
       "    </tr>\n",
       "  </thead>\n",
       "  <tbody>\n",
       "    <tr>\n",
       "      <th>Government of the Russian Federation</th>\n",
       "      <td>RUSSIA</td>\n",
       "      <td>1.000000</td>\n",
       "      <td>1.000000</td>\n",
       "      <td>1.000000</td>\n",
       "      <td>1.000000</td>\n",
       "    </tr>\n",
       "    <tr>\n",
       "      <th>GAZPROM PJSC</th>\n",
       "      <td>GAZPRU</td>\n",
       "      <td>0.750000</td>\n",
       "      <td>0.556979</td>\n",
       "      <td>0.607790</td>\n",
       "      <td>0.634570</td>\n",
       "    </tr>\n",
       "    <tr>\n",
       "      <th>Joint-stock company Russian Agricultural Bank</th>\n",
       "      <td>RUSAGB</td>\n",
       "      <td>0.750000</td>\n",
       "      <td>0.286148</td>\n",
       "      <td>0.389326</td>\n",
       "      <td>0.426433</td>\n",
       "    </tr>\n",
       "    <tr>\n",
       "      <th>Bank of Moscow OJSC</th>\n",
       "      <td>BOM</td>\n",
       "      <td>0.750000</td>\n",
       "      <td>0.117074</td>\n",
       "      <td>0.174311</td>\n",
       "      <td>0.391760</td>\n",
       "    </tr>\n",
       "    <tr>\n",
       "      <th>Sberbank of Russia</th>\n",
       "      <td>SBERBANK</td>\n",
       "      <td>0.708333</td>\n",
       "      <td>0.120606</td>\n",
       "      <td>0.351299</td>\n",
       "      <td>0.478377</td>\n",
       "    </tr>\n",
       "    <tr>\n",
       "      <th>VTB Bank (public joint-stock company)</th>\n",
       "      <td>VTB</td>\n",
       "      <td>0.666667</td>\n",
       "      <td>0.147343</td>\n",
       "      <td>0.299534</td>\n",
       "      <td>0.273384</td>\n",
       "    </tr>\n",
       "    <tr>\n",
       "      <th>JSC Gazprom Neft</th>\n",
       "      <td>GAZPRU.Gneft</td>\n",
       "      <td>0.625000</td>\n",
       "      <td>0.607227</td>\n",
       "      <td>0.501897</td>\n",
       "      <td>0.568828</td>\n",
       "    </tr>\n",
       "    <tr>\n",
       "      <th>JSC Russian Railways</th>\n",
       "      <td>RUSRAI</td>\n",
       "      <td>0.583333</td>\n",
       "      <td>0.423341</td>\n",
       "      <td>0.565287</td>\n",
       "      <td>0.436614</td>\n",
       "    </tr>\n",
       "    <tr>\n",
       "      <th>Rosneftegaz OJSC</th>\n",
       "      <td>ROSNEF</td>\n",
       "      <td>0.583333</td>\n",
       "      <td>0.283983</td>\n",
       "      <td>0.469213</td>\n",
       "      <td>0.542764</td>\n",
       "    </tr>\n",
       "    <tr>\n",
       "      <th>ALROSA Company Ltd</th>\n",
       "      <td>ALROSA</td>\n",
       "      <td>0.541667</td>\n",
       "      <td>0.098709</td>\n",
       "      <td>0.134212</td>\n",
       "      <td>0.160255</td>\n",
       "    </tr>\n",
       "    <tr>\n",
       "      <th>Oil Transporting Jt Stk Co Transneft</th>\n",
       "      <td>AKT</td>\n",
       "      <td>0.541667</td>\n",
       "      <td>0.405280</td>\n",
       "      <td>0.388298</td>\n",
       "      <td>0.600489</td>\n",
       "    </tr>\n",
       "    <tr>\n",
       "      <th>LUKOIL PJSC</th>\n",
       "      <td>LUKOIL</td>\n",
       "      <td>0.541667</td>\n",
       "      <td>0.124253</td>\n",
       "      <td>0.249785</td>\n",
       "      <td>0.370079</td>\n",
       "    </tr>\n",
       "    <tr>\n",
       "      <th>City Moscow</th>\n",
       "      <td>CITMOS</td>\n",
       "      <td>0.541667</td>\n",
       "      <td>0.282443</td>\n",
       "      <td>0.203129</td>\n",
       "      <td>0.266454</td>\n",
       "    </tr>\n",
       "    <tr>\n",
       "      <th>Vnesheconombank</th>\n",
       "      <td>BKECON</td>\n",
       "      <td>0.541667</td>\n",
       "      <td>0.206722</td>\n",
       "      <td>0.308681</td>\n",
       "      <td>0.519191</td>\n",
       "    </tr>\n",
       "    <tr>\n",
       "      <th>MDM Bank JSC</th>\n",
       "      <td>MDMOJC</td>\n",
       "      <td>0.500000</td>\n",
       "      <td>0.102480</td>\n",
       "      <td>0.111996</td>\n",
       "      <td>0.131893</td>\n",
       "    </tr>\n",
       "    <tr>\n",
       "      <th>Jt Stk Co Russian Standard Bk</th>\n",
       "      <td>RSBZAO</td>\n",
       "      <td>0.500000</td>\n",
       "      <td>0.124083</td>\n",
       "      <td>0.192021</td>\n",
       "      <td>0.251843</td>\n",
       "    </tr>\n",
       "    <tr>\n",
       "      <th>Mobile Telesystems</th>\n",
       "      <td>MBT</td>\n",
       "      <td>0.458333</td>\n",
       "      <td>0.065479</td>\n",
       "      <td>0.100316</td>\n",
       "      <td>0.188711</td>\n",
       "    </tr>\n",
       "    <tr>\n",
       "      <th>VimpelCom Ltd.</th>\n",
       "      <td>VIP</td>\n",
       "      <td>0.416667</td>\n",
       "      <td>0.109363</td>\n",
       "      <td>0.183521</td>\n",
       "      <td>0.210738</td>\n",
       "    </tr>\n",
       "    <tr>\n",
       "      <th>Mean</th>\n",
       "      <td>_</td>\n",
       "      <td>0.611111</td>\n",
       "      <td>0.281195</td>\n",
       "      <td>0.346145</td>\n",
       "      <td>0.414021</td>\n",
       "    </tr>\n",
       "  </tbody>\n",
       "</table>\n",
       "</div>"
      ],
      "text/plain": [
       "                                                     Ticker     gamma  \\\n",
       "Government of the Russian Federation                 RUSSIA  1.000000   \n",
       "GAZPROM PJSC                                         GAZPRU  0.750000   \n",
       "Joint-stock company Russian Agricultural Bank        RUSAGB  0.750000   \n",
       "Bank of Moscow OJSC                                     BOM  0.750000   \n",
       "Sberbank of Russia                                 SBERBANK  0.708333   \n",
       "VTB Bank (public joint-stock company)                   VTB  0.666667   \n",
       "JSC Gazprom Neft                               GAZPRU.Gneft  0.625000   \n",
       "JSC Russian Railways                                 RUSRAI  0.583333   \n",
       "Rosneftegaz OJSC                                     ROSNEF  0.583333   \n",
       "ALROSA Company Ltd                                   ALROSA  0.541667   \n",
       "Oil Transporting Jt Stk Co Transneft                    AKT  0.541667   \n",
       "LUKOIL PJSC                                          LUKOIL  0.541667   \n",
       "City Moscow                                          CITMOS  0.541667   \n",
       "Vnesheconombank                                      BKECON  0.541667   \n",
       "MDM Bank JSC                                         MDMOJC  0.500000   \n",
       "Jt Stk Co Russian Standard Bk                        RSBZAO  0.500000   \n",
       "Mobile Telesystems                                      MBT  0.458333   \n",
       "VimpelCom Ltd.                                          VIP  0.416667   \n",
       "Mean                                                      _  0.611111   \n",
       "\n",
       "                                                gamma 1   gamma 2   gamma 3  \n",
       "Government of the Russian Federation           1.000000  1.000000  1.000000  \n",
       "GAZPROM PJSC                                   0.556979  0.607790  0.634570  \n",
       "Joint-stock company Russian Agricultural Bank  0.286148  0.389326  0.426433  \n",
       "Bank of Moscow OJSC                            0.117074  0.174311  0.391760  \n",
       "Sberbank of Russia                             0.120606  0.351299  0.478377  \n",
       "VTB Bank (public joint-stock company)          0.147343  0.299534  0.273384  \n",
       "JSC Gazprom Neft                               0.607227  0.501897  0.568828  \n",
       "JSC Russian Railways                           0.423341  0.565287  0.436614  \n",
       "Rosneftegaz OJSC                               0.283983  0.469213  0.542764  \n",
       "ALROSA Company Ltd                             0.098709  0.134212  0.160255  \n",
       "Oil Transporting Jt Stk Co Transneft           0.405280  0.388298  0.600489  \n",
       "LUKOIL PJSC                                    0.124253  0.249785  0.370079  \n",
       "City Moscow                                    0.282443  0.203129  0.266454  \n",
       "Vnesheconombank                                0.206722  0.308681  0.519191  \n",
       "MDM Bank JSC                                   0.102480  0.111996  0.131893  \n",
       "Jt Stk Co Russian Standard Bk                  0.124083  0.192021  0.251843  \n",
       "Mobile Telesystems                             0.065479  0.100316  0.188711  \n",
       "VimpelCom Ltd.                                 0.109363  0.183521  0.210738  \n",
       "Mean                                           0.281195  0.346145  0.414021  "
      ]
     },
     "execution_count": 52,
     "metadata": {},
     "output_type": "execute_result"
    }
   ],
   "source": [
    "aux"
   ]
  },
  {
   "cell_type": "code",
   "execution_count": 60,
   "metadata": {},
   "outputs": [],
   "source": [
    "df = pd.read_csv(r'C:\\Users\\Javier\\Documents\\MEGA\\Universitattt\\Master\\Thesis\\Results\\Capital_periods\\comp.csv', index_col = 0)"
   ]
  },
  {
   "cell_type": "code",
   "execution_count": 61,
   "metadata": {},
   "outputs": [
    {
     "name": "stdout",
     "output_type": "stream",
     "text": [
      "[1115153.28008921 1443009.11122655 2276912.39129326 3420615.94694032]\n",
      "[1162329.05787076 1696356.83569126 3051125.05802187 4446963.10904212]\n",
      "[1172175.77787155 1772004.83569732 3389979.44738427 4968393.28039747]\n",
      "[1219351.5556531  1935971.77793266 3749041.72474437 5150985.72485652]\n",
      "[1115153.28008921 1443579.05789326 2276912.39129326 3408023.05805042]\n",
      "[1162329.05787076 1683194.00013466 3003379.3335736  4446958.39146687]\n",
      "[1162329.05787076 1771434.8890306  3379550.83582592 4775388.88684618]\n",
      "[1190879.3334286  1841620.22236955 3524814.22250421 5015569.05817902]\n",
      "[1115153.28008921 1443579.05789326 2292869.77796121 3553286.71934545]\n",
      "[1162329.05787076 1683194.00013466 3003949.28024032 4493564.27957634]\n",
      "[1219351.5556531  1813069.94681171 3408035.65094137 4968393.28039747]\n",
      "[1232514.39120971 1935971.77793266 3707976.61362997 5056634.16929342]\n"
     ]
    }
   ],
   "source": [
    "for i in df.index:\n",
    "    u = df.loc[i,:].values\n",
    "    print(u)"
   ]
  },
  {
   "cell_type": "code",
   "execution_count": 63,
   "metadata": {},
   "outputs": [
    {
     "name": "stdout",
     "output_type": "stream",
     "text": [
      "['10', '10_1', '10_2', '10_3']\n",
      "['15', '15_1', '15_2', '15_3']\n",
      "['20', '20_1', '20_2', '20_3']\n"
     ]
    }
   ],
   "source": [
    "for time in [10,15,20]:\n",
    "    print([i for i in df.index if str(time) in i])"
   ]
  },
  {
   "cell_type": "code",
   "execution_count": null,
   "metadata": {},
   "outputs": [],
   "source": []
  }
 ],
 "metadata": {
  "kernelspec": {
   "display_name": "Python 3",
   "language": "python",
   "name": "python3"
  },
  "language_info": {
   "codemirror_mode": {
    "name": "ipython",
    "version": 3
   },
   "file_extension": ".py",
   "mimetype": "text/x-python",
   "name": "python",
   "nbconvert_exporter": "python",
   "pygments_lexer": "ipython3",
   "version": "3.6.4"
  }
 },
 "nbformat": 4,
 "nbformat_minor": 2
}
